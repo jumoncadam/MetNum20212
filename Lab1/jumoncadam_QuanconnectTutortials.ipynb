{
  "nbformat": 4,
  "nbformat_minor": 0,
  "metadata": {
    "colab": {
      "name": "jumoncadam_QuanconnectTutortials.ipynb",
      "provenance": [],
      "collapsed_sections": []
    },
    "kernelspec": {
      "display_name": "Python 3",
      "language": "python",
      "name": "python3"
    },
    "language_info": {
      "codemirror_mode": {
        "name": "ipython",
        "version": 3
      },
      "file_extension": ".py",
      "mimetype": "text/x-python",
      "name": "python",
      "nbconvert_exporter": "python",
      "pygments_lexer": "ipython3",
      "version": "3.6.4"
    }
  },
  "cells": [
    {
      "cell_type": "markdown",
      "metadata": {
        "id": "eQzBbvyKQymx"
      },
      "source": [
        "<div align=\"center\">\n",
        "<img style=\"display: block; margin: auto;\" alt=\"photo\" src=\"https://cdn.quantconnect.com/web/i/icon.png\">\n",
        "\n",
        "Quantconnect\n",
        "\n",
        "Introduction to Financial Python\n",
        "</div>\n",
        "\n",
        "# 01 Data Types and Data Structures\n",
        "\n",
        "# Introduction\n",
        "\n",
        "This tutorial provides a basic introduction to the Python programming language. If you are new to Python, you should run the code snippets while reading this tutorial. If you are an advanced Python user, please feel free to skip this chapter.\n",
        "\n",
        "# Basic Variable Types\n",
        "The basic types of variables in Python are: strings, integers, floating point numbers and booleans.\n",
        "\n",
        "Strings in python are identified as a contiguous set of characters represented in either single quotes (' ') or double quotes (\" \").\n"
      ]
    },
    {
      "cell_type": "code",
      "metadata": {
        "colab": {
          "base_uri": "https://localhost:8080/"
        },
        "id": "N5t-UrcfOqid",
        "outputId": "3df1ee12-fa41-4fd4-d902-33c792185da5"
      },
      "source": [
        "my_string1 = 'Welcome to'\n",
        "my_string2 = \"QuantConnect\"\n",
        "print(my_string1 + ' ' + my_string2)"
      ],
      "execution_count": 1,
      "outputs": [
        {
          "output_type": "stream",
          "name": "stdout",
          "text": [
            "Welcome to QuantConnect\n"
          ]
        }
      ]
    },
    {
      "cell_type": "code",
      "metadata": {
        "colab": {
          "base_uri": "https://localhost:8080/"
        },
        "id": "0hG055_0GRBk",
        "outputId": "6aef9543-96ce-4c49-ae26-3440901a052a"
      },
      "source": [
        "#ejemplo 1\n",
        "my_string1 = 'Welcome to'\n",
        "my_string2 = \"numerical methods class\"\n",
        "print(my_string1 + ' ' + my_string2)"
      ],
      "execution_count": 192,
      "outputs": [
        {
          "output_type": "stream",
          "name": "stdout",
          "text": [
            "Welcome to numerical methods class\n"
          ]
        }
      ]
    },
    {
      "cell_type": "markdown",
      "metadata": {
        "id": "bXHnxZyHSd1M"
      },
      "source": [
        "An integer is a round number with no values after the decimal point."
      ]
    },
    {
      "cell_type": "code",
      "metadata": {
        "colab": {
          "base_uri": "https://localhost:8080/"
        },
        "id": "pNjuz3toOqif",
        "outputId": "fe732423-e510-4173-d006-f26f1ca54cbb"
      },
      "source": [
        "my_int = 10\n",
        "print(my_int)\n",
        "print(type(my_int))"
      ],
      "execution_count": 193,
      "outputs": [
        {
          "output_type": "stream",
          "name": "stdout",
          "text": [
            "10\n",
            "<class 'int'>\n"
          ]
        }
      ]
    },
    {
      "cell_type": "code",
      "metadata": {
        "colab": {
          "base_uri": "https://localhost:8080/"
        },
        "id": "OtIuvATgIBsC",
        "outputId": "6374bb59-32fd-4e09-c3ea-ebda33d70886"
      },
      "source": [
        "#ejemplo 2\n",
        "my_int = 1007\n",
        "print(my_int)\n",
        "print(type(my_int))"
      ],
      "execution_count": 41,
      "outputs": [
        {
          "output_type": "stream",
          "name": "stdout",
          "text": [
            "1007\n",
            "<class 'int'>\n"
          ]
        }
      ]
    },
    {
      "cell_type": "markdown",
      "metadata": {
        "id": "_1ZanWrYSnzF"
      },
      "source": [
        "The built-in function int() can convert a string into an integer."
      ]
    },
    {
      "cell_type": "code",
      "metadata": {
        "colab": {
          "base_uri": "https://localhost:8080/"
        },
        "id": "zPwGb20FOqif",
        "outputId": "b9456692-7f5d-4c19-cb81-60ceb787a720"
      },
      "source": [
        "my_string = \"100\"\n",
        "print(type(my_string))\n",
        "my_int = int(my_string)\n",
        "print(type(my_int))"
      ],
      "execution_count": 194,
      "outputs": [
        {
          "output_type": "stream",
          "name": "stdout",
          "text": [
            "<class 'str'>\n",
            "<class 'int'>\n"
          ]
        }
      ]
    },
    {
      "cell_type": "code",
      "metadata": {
        "id": "Mh5TE_Jcjfcm",
        "colab": {
          "base_uri": "https://localhost:8080/"
        },
        "outputId": "234328af-7438-4ff7-d559-ff56f165812f"
      },
      "source": [
        "#ejemplo 3\n",
        "my_string = \"7010\"\n",
        "print(type(my_string))\n",
        "my_int = int(my_string)\n",
        "print(type(my_int))"
      ],
      "execution_count": 42,
      "outputs": [
        {
          "output_type": "stream",
          "name": "stdout",
          "text": [
            "<class 'str'>\n",
            "<class 'int'>\n"
          ]
        }
      ]
    },
    {
      "cell_type": "markdown",
      "metadata": {
        "id": "WqMDPDTHSrE9"
      },
      "source": [
        "A floating point number, or a float, is a real number in mathematics. In Python we need to include a value after a decimal point to define it as a float"
      ]
    },
    {
      "cell_type": "code",
      "metadata": {
        "colab": {
          "base_uri": "https://localhost:8080/"
        },
        "id": "otCzKKW9Oqig",
        "outputId": "ec8742a0-a999-4844-9474-4034582ed435"
      },
      "source": [
        "my_string = \"100\"\n",
        "my_float = float(my_string)\n",
        "print(type(my_float))"
      ],
      "execution_count": 195,
      "outputs": [
        {
          "output_type": "stream",
          "name": "stdout",
          "text": [
            "<class 'float'>\n"
          ]
        }
      ]
    },
    {
      "cell_type": "code",
      "metadata": {
        "colab": {
          "base_uri": "https://localhost:8080/"
        },
        "id": "1yILlYkNjtHP",
        "outputId": "525dcaa7-9bac-4a01-f187-e05bb2bd14f2"
      },
      "source": [
        "#ejemplo 4\n",
        "my_string = \"7010\"\n",
        "print(type(my_string))\n",
        "my_float = float(my_string)\n",
        "print(type(my_float))\n",
        "print(my_float)"
      ],
      "execution_count": 43,
      "outputs": [
        {
          "output_type": "stream",
          "name": "stdout",
          "text": [
            "<class 'str'>\n",
            "<class 'float'>\n",
            "7010.0\n"
          ]
        }
      ]
    },
    {
      "cell_type": "markdown",
      "metadata": {
        "id": "2iuyv8Q7StTJ"
      },
      "source": [
        "As you can see above, if we don't include a decimal value, the variable would be defined as an integer. The built-in function float() can convert a string or an integer into a float."
      ]
    },
    {
      "cell_type": "code",
      "metadata": {
        "colab": {
          "base_uri": "https://localhost:8080/"
        },
        "id": "wwLw5VthOqig",
        "outputId": "8d02c540-cd58-4703-b8d5-3df094cb1096"
      },
      "source": [
        "my_bool = True\n",
        "print(my_bool)\n",
        "print(type(my_bool))"
      ],
      "execution_count": 196,
      "outputs": [
        {
          "output_type": "stream",
          "name": "stdout",
          "text": [
            "True\n",
            "<class 'bool'>\n"
          ]
        }
      ]
    },
    {
      "cell_type": "code",
      "metadata": {
        "colab": {
          "base_uri": "https://localhost:8080/"
        },
        "id": "VF8gOvxzvMHU",
        "outputId": "e3001e95-97d0-4efc-a0a9-79b56b1a36c7"
      },
      "source": [
        "#ejemplo 5\n",
        "my_bool = False\n",
        "print(my_bool)\n",
        "print(type(my_bool))"
      ],
      "execution_count": 44,
      "outputs": [
        {
          "output_type": "stream",
          "name": "stdout",
          "text": [
            "False\n",
            "<class 'bool'>\n"
          ]
        }
      ]
    },
    {
      "cell_type": "markdown",
      "metadata": {
        "id": "bnGMwH21Szr_"
      },
      "source": [
        "A boolean, or bool, is a binary variable. Its value can only be True or False. It is useful when we do some logic operations, which would be covered in our next chapter."
      ]
    },
    {
      "cell_type": "code",
      "metadata": {
        "colab": {
          "base_uri": "https://localhost:8080/"
        },
        "id": "DMa6pDl5Oqig",
        "outputId": "f3375338-1dfa-4bb3-987d-fa74346ac6ec"
      },
      "source": [
        "print(\"Addition \", 1+1)\n",
        "print(\"Subtraction \", 5-2)\n",
        "print(\"Multiplication \", 2*3)\n",
        "print(\"Division \", 10/2)\n",
        "print('exponent', 2**3)"
      ],
      "execution_count": 197,
      "outputs": [
        {
          "output_type": "stream",
          "name": "stdout",
          "text": [
            "Addition  2\n",
            "Subtraction  3\n",
            "Multiplication  6\n",
            "Division  5.0\n",
            "exponent 8\n"
          ]
        }
      ]
    },
    {
      "cell_type": "code",
      "metadata": {
        "colab": {
          "base_uri": "https://localhost:8080/"
        },
        "id": "7hLCyV_EwjLo",
        "outputId": "a6d41efd-20a1-422d-cecf-1eb76403e70f"
      },
      "source": [
        "#ejemplo 6\n",
        "print(\"Addition \", 100+7)\n",
        "print(\"Subtraction \", 7-100)\n",
        "print(\"Multiplication \", 7*10)\n",
        "print(\"Division \", 10/7)\n",
        "print('exponent', 7**10)"
      ],
      "execution_count": 45,
      "outputs": [
        {
          "output_type": "stream",
          "name": "stdout",
          "text": [
            "Addition  107\n",
            "Subtraction  -93\n",
            "Multiplication  70\n",
            "Division  1.4285714285714286\n",
            "exponent 282475249\n"
          ]
        }
      ]
    },
    {
      "cell_type": "markdown",
      "metadata": {
        "id": "1Xc9G9_sS2ju"
      },
      "source": [
        "# Basic Math Operations\n",
        "\n",
        "The basic math operators in python are demonstrated below:"
      ]
    },
    {
      "cell_type": "code",
      "metadata": {
        "colab": {
          "base_uri": "https://localhost:8080/"
        },
        "id": "KE9gUryAOqig",
        "outputId": "5f86edd8-445f-424e-9ea9-acf9e8d916d5"
      },
      "source": [
        "print(7/10)\n",
        "print(1.0/3)"
      ],
      "execution_count": 198,
      "outputs": [
        {
          "output_type": "stream",
          "name": "stdout",
          "text": [
            "0.7\n",
            "0.3333333333333333\n"
          ]
        }
      ]
    },
    {
      "cell_type": "code",
      "metadata": {
        "colab": {
          "base_uri": "https://localhost:8080/"
        },
        "id": "UkmK-c99xAxW",
        "outputId": "ea5b8f21-87df-47d3-fde8-5e334afad51e"
      },
      "source": [
        "#ejemplo 7\n",
        "print(8/100)\n",
        "print(5/3)"
      ],
      "execution_count": 46,
      "outputs": [
        {
          "output_type": "stream",
          "name": "stdout",
          "text": [
            "0.08\n",
            "1.6666666666666667\n"
          ]
        }
      ]
    },
    {
      "cell_type": "markdown",
      "metadata": {
        "id": "AN5Oa3DoS_Nf"
      },
      "source": [
        "# Data Collections\n",
        "\n",
        "## List\n",
        "A list is an ordered collection of values. A list is mutable, which means you can change a list's value without changing the list itself. Creating a list is simply putting different comma-separated values between square brackets."
      ]
    },
    {
      "cell_type": "code",
      "metadata": {
        "colab": {
          "base_uri": "https://localhost:8080/"
        },
        "id": "-tQdNqCvOqig",
        "outputId": "69f17091-6180-45ff-a80c-6fb5599fa380"
      },
      "source": [
        "my_list = ['Quant', 'Connect', 1,2,3]\n",
        "print(my_list)"
      ],
      "execution_count": 199,
      "outputs": [
        {
          "output_type": "stream",
          "name": "stdout",
          "text": [
            "['Quant', 'Connect', 1, 2, 3]\n"
          ]
        }
      ]
    },
    {
      "cell_type": "code",
      "metadata": {
        "colab": {
          "base_uri": "https://localhost:8080/"
        },
        "id": "l9GrnodZxvzP",
        "outputId": "66b487dc-4017-42c8-be52-0caa4c6b6b23"
      },
      "source": [
        "#ejemplo 8\n",
        "my_list = ['metodos', 'numericos', 7,10,2000]\n",
        "print(my_list)"
      ],
      "execution_count": 47,
      "outputs": [
        {
          "output_type": "stream",
          "name": "stdout",
          "text": [
            "['metodos', 'numericos', 7, 10, 2000]\n"
          ]
        }
      ]
    },
    {
      "cell_type": "markdown",
      "metadata": {
        "id": "1O0TsgZCTHrM"
      },
      "source": [
        "The values in a list are called \"elements\". We can access list elements by indexing. Python index starts from 0. So if you have a list of length n, the index of the first element will be 0, and that of the last element will be n − 1. By the way, the length of a list can be obtained by the built-in function len()."
      ]
    },
    {
      "cell_type": "code",
      "metadata": {
        "colab": {
          "base_uri": "https://localhost:8080/"
        },
        "id": "QhuVhRR5Oqih",
        "outputId": "801d8e11-2474-4891-89e4-b6f9d097ad65"
      },
      "source": [
        "my_list = ['Quant', 'Connect', 1,2,3]\n",
        "print(len(my_list))\n",
        "print(my_list[0])\n",
        "print(my_list[len(my_list) -1])"
      ],
      "execution_count": 200,
      "outputs": [
        {
          "output_type": "stream",
          "name": "stdout",
          "text": [
            "5\n",
            "Quant\n",
            "3\n"
          ]
        }
      ]
    },
    {
      "cell_type": "code",
      "metadata": {
        "colab": {
          "base_uri": "https://localhost:8080/"
        },
        "id": "F_0LiDuyyMNZ",
        "outputId": "790458dc-8761-4d2a-d95a-317fa19474cc"
      },
      "source": [
        "#ejemplo 9\n",
        "my_list = ['metodos', 'numericos', 7,10,2000]\n",
        "print(len(my_list))\n",
        "print(my_list[0])\n",
        "print(my_list[len(my_list) -1])\n",
        "print(my_list[4])"
      ],
      "execution_count": 48,
      "outputs": [
        {
          "output_type": "stream",
          "name": "stdout",
          "text": [
            "5\n",
            "metodos\n",
            "2000\n",
            "2000\n"
          ]
        }
      ]
    },
    {
      "cell_type": "markdown",
      "metadata": {
        "id": "jgSZy1VGTKSc"
      },
      "source": [
        "You can also change the elements in the list by accessing an index and assigning a new value."
      ]
    },
    {
      "cell_type": "code",
      "metadata": {
        "colab": {
          "base_uri": "https://localhost:8080/"
        },
        "id": "NQBNLjAvOqih",
        "outputId": "be57f01a-8d5c-4c4d-f3cf-84e5ca1a3196"
      },
      "source": [
        "my_list = ['Quant','Connect',1,2,3]\n",
        "my_list[2] = 'go'\n",
        "print(my_list)"
      ],
      "execution_count": 201,
      "outputs": [
        {
          "output_type": "stream",
          "name": "stdout",
          "text": [
            "['Quant', 'Connect', 'go', 2, 3]\n"
          ]
        }
      ]
    },
    {
      "cell_type": "code",
      "metadata": {
        "colab": {
          "base_uri": "https://localhost:8080/"
        },
        "id": "G_SG-hW0yoMb",
        "outputId": "a8e583b2-f0b7-4c12-d5df-fca1e8ead837"
      },
      "source": [
        "#ejemplo 10\n",
        "my_list = ['metodos', 'numericos', 7,10,2000]\n",
        "my_list[2] = 'Julian Moncada'\n",
        "print(my_list)"
      ],
      "execution_count": 49,
      "outputs": [
        {
          "output_type": "stream",
          "name": "stdout",
          "text": [
            "['metodos', 'numericos', 'Julian Moncada', 10, 2000]\n"
          ]
        }
      ]
    },
    {
      "cell_type": "markdown",
      "metadata": {
        "id": "EQPs5ojoTVrk"
      },
      "source": [
        "A list can also be sliced with a colon:"
      ]
    },
    {
      "cell_type": "code",
      "metadata": {
        "colab": {
          "base_uri": "https://localhost:8080/"
        },
        "id": "keNX2RbtOqii",
        "outputId": "5a7d62fb-2132-4a01-f6c0-11c34cc3f679"
      },
      "source": [
        "my_list = ['Quant','Connect',1,2,3]\n",
        "print(my_list[1:3])"
      ],
      "execution_count": 202,
      "outputs": [
        {
          "output_type": "stream",
          "name": "stdout",
          "text": [
            "['Connect', 1]\n"
          ]
        }
      ]
    },
    {
      "cell_type": "code",
      "metadata": {
        "colab": {
          "base_uri": "https://localhost:8080/"
        },
        "id": "U1SxWggay7j9",
        "outputId": "58011fc0-1263-4ad5-8c62-c4420eaf56a9"
      },
      "source": [
        "#ejemplo 11\n",
        "my_list = ['metodos', 'numericos', 7,10,2000]\n",
        "print(my_list[3:5])"
      ],
      "execution_count": 50,
      "outputs": [
        {
          "output_type": "stream",
          "name": "stdout",
          "text": [
            "[10, 2000]\n"
          ]
        }
      ]
    },
    {
      "cell_type": "markdown",
      "metadata": {
        "id": "AZqQd0K8TYul"
      },
      "source": [
        "The slice starts from the first element indicated, but excludes the last element indicated. Here we select all elements starting from index 1, which refers to the second element:"
      ]
    },
    {
      "cell_type": "code",
      "metadata": {
        "colab": {
          "base_uri": "https://localhost:8080/"
        },
        "id": "0-76sLfkOqii",
        "outputId": "380d6ad3-182d-4d25-d95c-4a3cb02f0b11"
      },
      "source": [
        "print(my_list[1:])"
      ],
      "execution_count": 203,
      "outputs": [
        {
          "output_type": "stream",
          "name": "stdout",
          "text": [
            "['Connect', 1, 2, 3]\n"
          ]
        }
      ]
    },
    {
      "cell_type": "code",
      "metadata": {
        "colab": {
          "base_uri": "https://localhost:8080/"
        },
        "id": "V8VfyuBazS_o",
        "outputId": "e68d6c1c-35a1-41f4-a18a-4f8e677db97c"
      },
      "source": [
        "#ejemplo 12\n",
        "print(my_list[3:])"
      ],
      "execution_count": 51,
      "outputs": [
        {
          "output_type": "stream",
          "name": "stdout",
          "text": [
            "[10, 2000]\n"
          ]
        }
      ]
    },
    {
      "cell_type": "markdown",
      "metadata": {
        "id": "XBqvhUdZVKWs"
      },
      "source": [
        "And all elements up to but excluding index 3:"
      ]
    },
    {
      "cell_type": "code",
      "metadata": {
        "colab": {
          "base_uri": "https://localhost:8080/"
        },
        "id": "5NWr75L9Oqii",
        "outputId": "a3b027a9-b0cd-4e66-a472-80292c4d88ab"
      },
      "source": [
        "print(my_list[:3])"
      ],
      "execution_count": 204,
      "outputs": [
        {
          "output_type": "stream",
          "name": "stdout",
          "text": [
            "['Quant', 'Connect', 1]\n"
          ]
        }
      ]
    },
    {
      "cell_type": "code",
      "metadata": {
        "colab": {
          "base_uri": "https://localhost:8080/"
        },
        "id": "pwH5N-XyzYBf",
        "outputId": "f17c1c3a-8ab1-4459-92d6-5e61acf13035"
      },
      "source": [
        "#ejemplo 13\n",
        "print(my_list[:2])"
      ],
      "execution_count": 52,
      "outputs": [
        {
          "output_type": "stream",
          "name": "stdout",
          "text": [
            "['metodos', 'numericos']\n"
          ]
        }
      ]
    },
    {
      "cell_type": "markdown",
      "metadata": {
        "id": "eAFmM6bkTZz9"
      },
      "source": [
        "If you wish to add or remove an element from a list, you can use the append() and remove() methods for lists as follows:"
      ]
    },
    {
      "cell_type": "code",
      "metadata": {
        "colab": {
          "base_uri": "https://localhost:8080/"
        },
        "id": "pHmgTPElTo19",
        "outputId": "c94f9991-075e-4a34-9b1c-eabe099c8862"
      },
      "source": [
        "my_list = ['Hello', 'Quant']\n",
        "my_list.append('Hello')\n",
        "print(my_list)\n",
        "\n"
      ],
      "execution_count": 205,
      "outputs": [
        {
          "output_type": "stream",
          "name": "stdout",
          "text": [
            "['Hello', 'Quant', 'Hello']\n"
          ]
        }
      ]
    },
    {
      "cell_type": "code",
      "metadata": {
        "colab": {
          "base_uri": "https://localhost:8080/"
        },
        "id": "6tt96bkb0HA9",
        "outputId": "36b82174-d709-44a0-a3c8-822a88f733ae"
      },
      "source": [
        "#ejemplo 14\n",
        "my_list = ['metodos', 'numericos', 7,10,2000]\n",
        "my_list.append('Hello')\n",
        "print(my_list)\n"
      ],
      "execution_count": 53,
      "outputs": [
        {
          "output_type": "stream",
          "name": "stdout",
          "text": [
            "['metodos', 'numericos', 7, 10, 2000, 'Hello']\n"
          ]
        }
      ]
    },
    {
      "cell_type": "code",
      "metadata": {
        "colab": {
          "base_uri": "https://localhost:8080/"
        },
        "id": "4C4U1Yf0Tr8l",
        "outputId": "81c8ddfd-79dc-44ab-eb42-46924f8a69be"
      },
      "source": [
        "my_list.remove('Hello')\n",
        "print(my_list)"
      ],
      "execution_count": 206,
      "outputs": [
        {
          "output_type": "stream",
          "name": "stdout",
          "text": [
            "['Quant', 'Hello']\n"
          ]
        }
      ]
    },
    {
      "cell_type": "code",
      "metadata": {
        "colab": {
          "base_uri": "https://localhost:8080/"
        },
        "id": "TBJ4tKge1OZD",
        "outputId": "249510c6-7229-4f62-ce94-91a1e5a127d8"
      },
      "source": [
        "#ejemplo 15\n",
        "my_list.remove('numericos')\n",
        "print(my_list)"
      ],
      "execution_count": 54,
      "outputs": [
        {
          "output_type": "stream",
          "name": "stdout",
          "text": [
            "['metodos', 7, 10, 2000, 'Hello']\n"
          ]
        }
      ]
    },
    {
      "cell_type": "markdown",
      "metadata": {
        "id": "11W1gG-cVmOU"
      },
      "source": [
        "When there are repeated instances of \"Hello\", the first one is removed.\n",
        "\n",
        "## Tuple\n",
        "A tuple is a data structure type similar to a list. The difference is that a tuple is immutable, which means you can't change the elements in it once it's defined. We create a tuple by putting comma-separated values between parentheses."
      ]
    },
    {
      "cell_type": "code",
      "metadata": {
        "collapsed": true,
        "id": "vPmn6BAaOqii"
      },
      "source": [
        "my_tuple = ('Welcome','to','QuantConnect')"
      ],
      "execution_count": 207,
      "outputs": []
    },
    {
      "cell_type": "code",
      "metadata": {
        "colab": {
          "base_uri": "https://localhost:8080/"
        },
        "id": "N0vwMeVa-HqQ",
        "outputId": "afa2eb98-587f-48cc-c72f-279d86cc7f90"
      },
      "source": [
        "#ejemplo 16\n",
        "my_tuple = ('metodos', 'numericos', 7,10,2000)\n",
        "print(my_tuple)"
      ],
      "execution_count": 55,
      "outputs": [
        {
          "output_type": "stream",
          "name": "stdout",
          "text": [
            "('metodos', 'numericos', 7, 10, 2000)\n"
          ]
        }
      ]
    },
    {
      "cell_type": "markdown",
      "metadata": {
        "id": "zMIme4dDV0Wz"
      },
      "source": [
        "Just like a list, a tuple can be sliced by using index."
      ]
    },
    {
      "cell_type": "code",
      "metadata": {
        "colab": {
          "base_uri": "https://localhost:8080/"
        },
        "id": "8P-ddO0sOqii",
        "outputId": "56036a42-e1c3-4e4b-ad5b-e8ed069facb1"
      },
      "source": [
        "my_tuple = ('Welcome','to','QuantConnect')\n",
        "print(my_tuple[1:])"
      ],
      "execution_count": 208,
      "outputs": [
        {
          "output_type": "stream",
          "name": "stdout",
          "text": [
            "('to', 'QuantConnect')\n"
          ]
        }
      ]
    },
    {
      "cell_type": "code",
      "metadata": {
        "colab": {
          "base_uri": "https://localhost:8080/"
        },
        "id": "ok5uigv0Ch_P",
        "outputId": "56d7c792-8821-44e1-cfc6-4d5b27ced855"
      },
      "source": [
        "#ejemplo 17\n",
        "my_tuple = ('metodos', 'numericos', 7,10,2000)\n",
        "print(my_tuple[2:])"
      ],
      "execution_count": 56,
      "outputs": [
        {
          "output_type": "stream",
          "name": "stdout",
          "text": [
            "(7, 10, 2000)\n"
          ]
        }
      ]
    },
    {
      "cell_type": "markdown",
      "metadata": {
        "id": "l2JqbusAV1Y2"
      },
      "source": [
        "## Set\n",
        "A set is an **unordered**  collection with **no duplicate** elements. The built-in function **set()** can be used to create sets."
      ]
    },
    {
      "cell_type": "code",
      "metadata": {
        "colab": {
          "base_uri": "https://localhost:8080/"
        },
        "id": "Plau8r-UOqij",
        "outputId": "81496d6a-4cd2-44fe-f556-070411db3b00"
      },
      "source": [
        "stock_list = ['AAPL','GOOG','IBM','AAPL','IBM','FB','F','GOOG']\n",
        "stock_set = set(stock_list)\n",
        "print(stock_set)"
      ],
      "execution_count": 209,
      "outputs": [
        {
          "output_type": "stream",
          "name": "stdout",
          "text": [
            "{'F', 'FB', 'AAPL', 'IBM', 'GOOG'}\n"
          ]
        }
      ]
    },
    {
      "cell_type": "code",
      "metadata": {
        "colab": {
          "base_uri": "https://localhost:8080/"
        },
        "id": "igG3ch2OC_53",
        "outputId": "205b79b1-d500-4dfd-8ac4-5f4999273e17"
      },
      "source": [
        "#ejemplo 18\n",
        "stock_list = ['2000','adios','7','2000','7','a','F','adios']\n",
        "stock_set = set(stock_list)\n",
        "print(stock_set)"
      ],
      "execution_count": 57,
      "outputs": [
        {
          "output_type": "stream",
          "name": "stdout",
          "text": [
            "{'F', 'adios', '2000', 'a', '7'}\n"
          ]
        }
      ]
    },
    {
      "cell_type": "markdown",
      "metadata": {
        "id": "Jyb4GGIoWIHk"
      },
      "source": [
        "Set is an easy way to remove duplicate elements from a list.\n",
        "\n",
        "##Dictionary\n",
        "A dictionary is one of the most important data structures in Python. Unlike sequences which are indexed by integers, dictionaries are indexed by keys which can be either strings or floats.\n",
        "\n",
        "A dictionary is an **unordered** collection of key : value pairs, with the requirement that the keys are unique. We create a dictionary by placing a comma-separated list of key : value pairs within the braces."
      ]
    },
    {
      "cell_type": "code",
      "metadata": {
        "collapsed": true,
        "id": "36mTe5BaOqij"
      },
      "source": [
        "my_dic = {'AAPL':'AAPLE', 'FB':'FaceBook', 'GOOG':'Alphabet'}"
      ],
      "execution_count": 210,
      "outputs": []
    },
    {
      "cell_type": "code",
      "metadata": {
        "id": "S33N53XTDqqe"
      },
      "source": [
        "#ejemplo 19\n",
        "my_dic = {'1':'A', '2':'bb', '3':'ccc'}"
      ],
      "execution_count": 59,
      "outputs": []
    },
    {
      "cell_type": "code",
      "metadata": {
        "colab": {
          "base_uri": "https://localhost:8080/"
        },
        "id": "KUfdVf43Oqij",
        "outputId": "ce25e099-cc3a-4de7-9646-47dbccf03f06"
      },
      "source": [
        "print(my_dic['GOOG'])"
      ],
      "execution_count": 212,
      "outputs": [
        {
          "output_type": "stream",
          "name": "stdout",
          "text": [
            "Alphabet Company\n"
          ]
        }
      ]
    },
    {
      "cell_type": "code",
      "metadata": {
        "colab": {
          "base_uri": "https://localhost:8080/"
        },
        "id": "qimmEkEADvsL",
        "outputId": "6713df7d-6ecc-4d26-eac7-398845a917b0"
      },
      "source": [
        "#ejemplo 20\n",
        "print(my_dic['2'])"
      ],
      "execution_count": 60,
      "outputs": [
        {
          "output_type": "stream",
          "name": "stdout",
          "text": [
            "bb\n"
          ]
        }
      ]
    },
    {
      "cell_type": "markdown",
      "metadata": {
        "id": "gSicoNqDWP4c"
      },
      "source": [
        "After defining a dictionary, we can access any value by indicating its key in brackets."
      ]
    },
    {
      "cell_type": "code",
      "metadata": {
        "colab": {
          "base_uri": "https://localhost:8080/"
        },
        "id": "IrTZdq9FOqij",
        "outputId": "901c3d63-55e2-4f14-d283-93ce6f6488e6"
      },
      "source": [
        "my_dic['GOOG'] = 'Alphabet Company'\n",
        "print(my_dic['GOOG'])"
      ],
      "execution_count": 213,
      "outputs": [
        {
          "output_type": "stream",
          "name": "stdout",
          "text": [
            "Alphabet Company\n"
          ]
        }
      ]
    },
    {
      "cell_type": "code",
      "metadata": {
        "colab": {
          "base_uri": "https://localhost:8080/"
        },
        "id": "ta1DS8a_EZlg",
        "outputId": "12c5bbb4-4880-4a19-8c47-eb6822ef8880"
      },
      "source": [
        "#ejemplo 21\n",
        "my_dic['Julian'] = 'Moncada'\n",
        "print(my_dic['Julian'])"
      ],
      "execution_count": 61,
      "outputs": [
        {
          "output_type": "stream",
          "name": "stdout",
          "text": [
            "Moncada\n"
          ]
        }
      ]
    },
    {
      "cell_type": "markdown",
      "metadata": {
        "id": "M9sDsTEMWQvc"
      },
      "source": [
        "We can also change the value associated with a specified key:"
      ]
    },
    {
      "cell_type": "code",
      "metadata": {
        "colab": {
          "base_uri": "https://localhost:8080/"
        },
        "id": "lupRHf1_Oqij",
        "outputId": "326223b4-2e86-4f41-b138-69e54f7c552f"
      },
      "source": [
        "print(my_dic.keys())"
      ],
      "execution_count": 214,
      "outputs": [
        {
          "output_type": "stream",
          "name": "stdout",
          "text": [
            "dict_keys(['AAPL', 'FB', 'GOOG'])\n"
          ]
        }
      ]
    },
    {
      "cell_type": "code",
      "metadata": {
        "colab": {
          "base_uri": "https://localhost:8080/"
        },
        "id": "m1I6_2C7Ew_H",
        "outputId": "912b9bf7-cc2f-410b-be42-0023daaa503f"
      },
      "source": [
        "#ejemplo 22\n",
        "print(my_dic.keys())"
      ],
      "execution_count": 62,
      "outputs": [
        {
          "output_type": "stream",
          "name": "stdout",
          "text": [
            "dict_keys(['1', '2', '3', 'Julian'])\n"
          ]
        }
      ]
    },
    {
      "cell_type": "markdown",
      "metadata": {
        "id": "VPuDinlwWS9D"
      },
      "source": [
        "The built-in method of the dictionary object dict.keys() returns a list of all the keys used in the dictionary."
      ]
    },
    {
      "cell_type": "markdown",
      "metadata": {
        "id": "kSGzgNb2Womz"
      },
      "source": [
        "# Common String Operations\n",
        "A string is an immutable sequence of characters. It can be sliced by index just like a tuple:"
      ]
    },
    {
      "cell_type": "code",
      "metadata": {
        "colab": {
          "base_uri": "https://localhost:8080/"
        },
        "id": "xPojDnm9Oqik",
        "outputId": "e8921825-3c01-4b6a-b56d-7c61c5e05eb1"
      },
      "source": [
        "my_str = 'Welcome to QuantConnect'\n",
        "print(my_str[8:])"
      ],
      "execution_count": 215,
      "outputs": [
        {
          "output_type": "stream",
          "name": "stdout",
          "text": [
            "to QuantConnect\n"
          ]
        }
      ]
    },
    {
      "cell_type": "code",
      "metadata": {
        "colab": {
          "base_uri": "https://localhost:8080/"
        },
        "id": "_9phXQz4GNWB",
        "outputId": "2ccc8175-a34f-43ec-eb67-8497d8bcc449"
      },
      "source": [
        "#ejemplo 23\n",
        "my_str = 'Julian Esteban Moncada Moreno'\n",
        "print(my_str[4:20])"
      ],
      "execution_count": 63,
      "outputs": [
        {
          "output_type": "stream",
          "name": "stdout",
          "text": [
            "an Esteban Monca\n"
          ]
        }
      ]
    },
    {
      "cell_type": "markdown",
      "metadata": {
        "id": "wuJYy7tvWtM7"
      },
      "source": [
        "There are many methods associated with strings. We can use string.count() to count the occurrences of a character in a string, use string.find() to return the index of a specific character, and use string.replace() to replace characters"
      ]
    },
    {
      "cell_type": "code",
      "metadata": {
        "colab": {
          "base_uri": "https://localhost:8080/"
        },
        "id": "u9deZq1SOqik",
        "outputId": "6400e4c9-8e1b-4b07-bba8-5578987e4750"
      },
      "source": [
        "print('Counting the number of e appears in this sentence'.count('e'))\n",
        "print('The first time e appears in this sentence'.find('e'))\n",
        "print('all the a in this sentence now becomes e'.replace('a','e'))"
      ],
      "execution_count": 216,
      "outputs": [
        {
          "output_type": "stream",
          "name": "stdout",
          "text": [
            "7\n",
            "2\n",
            "ell the e in this sentence now becomes e\n"
          ]
        }
      ]
    },
    {
      "cell_type": "code",
      "metadata": {
        "colab": {
          "base_uri": "https://localhost:8080/"
        },
        "id": "pJBDrDsWHFmN",
        "outputId": "946de747-673f-464c-dcbf-a7efc4074112"
      },
      "source": [
        "#ejemplo 24\n",
        "print('Ideas para la producción del material del proyecto'.count('a'))\n",
        "print('Comparar los valores experimentales obtenidos por los experimentos'.find('e'))\n",
        "print('Tienen como finalidad conseguir una elevada resistencia '.replace('e','u'))"
      ],
      "execution_count": 64,
      "outputs": [
        {
          "output_type": "stream",
          "name": "stdout",
          "text": [
            "6\n",
            "18\n",
            "Tiunun como finalidad consuguir una uluvada rusistuncia \n"
          ]
        }
      ]
    },
    {
      "cell_type": "markdown",
      "metadata": {
        "id": "sJPn3rkvWwHN"
      },
      "source": [
        "The most commonly used method for strings is string.split(). This method will split the string by the indicated character and return a list:"
      ]
    },
    {
      "cell_type": "code",
      "metadata": {
        "colab": {
          "base_uri": "https://localhost:8080/"
        },
        "id": "hbIaFLFHOqik",
        "outputId": "7a2e2217-1f9b-4ace-d0e8-9fcc1165a6e7"
      },
      "source": [
        "Time = '2016-04-01 09:43:00'\n",
        "splited_list = Time.split(' ')\n",
        "date = splited_list[0]\n",
        "time = splited_list[1]\n",
        "print(date, time)\n",
        "hour = time.split(':')[0]\n",
        "print(hour)"
      ],
      "execution_count": 217,
      "outputs": [
        {
          "output_type": "stream",
          "name": "stdout",
          "text": [
            "2016-04-01 09:43:00\n",
            "09\n"
          ]
        }
      ]
    },
    {
      "cell_type": "code",
      "metadata": {
        "colab": {
          "base_uri": "https://localhost:8080/"
        },
        "id": "BuOlI66FK1NZ",
        "outputId": "00f03739-ff63-4616-bfb2-c559ac154e4d"
      },
      "source": [
        "#ejemplo 25\n",
        "Time = '2021-10-19 7:48:32'\n",
        "splited_list = Time.split(' ')\n",
        "date = splited_list[0]\n",
        "time = splited_list[1]\n",
        "print(date, time)\n",
        "hour = time.split(':')[0]\n",
        "minute = time.split(':')[1]\n",
        "print(hour)\n",
        "print (minute)"
      ],
      "execution_count": 65,
      "outputs": [
        {
          "output_type": "stream",
          "name": "stdout",
          "text": [
            "2021-10-19 7:48:32\n",
            "7\n",
            "48\n"
          ]
        }
      ]
    },
    {
      "cell_type": "markdown",
      "metadata": {
        "id": "9cJQGk96WyVc"
      },
      "source": [
        "We can replace parts of a string by our variable. This is called string formatting."
      ]
    },
    {
      "cell_type": "code",
      "metadata": {
        "colab": {
          "base_uri": "https://localhost:8080/"
        },
        "id": "-E_rIvv6Oqik",
        "outputId": "7dc8b427-6bb8-482f-dc5a-8239a3cc07b9"
      },
      "source": [
        "my_time = 'Hour: {}, Minute:{}'.format('09','43')\n",
        "print(my_time)"
      ],
      "execution_count": 218,
      "outputs": [
        {
          "output_type": "stream",
          "name": "stdout",
          "text": [
            "Hour: 09, Minute:43\n"
          ]
        }
      ]
    },
    {
      "cell_type": "code",
      "metadata": {
        "colab": {
          "base_uri": "https://localhost:8080/"
        },
        "id": "PSmJkUm2MEub",
        "outputId": "c0b285d5-4ba5-4687-e394-177843d6d2ce"
      },
      "source": [
        "#ejemplo 26\n",
        "my_time = 'Hour: {}, Minute:{}'.format('07','53')\n",
        "print(my_time)"
      ],
      "execution_count": 66,
      "outputs": [
        {
          "output_type": "stream",
          "name": "stdout",
          "text": [
            "Hour: 07, Minute:53\n"
          ]
        }
      ]
    },
    {
      "cell_type": "markdown",
      "metadata": {
        "id": "1_NbVldpWzAs"
      },
      "source": [
        "Another way to format a string is to use the % symbol."
      ]
    },
    {
      "cell_type": "code",
      "metadata": {
        "colab": {
          "base_uri": "https://localhost:8080/"
        },
        "id": "4rZ4rkD2Oqik",
        "outputId": "e8904f8f-983f-421d-af0c-408a63cefe87"
      },
      "source": [
        "print('the pi number is %f'%3.14)\n",
        "print('%s to %s'%('Welcome','Quantconnect'))"
      ],
      "execution_count": 219,
      "outputs": [
        {
          "output_type": "stream",
          "name": "stdout",
          "text": [
            "the pi number is 3.140000\n",
            "Welcome to Quantconnect\n"
          ]
        }
      ]
    },
    {
      "cell_type": "code",
      "metadata": {
        "colab": {
          "base_uri": "https://localhost:8080/"
        },
        "id": "vcF3-znXMNsS",
        "outputId": "9696ca18-b9c2-4019-bcbe-55b7943e86f7"
      },
      "source": [
        "#ejemplo 27\n",
        "print('the e number is %f'%2.71828)\n",
        "print('%s im %s'%('hello,','Julian'))"
      ],
      "execution_count": 67,
      "outputs": [
        {
          "output_type": "stream",
          "name": "stdout",
          "text": [
            "the e number is 2.718280\n",
            "hello, im Julian\n"
          ]
        }
      ]
    },
    {
      "cell_type": "markdown",
      "metadata": {
        "id": "v_5cocrDW3MN"
      },
      "source": [
        "# Summary\n",
        "\n",
        "Weave seen the basic data types and data structures in Python. It's important to keep practicing to become familiar with these data structures. In the next tutorial, we will cover for and while loops and logical operations in Python."
      ]
    },
    {
      "cell_type": "markdown",
      "metadata": {
        "id": "QL6dNxwCXNEt"
      },
      "source": [
        "<div align=\"center\">\n",
        "<img style=\"display: block; margin: auto;\" alt=\"photo\" src=\"https://cdn.quantconnect.com/web/i/icon.png\">\n",
        "\n",
        "Quantconnect\n",
        "\n",
        "Introduction to Financial Python\n",
        "</div>\n",
        "\n",
        "# 02 Logical Operations and Loops\n",
        "\n",
        "# Introduction\n",
        "We discussed the basic data types and data structures in Python in the last tutorial. This chapter covers logical operations and loops in Python, which are very common in programming.\n",
        "\n",
        "# Logical Operations\n",
        "Like most programming languages, Python has comparison operators:"
      ]
    },
    {
      "cell_type": "code",
      "metadata": {
        "colab": {
          "base_uri": "https://localhost:8080/"
        },
        "id": "70Guys_rOv7a",
        "outputId": "185e0af9-2998-4453-b070-cd46bb7de397"
      },
      "source": [
        "print(1 == 0)\n",
        "print(1 == 1)\n",
        "print(1 != 0)\n",
        "print(5 >= 5)\n",
        "print(5 >= 6)"
      ],
      "execution_count": 220,
      "outputs": [
        {
          "output_type": "stream",
          "name": "stdout",
          "text": [
            "False\n",
            "True\n",
            "True\n",
            "True\n",
            "False\n"
          ]
        }
      ]
    },
    {
      "cell_type": "code",
      "metadata": {
        "colab": {
          "base_uri": "https://localhost:8080/"
        },
        "id": "vLWjMRR1Tx1b",
        "outputId": "1e374ba4-c223-473f-e43a-d6a0b98dae5d"
      },
      "source": [
        "#ejemplo 28\n",
        "print(5 == 3)\n",
        "print(2 == 2)\n",
        "print(7 != 0)\n",
        "print(8 >= 3)\n",
        "print(8 >= 8)"
      ],
      "execution_count": 68,
      "outputs": [
        {
          "output_type": "stream",
          "name": "stdout",
          "text": [
            "False\n",
            "True\n",
            "True\n",
            "True\n",
            "True\n"
          ]
        }
      ]
    },
    {
      "cell_type": "markdown",
      "metadata": {
        "id": "8aFHYDj-YTXt"
      },
      "source": [
        "Each statement above has a boolean value, which must be either True or False, but not both.\n",
        "\n",
        "We can combine simple statements P and Q to form complex statements using logical operators:\n",
        "\n",
        "- The statement \"P and Q\" is true if both P and Q are true, otherwise it is false.\n",
        "- The statement \"P or Q\" is false if both P and Q are false, otherwise it is true.\n",
        "- The statement \"not P\" is true if P is false, and vice versa."
      ]
    },
    {
      "cell_type": "code",
      "metadata": {
        "colab": {
          "base_uri": "https://localhost:8080/"
        },
        "id": "O5YEEcUbOv7d",
        "outputId": "6ee741dc-7a74-496f-a14f-85a7528b22d9"
      },
      "source": [
        "print(2 > 1 and 3 > 2)\n",
        "print(2 > 1 and 3 < 2) \n",
        "print(2 > 1 or 3 < 2)\n",
        "print(2 < 1 and 3 < 2)"
      ],
      "execution_count": 221,
      "outputs": [
        {
          "output_type": "stream",
          "name": "stdout",
          "text": [
            "True\n",
            "False\n",
            "True\n",
            "False\n"
          ]
        }
      ]
    },
    {
      "cell_type": "code",
      "metadata": {
        "colab": {
          "base_uri": "https://localhost:8080/"
        },
        "id": "dbTr_wEFUOxh",
        "outputId": "f710c31e-dd0f-4c2d-b34f-029cbcd372c7"
      },
      "source": [
        "#ejemplo 29\n",
        "print(7 > 1 and 5 > 1)\n",
        "print(7 > 1 and 10 < 8) \n",
        "print(3 > 1 or 1 < 2)\n",
        "print(4 < 1 and 3 < 5)"
      ],
      "execution_count": 69,
      "outputs": [
        {
          "output_type": "stream",
          "name": "stdout",
          "text": [
            "True\n",
            "False\n",
            "True\n",
            "False\n"
          ]
        }
      ]
    },
    {
      "cell_type": "markdown",
      "metadata": {
        "id": "Dy7yzoSXYXmL"
      },
      "source": [
        "When dealing with a very complex logical statement that involves in several statements, we can use brackets to separate and combine them."
      ]
    },
    {
      "cell_type": "code",
      "metadata": {
        "colab": {
          "base_uri": "https://localhost:8080/"
        },
        "id": "QZ-W2xJZOv7d",
        "outputId": "ae8a704d-0879-42f9-baac-896acbdd3e81"
      },
      "source": [
        "print((3 > 2 or 1 < 3) and (1!=3 and 4>3) and not ( 3 < 2 or 1 < 3 and (1!=3 and 4>3)))\n",
        "print(3 > 2 or 1 < 3 and (1!=3 and 4>3) and not ( 3 < 2 or 1 < 3 and (1!=3 and 4>3)))"
      ],
      "execution_count": 222,
      "outputs": [
        {
          "output_type": "stream",
          "name": "stdout",
          "text": [
            "False\n",
            "True\n"
          ]
        }
      ]
    },
    {
      "cell_type": "code",
      "metadata": {
        "colab": {
          "base_uri": "https://localhost:8080/"
        },
        "id": "_ELuFwQoUsPj",
        "outputId": "f589b566-f967-46d1-af4e-36c4661c56d3"
      },
      "source": [
        "#ejemplo 30\n",
        "print((5 > 2 or 2 < 1) and (3!=3 and 8>3) and not ( 3 < 2 or 1 < 3 and (1!=3 and 4>3)))\n",
        "print(7 > 5 or 2 < 5 and (2!=3 and 8>7) and not ( 2 < 2 or 2 < 7 and (10!=3 and 7>3)))"
      ],
      "execution_count": 70,
      "outputs": [
        {
          "output_type": "stream",
          "name": "stdout",
          "text": [
            "False\n",
            "True\n"
          ]
        }
      ]
    },
    {
      "cell_type": "markdown",
      "metadata": {
        "id": "s95xoRYMYaPD"
      },
      "source": [
        "Comparing the above two statements, we can see that it's wise to use brackets when we make a complex logical statement.\n",
        "\n",
        "# If Statement\n",
        "An if statement executes a segment of code only if its condition is true. A standard if statement consists of 3 segments: if, elif and else."
      ]
    },
    {
      "cell_type": "markdown",
      "metadata": {
        "id": "aRzMMitAaBOL"
      },
      "source": [
        "```python\n",
        "if statement1:\n",
        "    # if the statement1 is true, execute the code here.\n",
        "    # code.....\n",
        "    # code.....\n",
        "elif statement2:\n",
        "    # if the statement 1 is false, skip the codes above to this part.\n",
        "    # code......\n",
        "    # code......\n",
        "else:\n",
        "    # if none of the above statements is True, skip to this part\n",
        "    # code......\n",
        "```"
      ]
    },
    {
      "cell_type": "markdown",
      "metadata": {
        "id": "l59R2AS8aH2K"
      },
      "source": [
        "An if statement doesn't necessarily has elif and else part. If it's not specified, the indented block of code will be executed when the condition is true, otherwise the whole if statement will be skipped."
      ]
    },
    {
      "cell_type": "code",
      "metadata": {
        "colab": {
          "base_uri": "https://localhost:8080/"
        },
        "id": "FZ5GoTXfOv7e",
        "outputId": "f4f0e037-d108-4f85-a2e7-7a4d4f64db07"
      },
      "source": [
        "i = 0\n",
        "if i == 0:\n",
        "    print('i==0 is True')"
      ],
      "execution_count": 223,
      "outputs": [
        {
          "output_type": "stream",
          "name": "stdout",
          "text": [
            "i==0 is True\n"
          ]
        }
      ]
    },
    {
      "cell_type": "code",
      "metadata": {
        "colab": {
          "base_uri": "https://localhost:8080/"
        },
        "id": "qX1ih0lqVvXT",
        "outputId": "e4bb1c11-b96c-4e8a-a987-28e3895adf2f"
      },
      "source": [
        "#ejemplo 31\n",
        "i = 7010\n",
        "if i == 7010:\n",
        "    print('i==0 is True')"
      ],
      "execution_count": 71,
      "outputs": [
        {
          "output_type": "stream",
          "name": "stdout",
          "text": [
            "i==0 is True\n"
          ]
        }
      ]
    },
    {
      "cell_type": "markdown",
      "metadata": {
        "id": "nPNW-l5eaJn8"
      },
      "source": [
        "As we mentioned above, we can write some complex statements here:"
      ]
    },
    {
      "cell_type": "code",
      "metadata": {
        "colab": {
          "base_uri": "https://localhost:8080/"
        },
        "id": "gh-U6nMzOv7e",
        "outputId": "6b7e6758-42d2-434c-c4fe-9192051f1b8a"
      },
      "source": [
        "p = 1 > 0\n",
        "q = 2 > 3\n",
        "if p and q:\n",
        "    print('p and q is true')\n",
        "elif p and not q:\n",
        "    print('q is false')\n",
        "elif q and not p:\n",
        "    print('p is false')\n",
        "else:\n",
        "    print('None of p and q is true')"
      ],
      "execution_count": 224,
      "outputs": [
        {
          "output_type": "stream",
          "name": "stdout",
          "text": [
            "q is false\n"
          ]
        }
      ]
    },
    {
      "cell_type": "code",
      "metadata": {
        "colab": {
          "base_uri": "https://localhost:8080/"
        },
        "id": "gfrGGhcgWEl1",
        "outputId": "e3938409-2fb3-44f8-c841-bce9cf0fa1e9"
      },
      "source": [
        "#ejemplo 32\n",
        "p = 10 > 11\n",
        "q = 3 > 4\n",
        "if p and q:\n",
        "    print('p and q is true')\n",
        "elif p and not q:\n",
        "    print('q is false')\n",
        "elif q and not p:\n",
        "    print('p is false')\n",
        "else:\n",
        "    print('None of p and q is true')"
      ],
      "execution_count": 72,
      "outputs": [
        {
          "output_type": "stream",
          "name": "stdout",
          "text": [
            "None of p and q is true\n"
          ]
        }
      ]
    },
    {
      "cell_type": "markdown",
      "metadata": {
        "id": "tgRDwiAsaMOL"
      },
      "source": [
        "# Loop Structure\n",
        "Loops are an essential part of programming. The \"for\" and \"while\" loops run a block of code repeatedly.\n",
        "\n",
        "## While Loop\n",
        "A \"while\" loop will run repeatedly until a certain condition has been met."
      ]
    },
    {
      "cell_type": "code",
      "metadata": {
        "colab": {
          "base_uri": "https://localhost:8080/"
        },
        "id": "uQLau8d5Ov7f",
        "outputId": "f2664428-57d0-472f-8021-809c27285cce"
      },
      "source": [
        "i = 0\n",
        "while i < 5:\n",
        "    print(i)\n",
        "    i += 1 "
      ],
      "execution_count": 225,
      "outputs": [
        {
          "output_type": "stream",
          "name": "stdout",
          "text": [
            "0\n",
            "1\n",
            "2\n",
            "3\n",
            "4\n"
          ]
        }
      ]
    },
    {
      "cell_type": "code",
      "metadata": {
        "colab": {
          "base_uri": "https://localhost:8080/"
        },
        "id": "w1a-4yxWWme6",
        "outputId": "5efe9b09-88b4-41b6-bc7c-e2ba527ee619"
      },
      "source": [
        "#ejemplo 33\n",
        "i = 0\n",
        "while i <= 7:\n",
        "    print(i)\n",
        "    i += 1 "
      ],
      "execution_count": 73,
      "outputs": [
        {
          "output_type": "stream",
          "name": "stdout",
          "text": [
            "0\n",
            "1\n",
            "2\n",
            "3\n",
            "4\n",
            "5\n",
            "6\n",
            "7\n"
          ]
        }
      ]
    },
    {
      "cell_type": "markdown",
      "metadata": {
        "id": "ydLddFAPaTOE"
      },
      "source": [
        "When making a while loop, we need to ensure that something changes from iteration to iteration so that the while loop will terminate, otherwise, it will run forever. Here we used i += 1 (short for i = i + 1) to make i larger after each iteration. This is the most commonly used method to control a while loop.\n",
        "\n",
        "## For Loop\n",
        "A \"for\" loop will iterate over a sequence of value and terminate when the sequence has ended."
      ]
    },
    {
      "cell_type": "code",
      "metadata": {
        "colab": {
          "base_uri": "https://localhost:8080/"
        },
        "id": "kt8Ie8u1Ov7f",
        "outputId": "4fd9754b-f3c8-49cf-b5b0-2806f0177ade"
      },
      "source": [
        "for i in [1,2,3,4,5]:\n",
        "    print(i)"
      ],
      "execution_count": 226,
      "outputs": [
        {
          "output_type": "stream",
          "name": "stdout",
          "text": [
            "1\n",
            "2\n",
            "3\n",
            "4\n",
            "5\n"
          ]
        }
      ]
    },
    {
      "cell_type": "code",
      "metadata": {
        "colab": {
          "base_uri": "https://localhost:8080/"
        },
        "id": "vNDrYK-TXJA5",
        "outputId": "4f410c0b-2baf-4f47-eace-70328774d5ec"
      },
      "source": [
        "#ejemplo 34\n",
        "for i in [10,11,12]:\n",
        "    print(i)"
      ],
      "execution_count": 74,
      "outputs": [
        {
          "output_type": "stream",
          "name": "stdout",
          "text": [
            "10\n",
            "11\n",
            "12\n"
          ]
        }
      ]
    },
    {
      "cell_type": "markdown",
      "metadata": {
        "id": "yWStqpreaX-T"
      },
      "source": [
        "We can also add if statements in a for loop. Here is a real example from our pairs trading algorithm:"
      ]
    },
    {
      "cell_type": "code",
      "metadata": {
        "colab": {
          "base_uri": "https://localhost:8080/"
        },
        "id": "kElmffvFOv7f",
        "outputId": "52b0c0dc-026b-4831-f07d-2d9e8e7ddcaa"
      },
      "source": [
        "stocks = ['AAPL','GOOG','IBM','FB','F','V', 'G', 'GE']\n",
        "selected = ['AAPL','IBM']\n",
        "new_list = []\n",
        "for i in stocks:\n",
        "    if i not in selected:\n",
        "        new_list.append(i)\n",
        "print(stocks)"
      ],
      "execution_count": 227,
      "outputs": [
        {
          "output_type": "stream",
          "name": "stdout",
          "text": [
            "['AAPL', 'GOOG', 'IBM', 'FB', 'F', 'V', 'G', 'GE']\n"
          ]
        }
      ]
    },
    {
      "cell_type": "code",
      "metadata": {
        "colab": {
          "base_uri": "https://localhost:8080/"
        },
        "id": "4CQOMfCbX5T0",
        "outputId": "073bea4e-b271-402b-99b5-10512c454595"
      },
      "source": [
        "#ejemplo 35\n",
        "universidades = ['Nacional','Antioquia','Valle','Andes','Javeriana','UIS', 'UTP', 'UPTC']\n",
        "selected = ['Nacional','UIS']\n",
        "new_list = []\n",
        "for i in universidades:\n",
        "    if i not in new_list:\n",
        "        new_list.append(i)\n",
        "print(universidades)"
      ],
      "execution_count": 75,
      "outputs": [
        {
          "output_type": "stream",
          "name": "stdout",
          "text": [
            "['Nacional', 'Antioquia', 'Valle', 'Andes', 'Javeriana', 'UIS', 'UTP', 'UPTC']\n"
          ]
        }
      ]
    },
    {
      "cell_type": "markdown",
      "metadata": {
        "id": "wb2hry9dahE0"
      },
      "source": [
        "Here we iterated all the elements in the list 'stocks'. Later in this chapter, we will introduce a smarter way to do this, which is just a one-line code.\n",
        "\n",
        "## Break and continue\n",
        "These are two commonly used commands in a for loop. If \"break\" is triggered while a loop is executing, the loop will terminate immediately:"
      ]
    },
    {
      "cell_type": "code",
      "metadata": {
        "colab": {
          "base_uri": "https://localhost:8080/"
        },
        "id": "yF5wMVItOv7g",
        "outputId": "955a5926-fbc9-4919-df42-dc8a383342d9"
      },
      "source": [
        "stocks = ['AAPL','GOOG','IBM','FB','F','V', 'G', 'GE']\n",
        "for i in stocks:\n",
        "    print(i)\n",
        "    if i == 'FB':\n",
        "        break"
      ],
      "execution_count": 228,
      "outputs": [
        {
          "output_type": "stream",
          "name": "stdout",
          "text": [
            "AAPL\n",
            "GOOG\n",
            "IBM\n",
            "FB\n"
          ]
        }
      ]
    },
    {
      "cell_type": "code",
      "metadata": {
        "colab": {
          "base_uri": "https://localhost:8080/"
        },
        "id": "mTR0dFAdaB42",
        "outputId": "8b29e6b4-d58f-4b67-862c-8f65aa5ee75a"
      },
      "source": [
        "#ejemplo 36\n",
        "universidades = ['Nacional','Antioquia','Valle','Andes','Javeriana','UIS', 'UTP', 'UPTC']\n",
        "for i in universidades:\n",
        "    print(i)\n",
        "    if i == 'Andes':\n",
        "        break"
      ],
      "execution_count": 76,
      "outputs": [
        {
          "output_type": "stream",
          "name": "stdout",
          "text": [
            "Nacional\n",
            "Antioquia\n",
            "Valle\n",
            "Andes\n"
          ]
        }
      ]
    },
    {
      "cell_type": "markdown",
      "metadata": {
        "id": "R0toxyp3ao0T"
      },
      "source": [
        "The \"continue\" command tells the loop to end this iteration and skip to the next iteration:"
      ]
    },
    {
      "cell_type": "code",
      "metadata": {
        "colab": {
          "base_uri": "https://localhost:8080/"
        },
        "id": "Stg-CH6IOv7g",
        "outputId": "0491b33f-b9b3-405c-ba1e-52c05a946bb5"
      },
      "source": [
        "stocks = ['AAPL','GOOG','IBM','FB','F','V', 'G', 'GE']\n",
        "for i in stocks:\n",
        "    if i == 'FB':\n",
        "        continue\n",
        "    print(i)"
      ],
      "execution_count": 229,
      "outputs": [
        {
          "output_type": "stream",
          "name": "stdout",
          "text": [
            "AAPL\n",
            "GOOG\n",
            "IBM\n",
            "F\n",
            "V\n",
            "G\n",
            "GE\n"
          ]
        }
      ]
    },
    {
      "cell_type": "code",
      "metadata": {
        "colab": {
          "base_uri": "https://localhost:8080/"
        },
        "id": "Q35o2DtUad60",
        "outputId": "a3cc056a-8a86-4d19-91de-f4500781ded8"
      },
      "source": [
        "#Ejemplo 37\n",
        "universidades = ['Nacional','Antioquia','Valle','Andes','Javeriana','UIS', 'UTP', 'UPTC']\n",
        "for i in universidades:\n",
        "    if i == 'Valle':\n",
        "        continue\n",
        "    print(i)"
      ],
      "execution_count": 77,
      "outputs": [
        {
          "output_type": "stream",
          "name": "stdout",
          "text": [
            "Nacional\n",
            "Antioquia\n",
            "Andes\n",
            "Javeriana\n",
            "UIS\n",
            "UTP\n",
            "UPTC\n"
          ]
        }
      ]
    },
    {
      "cell_type": "markdown",
      "metadata": {
        "id": "4NusvdhBaxpZ"
      },
      "source": [
        "# List Comprehension\n",
        "List comprehension is a Pythonic way to create lists. Common applications are to make new lists where each element is the result of some operations applied to each member of another sequence. For example, if we want to create a list of squares using for loop:"
      ]
    },
    {
      "cell_type": "code",
      "metadata": {
        "colab": {
          "base_uri": "https://localhost:8080/"
        },
        "id": "bdxxeOABOv7h",
        "outputId": "6d401562-a544-4ad1-8841-70e890585232"
      },
      "source": [
        "squares = []\n",
        "for i in [1,2,3,4,5]:\n",
        "    squares.append(i**2)\n",
        "print(squares)"
      ],
      "execution_count": 230,
      "outputs": [
        {
          "output_type": "stream",
          "name": "stdout",
          "text": [
            "[1, 4, 9, 16, 25]\n"
          ]
        }
      ]
    },
    {
      "cell_type": "code",
      "metadata": {
        "colab": {
          "base_uri": "https://localhost:8080/"
        },
        "id": "jJFwSZ_ja882",
        "outputId": "135e91d9-5cb2-4b87-96a4-c83aad9f883a"
      },
      "source": [
        "#ejemplo 38\n",
        "squares = []\n",
        "for i in [7,10,2000,25,3]:\n",
        "    squares.append(i**2)\n",
        "print(squares)"
      ],
      "execution_count": 78,
      "outputs": [
        {
          "output_type": "stream",
          "name": "stdout",
          "text": [
            "[49, 100, 4000000, 625, 9]\n"
          ]
        }
      ]
    },
    {
      "cell_type": "markdown",
      "metadata": {
        "id": "--KliJBOa1CC"
      },
      "source": [
        "Using list comprehension:"
      ]
    },
    {
      "cell_type": "code",
      "metadata": {
        "colab": {
          "base_uri": "https://localhost:8080/"
        },
        "id": "440-yjG8Ov7h",
        "outputId": "7bf8fa2f-2dad-49aa-df4f-5649e47ad7bd"
      },
      "source": [
        "list = [1,2,3,4,5]\n",
        "squares = [x**2 for x in list]\n",
        "print(squares)"
      ],
      "execution_count": 231,
      "outputs": [
        {
          "output_type": "stream",
          "name": "stdout",
          "text": [
            "[1, 4, 9, 16, 25]\n"
          ]
        }
      ]
    },
    {
      "cell_type": "code",
      "metadata": {
        "colab": {
          "base_uri": "https://localhost:8080/"
        },
        "id": "FBcwCtmUbVhl",
        "outputId": "746c3643-bafe-4bc1-c5ea-ec77705685c8"
      },
      "source": [
        "#ejemplo 39\n",
        "list = [7,10,2000,25,3]\n",
        "squares = [i**2 for i in list]\n",
        "print(squares)"
      ],
      "execution_count": 79,
      "outputs": [
        {
          "output_type": "stream",
          "name": "stdout",
          "text": [
            "[49, 100, 4000000, 625, 9]\n"
          ]
        }
      ]
    },
    {
      "cell_type": "markdown",
      "metadata": {
        "id": "uMuCfR3ya3zT"
      },
      "source": [
        "Recall the example above where we used a for loop to select stocks. Here we use list comprehension:"
      ]
    },
    {
      "cell_type": "code",
      "metadata": {
        "colab": {
          "base_uri": "https://localhost:8080/"
        },
        "id": "ZGtCtog2Ov7h",
        "outputId": "bd1210ca-4256-4ca6-e835-06415ad2fe08"
      },
      "source": [
        "stocks = ['AAPL','GOOG','IBM','FB','F','V', 'G', 'GE']\n",
        "selected = ['AAPL','IBM']\n",
        "new_list = [x for x in stocks if x in selected]\n",
        "print(new_list)"
      ],
      "execution_count": 232,
      "outputs": [
        {
          "output_type": "stream",
          "name": "stdout",
          "text": [
            "['AAPL', 'IBM']\n"
          ]
        }
      ]
    },
    {
      "cell_type": "code",
      "metadata": {
        "colab": {
          "base_uri": "https://localhost:8080/"
        },
        "id": "vojesq7LcInn",
        "outputId": "db1eec6f-f13d-44c5-9698-d4c213f403ec"
      },
      "source": [
        "#ejemplo 40\n",
        "universidades = ['Nacional','Antioquia','Valle','Andes','Javeriana','UIS', 'UTP', 'UPTC', 'UIS']\n",
        "selected = ['Valle','UIS']\n",
        "new_list = [i for i in universidades if i in selected]\n",
        "print(new_list)"
      ],
      "execution_count": 80,
      "outputs": [
        {
          "output_type": "stream",
          "name": "stdout",
          "text": [
            "['Valle', 'UIS', 'UIS']\n"
          ]
        }
      ]
    },
    {
      "cell_type": "markdown",
      "metadata": {
        "id": "EPeUv6Lia5oD"
      },
      "source": [
        "A list comprehension consists of square brackets containing an expression followed by a \"for\" clause, and possibly \"for\" or \"if\" clauses. For example:"
      ]
    },
    {
      "cell_type": "code",
      "metadata": {
        "colab": {
          "base_uri": "https://localhost:8080/"
        },
        "id": "O1AMB5d7Ov7i",
        "outputId": "52b3e23b-3df4-4589-91ba-15d9a3f01fd9"
      },
      "source": [
        "print([(x, y) for x in [1,2,3] for y in [3,1,4] if x != y])\n",
        "print([str(x)+' vs '+str(y) for x in ['AAPL','GOOG','IBM','FB'] for y in ['F','V','G','GE'] if x!=y])"
      ],
      "execution_count": 233,
      "outputs": [
        {
          "output_type": "stream",
          "name": "stdout",
          "text": [
            "[(1, 3), (1, 4), (2, 3), (2, 1), (2, 4), (3, 1), (3, 4)]\n",
            "['AAPL vs F', 'AAPL vs V', 'AAPL vs G', 'AAPL vs GE', 'GOOG vs F', 'GOOG vs V', 'GOOG vs G', 'GOOG vs GE', 'IBM vs F', 'IBM vs V', 'IBM vs G', 'IBM vs GE', 'FB vs F', 'FB vs V', 'FB vs G', 'FB vs GE']\n"
          ]
        }
      ]
    },
    {
      "cell_type": "code",
      "metadata": {
        "colab": {
          "base_uri": "https://localhost:8080/"
        },
        "id": "trnnsc8HdQCt",
        "outputId": "22ba2941-1180-46af-a29b-092392414e6c"
      },
      "source": [
        "#ejemplo 41\n",
        "print([(x, y) for x in [7,9,5,4] for y in [5,4,7] if x < y])\n",
        "print([str(x)+' vs '+str(y) for x in ['andes','Naciona'] for y in ['F','V'] if x!=y])"
      ],
      "execution_count": 81,
      "outputs": [
        {
          "output_type": "stream",
          "name": "stdout",
          "text": [
            "[(5, 7), (4, 5), (4, 7)]\n",
            "['andes vs F', 'andes vs V', 'Naciona vs F', 'Naciona vs V']\n"
          ]
        }
      ]
    },
    {
      "cell_type": "markdown",
      "metadata": {
        "id": "jJpvq-o4a8P7"
      },
      "source": [
        "List comprehension is an elegant way to organize one or more for loops when creating a list.\n",
        "\n",
        "# Summary\n",
        "This chapter has introduced logical operations, loops, and list comprehension. In the next chapter, we will introduce functions and object-oriented programming, which will enable us to make our codes clean and versatile."
      ]
    },
    {
      "cell_type": "markdown",
      "metadata": {
        "id": "Tef_X2wJbdhn"
      },
      "source": [
        "<div align=\"center\">\n",
        "<img style=\"display: block; margin: auto;\" alt=\"photo\" src=\"https://cdn.quantconnect.com/web/i/icon.png\">\n",
        "\n",
        "Quantconnect\n",
        "\n",
        "Introduction to Financial Python\n",
        "</div>\n",
        "\n",
        "# 03 Functions and Objective-Oriented Programming\n",
        "\n",
        "# Introduction\n",
        "\n",
        "In the last tutorial we introduced logical operations, loops and list comprehension. We will introduce functions and object-oriented programming in this chapter, which will enable us to build complex algorithms in more flexible ways.\n",
        "\n",
        "# Functions\n",
        "A function is a reusable block of code. We can use a function to output a value, or do anything else we want. We can easily define our own function by using the keyword \"def\"."
      ]
    },
    {
      "cell_type": "code",
      "metadata": {
        "colab": {
          "base_uri": "https://localhost:8080/"
        },
        "id": "eE_NkTiSO2PO",
        "outputId": "b763a01f-f21b-4a60-d210-796f9a9ecaf5"
      },
      "source": [
        "def product(x,y):\n",
        "    return x*y\n",
        "print(product(2,3))\n",
        "print(product(5,10))"
      ],
      "execution_count": 234,
      "outputs": [
        {
          "output_type": "stream",
          "name": "stdout",
          "text": [
            "6\n",
            "50\n"
          ]
        }
      ]
    },
    {
      "cell_type": "code",
      "metadata": {
        "colab": {
          "base_uri": "https://localhost:8080/"
        },
        "id": "4DnTwBd8etZz",
        "outputId": "36ed7663-e493-425a-8c1e-d15fac1bf2a6"
      },
      "source": [
        "#ejemplo 42\n",
        "def resta(x,y):\n",
        "    return x-y\n",
        "print(resta(2,3))\n",
        "print(resta(5,10))"
      ],
      "execution_count": 82,
      "outputs": [
        {
          "output_type": "stream",
          "name": "stdout",
          "text": [
            "-1\n",
            "-5\n"
          ]
        }
      ]
    },
    {
      "cell_type": "markdown",
      "metadata": {
        "id": "4oRU_dVJbsdD"
      },
      "source": [
        "The keyword \"def\" is followed by the function name and the parenthesized list of formal parameters. The statements that form the body of the function start at the next line, and must be indented. The product() function above has \"x\" and \"y\" as its parameters. A function doesn't necessarily have parameters:"
      ]
    },
    {
      "cell_type": "code",
      "metadata": {
        "colab": {
          "base_uri": "https://localhost:8080/"
        },
        "id": "JhdWVLbUO2PQ",
        "outputId": "f919f5c4-9b9d-49d8-9987-aaf95ac2e97c"
      },
      "source": [
        "def say_hi():\n",
        "    print('Welcome to QuantConnect')\n",
        "say_hi()"
      ],
      "execution_count": 235,
      "outputs": [
        {
          "output_type": "stream",
          "name": "stdout",
          "text": [
            "Welcome to QuantConnect\n"
          ]
        }
      ]
    },
    {
      "cell_type": "code",
      "metadata": {
        "colab": {
          "base_uri": "https://localhost:8080/"
        },
        "id": "-3kUBC4VfHLE",
        "outputId": "5e3f1e23-e638-48c4-9e87-3f3e5d44c1fe"
      },
      "source": [
        "#ejemplo 43\n",
        "def nombre():\n",
        "    print('Julian Moncada')\n",
        "nombre()"
      ],
      "execution_count": 83,
      "outputs": [
        {
          "output_type": "stream",
          "name": "stdout",
          "text": [
            "Julian Moncada\n"
          ]
        }
      ]
    },
    {
      "cell_type": "markdown",
      "metadata": {
        "id": "lHwqVpWVb1Jr"
      },
      "source": [
        "# Built-in Function\n",
        "**range()** is a function that creates a list containing an arithmetic sequence. It's often used in for loops. The arguments must be integers. If the \"step\" argument is omitted, it defaults to 1."
      ]
    },
    {
      "cell_type": "code",
      "metadata": {
        "colab": {
          "base_uri": "https://localhost:8080/"
        },
        "id": "VVOTELcIO2PQ",
        "outputId": "b6585887-079e-4abf-ced9-88c3e31b23c1"
      },
      "source": [
        "print(range(10))\n",
        "print(range(1,11))\n",
        "print(range(1,11,2))"
      ],
      "execution_count": 236,
      "outputs": [
        {
          "output_type": "stream",
          "name": "stdout",
          "text": [
            "range(0, 10)\n",
            "range(1, 11)\n",
            "range(1, 11, 2)\n"
          ]
        }
      ]
    },
    {
      "cell_type": "code",
      "metadata": {
        "colab": {
          "base_uri": "https://localhost:8080/"
        },
        "id": "Ep-EP6Wsf8qn",
        "outputId": "4cdf0ca1-b486-489b-c94d-c9da3acc68a7"
      },
      "source": [
        "#ejemplo 44\n",
        "print(range(7))\n",
        "print(range(0,10))\n",
        "print(range(2,8,10))"
      ],
      "execution_count": 84,
      "outputs": [
        {
          "output_type": "stream",
          "name": "stdout",
          "text": [
            "range(0, 7)\n",
            "range(0, 10)\n",
            "range(2, 8, 10)\n"
          ]
        }
      ]
    },
    {
      "cell_type": "markdown",
      "metadata": {
        "id": "PD0cSgiwcQ4L"
      },
      "source": [
        "**len()** is another function used together with range() to create a for loop. This function returns the length of an object. The argument must be a sequence or a collection."
      ]
    },
    {
      "cell_type": "code",
      "metadata": {
        "colab": {
          "base_uri": "https://localhost:8080/"
        },
        "id": "Hg18c7v-O2PR",
        "outputId": "53077cd0-31d9-4945-8666-bbd3d0b180f2"
      },
      "source": [
        "tickers = ['AAPL','GOOG','IBM','FB','F','V', 'G', 'GE']\n",
        "print('The length of tickers is {}'.format(len(tickers)))\n",
        "for i in range(len(tickers)):\n",
        "    print(tickers[i])"
      ],
      "execution_count": 237,
      "outputs": [
        {
          "output_type": "stream",
          "name": "stdout",
          "text": [
            "The length of tickers is 8\n",
            "AAPL\n",
            "GOOG\n",
            "IBM\n",
            "FB\n",
            "F\n",
            "V\n",
            "G\n",
            "GE\n"
          ]
        }
      ]
    },
    {
      "cell_type": "code",
      "metadata": {
        "colab": {
          "base_uri": "https://localhost:8080/"
        },
        "id": "sblF7tv-gmp3",
        "outputId": "e3e9fac7-d0d6-4ffd-86a8-744aef830dd3"
      },
      "source": [
        "#ejemplo 45\n",
        "universidades = ['Nacional','Antioquia','Valle','Andes','Javeriana','UIS', 'UTP', 'UPTC', 'UIS']\n",
        "print('The length of universidades is {}'.format(len(universidades)))\n",
        "for i in range(len(universidades)):\n",
        "    print(universidades[i])"
      ],
      "execution_count": 85,
      "outputs": [
        {
          "output_type": "stream",
          "name": "stdout",
          "text": [
            "The length of universidades is 9\n",
            "Nacional\n",
            "Antioquia\n",
            "Valle\n",
            "Andes\n",
            "Javeriana\n",
            "UIS\n",
            "UTP\n",
            "UPTC\n",
            "UIS\n"
          ]
        }
      ]
    },
    {
      "cell_type": "markdown",
      "metadata": {
        "id": "OIQSuub1cWgi"
      },
      "source": [
        "Note: If you want to print only the tickers without those numbers, then simply write \"for ticker in tickers: print ticker\"\n",
        "\n",
        "**map(**) is a function that applies a specific function to every item of a sequence or collection, and returns a list of the results."
      ]
    },
    {
      "cell_type": "markdown",
      "metadata": {
        "id": "pqPuspeG5HAi"
      },
      "source": [
        "Because list at the moment is [1,2,3,4,5] and overwriting list() from builtins we del list"
      ]
    },
    {
      "cell_type": "code",
      "metadata": {
        "colab": {
          "base_uri": "https://localhost:8080/"
        },
        "id": "caV9c-qk4_eZ",
        "outputId": "68b8dadf-e082-4537-dc5c-5c48202ba350"
      },
      "source": [
        "print(list)\n",
        "del list\n",
        "list"
      ],
      "execution_count": 238,
      "outputs": [
        {
          "output_type": "stream",
          "name": "stdout",
          "text": [
            "[1, 2, 3, 4, 5]\n"
          ]
        },
        {
          "output_type": "execute_result",
          "data": {
            "text/plain": [
              "list"
            ]
          },
          "metadata": {},
          "execution_count": 238
        }
      ]
    },
    {
      "cell_type": "code",
      "metadata": {
        "colab": {
          "base_uri": "https://localhost:8080/"
        },
        "id": "WGoxSs96iPcE",
        "outputId": "46ea6298-7b65-4fcd-ca91-799674732fed"
      },
      "source": [
        "#ejemplo 46\n",
        "print(list)\n",
        "del list\n",
        "list"
      ],
      "execution_count": 86,
      "outputs": [
        {
          "output_type": "stream",
          "name": "stdout",
          "text": [
            "[7, 10, 2000, 25, 3]\n"
          ]
        },
        {
          "output_type": "execute_result",
          "data": {
            "text/plain": [
              "list"
            ]
          },
          "metadata": {},
          "execution_count": 86
        }
      ]
    },
    {
      "cell_type": "code",
      "metadata": {
        "colab": {
          "base_uri": "https://localhost:8080/"
        },
        "id": "lJBs5ECT4mSq",
        "outputId": "f75e4c1c-8ac4-40b8-942a-0f0c6f3c0ec3"
      },
      "source": [
        "tickers = ['AAPL','GOOG','IBM','FB','F','V', 'G', 'GE']\n",
        "list(map(len,tickers))"
      ],
      "execution_count": 239,
      "outputs": [
        {
          "output_type": "execute_result",
          "data": {
            "text/plain": [
              "[4, 4, 3, 2, 1, 1, 1, 2]"
            ]
          },
          "metadata": {},
          "execution_count": 239
        }
      ]
    },
    {
      "cell_type": "code",
      "metadata": {
        "colab": {
          "base_uri": "https://localhost:8080/"
        },
        "id": "KroBnqdxinQc",
        "outputId": "d2f23f5a-68e2-4ee7-b027-00102a028b57"
      },
      "source": [
        "#ejemplo 47\n",
        "universidades = ['Nacional','Antioquia','Valle','Andes','Javeriana','UIS', 'UTP', 'UPTC', 'UIS']\n",
        "list(map(len,universidades))"
      ],
      "execution_count": 87,
      "outputs": [
        {
          "output_type": "execute_result",
          "data": {
            "text/plain": [
              "[8, 9, 5, 5, 9, 3, 3, 4, 3]"
            ]
          },
          "metadata": {},
          "execution_count": 87
        }
      ]
    },
    {
      "cell_type": "code",
      "metadata": {
        "colab": {
          "base_uri": "https://localhost:8080/"
        },
        "id": "78DyKVOyO2PR",
        "outputId": "a2fdf4e7-8bb1-4db7-b7e9-d6749b0112f1"
      },
      "source": [
        "tickers = ['AAPL','GOOG','IBM','FB','F','V', 'G', 'GE']\n",
        "print(list(map(len,tickers)))"
      ],
      "execution_count": 240,
      "outputs": [
        {
          "output_type": "stream",
          "name": "stdout",
          "text": [
            "[4, 4, 3, 2, 1, 1, 1, 2]\n"
          ]
        }
      ]
    },
    {
      "cell_type": "code",
      "metadata": {
        "colab": {
          "base_uri": "https://localhost:8080/"
        },
        "id": "SsjLq8O8jVK4",
        "outputId": "cf207f7c-1f2c-4fa1-cd19-6f8a25a954ba"
      },
      "source": [
        "#ejemplo 48\n",
        "universidades = ['Nacional','Antioquia','Valle','Andes','Javeriana','UIS', 'UTP', 'UPTC', 'UIS']\n",
        "print(list(map(len,universidades)))"
      ],
      "execution_count": 88,
      "outputs": [
        {
          "output_type": "stream",
          "name": "stdout",
          "text": [
            "[8, 9, 5, 5, 9, 3, 3, 4, 3]\n"
          ]
        }
      ]
    },
    {
      "cell_type": "markdown",
      "metadata": {
        "id": "mvr06UM7ca7b"
      },
      "source": [
        "The **lambda operator** is a way to create small anonymous functions. These functions are just needed where they have been created. For example:"
      ]
    },
    {
      "cell_type": "code",
      "metadata": {
        "colab": {
          "base_uri": "https://localhost:8080/"
        },
        "id": "pAEHADYXO2PR",
        "outputId": "cbbd4813-41b2-4f32-fd7a-21972ddb68b5"
      },
      "source": [
        "list(map(lambda x: x**2, range(10)))"
      ],
      "execution_count": 241,
      "outputs": [
        {
          "output_type": "execute_result",
          "data": {
            "text/plain": [
              "[0, 1, 4, 9, 16, 25, 36, 49, 64, 81]"
            ]
          },
          "metadata": {},
          "execution_count": 241
        }
      ]
    },
    {
      "cell_type": "code",
      "metadata": {
        "colab": {
          "base_uri": "https://localhost:8080/"
        },
        "id": "sG2F4-sFjo3V",
        "outputId": "6116196f-3413-4809-ba5b-06ba4d97649c"
      },
      "source": [
        "#ejemplo 49\n",
        "list(map(lambda i: i**3, range(15)))"
      ],
      "execution_count": 89,
      "outputs": [
        {
          "output_type": "execute_result",
          "data": {
            "text/plain": [
              "[0, 1, 8, 27, 64, 125, 216, 343, 512, 729, 1000, 1331, 1728, 2197, 2744]"
            ]
          },
          "metadata": {},
          "execution_count": 89
        }
      ]
    },
    {
      "cell_type": "markdown",
      "metadata": {
        "id": "Mgixpxomcj3T"
      },
      "source": [
        "map() can be applied to more than one list. The lists have to have the same length."
      ]
    },
    {
      "cell_type": "code",
      "metadata": {
        "colab": {
          "base_uri": "https://localhost:8080/"
        },
        "id": "HtckhAaJO2PS",
        "outputId": "c3e38f2b-e855-4119-c5ea-d0737fdcad2c"
      },
      "source": [
        "list(map(lambda x, y: x+y, [1,2,3,4,5],[5,4,3,2,1]))"
      ],
      "execution_count": 242,
      "outputs": [
        {
          "output_type": "execute_result",
          "data": {
            "text/plain": [
              "[6, 6, 6, 6, 6]"
            ]
          },
          "metadata": {},
          "execution_count": 242
        }
      ]
    },
    {
      "cell_type": "code",
      "metadata": {
        "colab": {
          "base_uri": "https://localhost:8080/"
        },
        "id": "jnwJFyG1kfXc",
        "outputId": "d152e4f9-3d92-4cc9-db99-b667f4e3c95c"
      },
      "source": [
        "#ejemplo 50\n",
        "list(map(lambda x, y: x/y, [7,5,3,1,8],[5,4,3,7,4]))"
      ],
      "execution_count": 90,
      "outputs": [
        {
          "output_type": "execute_result",
          "data": {
            "text/plain": [
              "[1.4, 1.25, 1.0, 0.14285714285714285, 2.0]"
            ]
          },
          "metadata": {},
          "execution_count": 90
        }
      ]
    },
    {
      "cell_type": "markdown",
      "metadata": {
        "id": "ZDnMTH-KcklT"
      },
      "source": [
        "**sorted()** takes a list or set and returns a new sorted list"
      ]
    },
    {
      "cell_type": "code",
      "metadata": {
        "colab": {
          "base_uri": "https://localhost:8080/"
        },
        "id": "P0sHUMFWO2PS",
        "outputId": "2c3f7ddb-38d5-457d-f3b4-80c6a8ab297f"
      },
      "source": [
        "sorted([5,2,3,4,1])"
      ],
      "execution_count": 243,
      "outputs": [
        {
          "output_type": "execute_result",
          "data": {
            "text/plain": [
              "[1, 2, 3, 4, 5]"
            ]
          },
          "metadata": {},
          "execution_count": 243
        }
      ]
    },
    {
      "cell_type": "code",
      "metadata": {
        "colab": {
          "base_uri": "https://localhost:8080/"
        },
        "id": "-1ff4RNok0Ka",
        "outputId": "63b76ac4-97a6-4c8c-bd54-c6ab0cece942"
      },
      "source": [
        "#ejemplo 51\n",
        "sorted([500,150,69,151,1])"
      ],
      "execution_count": 91,
      "outputs": [
        {
          "output_type": "execute_result",
          "data": {
            "text/plain": [
              "[1, 69, 150, 151, 500]"
            ]
          },
          "metadata": {},
          "execution_count": 91
        }
      ]
    },
    {
      "cell_type": "markdown",
      "metadata": {
        "id": "-N5_EDOFcnsc"
      },
      "source": [
        "We can add a \"key\" parameter to specify a function to be called on each list element prior to making comparisons. For example:"
      ]
    },
    {
      "cell_type": "code",
      "metadata": {
        "colab": {
          "base_uri": "https://localhost:8080/"
        },
        "id": "0i3peZ0bO2PS",
        "outputId": "472b3c83-9d58-48f5-f436-f6e9db9b6282"
      },
      "source": [
        "price_list = [('AAPL',144.09),('GOOG',911.71),('MSFT',69),('FB',150),('WMT',75.32)]\n",
        "sorted(price_list, key = lambda x: x[1])"
      ],
      "execution_count": 244,
      "outputs": [
        {
          "output_type": "execute_result",
          "data": {
            "text/plain": [
              "[('MSFT', 69), ('WMT', 75.32), ('AAPL', 144.09), ('FB', 150), ('GOOG', 911.71)]"
            ]
          },
          "metadata": {},
          "execution_count": 244
        }
      ]
    },
    {
      "cell_type": "code",
      "metadata": {
        "colab": {
          "base_uri": "https://localhost:8080/"
        },
        "id": "44YL2cgclX5L",
        "outputId": "88b48e3f-69e1-4d6f-ed3f-d3516ac8122a"
      },
      "source": [
        "#ejemplo 51\n",
        "price_list = [('unal',144000),('andes',17000000),('valle',250000),('UIS',1500000),('Javeriana',15000000)]\n",
        "sorted(price_list, key = lambda x: x[1])"
      ],
      "execution_count": 92,
      "outputs": [
        {
          "output_type": "execute_result",
          "data": {
            "text/plain": [
              "[('unal', 144000),\n",
              " ('valle', 250000),\n",
              " ('UIS', 1500000),\n",
              " ('Javeriana', 15000000),\n",
              " ('andes', 17000000)]"
            ]
          },
          "metadata": {},
          "execution_count": 92
        }
      ]
    },
    {
      "cell_type": "markdown",
      "metadata": {
        "id": "yun2zptKcxe_"
      },
      "source": [
        "By default the values are sorted by ascending order. We can change it to descending by adding an optional parameter \"reverse'."
      ]
    },
    {
      "cell_type": "code",
      "metadata": {
        "colab": {
          "base_uri": "https://localhost:8080/"
        },
        "id": "dEZqdl94O2PT",
        "outputId": "10f0137d-2e0e-437c-8c16-5cdad16fe0b0"
      },
      "source": [
        "price_list = [('AAPL',144.09),('GOOG',911.71),('MSFT',69),('FB',150),('WMT',75.32)]\n",
        "sorted(price_list, key = lambda x: x[1],reverse = True)"
      ],
      "execution_count": 245,
      "outputs": [
        {
          "output_type": "execute_result",
          "data": {
            "text/plain": [
              "[('GOOG', 911.71), ('FB', 150), ('AAPL', 144.09), ('WMT', 75.32), ('MSFT', 69)]"
            ]
          },
          "metadata": {},
          "execution_count": 245
        }
      ]
    },
    {
      "cell_type": "code",
      "metadata": {
        "colab": {
          "base_uri": "https://localhost:8080/"
        },
        "id": "-LdAlPdel8aG",
        "outputId": "6af15a84-bfd2-46ac-b9bb-a4cef0999370"
      },
      "source": [
        "#ejemplo 52\n",
        "universidades = [('unal',144000),('andes',17000000),('valle',250000),('UIS',1500000),('Javeriana',15000000)]\n",
        "sorted(universidades, key = lambda x: x[1],reverse = True)"
      ],
      "execution_count": 93,
      "outputs": [
        {
          "output_type": "execute_result",
          "data": {
            "text/plain": [
              "[('andes', 17000000),\n",
              " ('Javeriana', 15000000),\n",
              " ('UIS', 1500000),\n",
              " ('valle', 250000),\n",
              " ('unal', 144000)]"
            ]
          },
          "metadata": {},
          "execution_count": 93
        }
      ]
    },
    {
      "cell_type": "markdown",
      "metadata": {
        "id": "OA2wYAa0c6Dn"
      },
      "source": [
        "Lists also have a function list.sort(). This function takes the same \"key\" and \"reverse\" arguments as sorted(), but it doesn't return a new list."
      ]
    },
    {
      "cell_type": "code",
      "metadata": {
        "colab": {
          "base_uri": "https://localhost:8080/"
        },
        "id": "pG9VQCLnO2PT",
        "outputId": "5e12804e-12f2-42e9-c399-60e2b0409bd6"
      },
      "source": [
        "price_list = [('AAPL',144.09),('GOOG',911.71),('MSFT',69),('FB',150),('WMT',75.32)]\n",
        "price_list.sort(key = lambda x: x[1])\n",
        "print(price_list)"
      ],
      "execution_count": 246,
      "outputs": [
        {
          "output_type": "stream",
          "name": "stdout",
          "text": [
            "[('MSFT', 69), ('WMT', 75.32), ('AAPL', 144.09), ('FB', 150), ('GOOG', 911.71)]\n"
          ]
        }
      ]
    },
    {
      "cell_type": "code",
      "metadata": {
        "colab": {
          "base_uri": "https://localhost:8080/"
        },
        "id": "Z7rQ-nKKmdbX",
        "outputId": "154293b4-2256-4309-b314-a384502dc1bd"
      },
      "source": [
        "#ejemplo 53\n",
        "universidades = [('unal',144000),('andes',17000000),('valle',250000),('UIS',1500000),('Javeriana',15000000)]\n",
        "universidades.sort(key = lambda x: x[1])\n",
        "print(universidades)"
      ],
      "execution_count": 94,
      "outputs": [
        {
          "output_type": "stream",
          "name": "stdout",
          "text": [
            "[('unal', 144000), ('valle', 250000), ('UIS', 1500000), ('Javeriana', 15000000), ('andes', 17000000)]\n"
          ]
        }
      ]
    },
    {
      "cell_type": "markdown",
      "metadata": {
        "id": "mxljL1W1c_c5"
      },
      "source": [
        "# Object-Oriented Programming\n",
        "Python is an object-oriented programming language. It's important to understand the concept of \"objects\" because almost every kind of data from QuantConnect API is an object.\n",
        "\n",
        "## Class\n",
        "A class is a type of data, just like a string, float, or list. When we create an object of that data type, we call it an instance of a class.\n",
        "\n",
        "In Python, everything is an object - everything is an instance of some class. The data stored inside an object are called attributes, and the functions which are associated with the object are called methods.\n",
        "\n",
        "For example, as mentioned above, a list is an object of the \"list\" class, and it has a method list.sort().\n",
        "\n",
        "We can create our own objects by defining a class. We would do this when it's helpful to group certain functions together. For example, we define a class named \"Stock\" here:"
      ]
    },
    {
      "cell_type": "code",
      "metadata": {
        "id": "zC4Y4PgDO2PT"
      },
      "source": [
        "class stock:\n",
        "    def __init__(self, ticker, open, close, volume):\n",
        "        self.ticker = ticker\n",
        "        self.open = open\n",
        "        self.close = close\n",
        "        self.volume = volume\n",
        "        self.rate_return = float(close)/open - 1\n",
        " \n",
        "    def update(self, open, close):\n",
        "        self.open = open\n",
        "        self.close = close\n",
        "        self.rate_return = float(self.close)/self.open - 1\n",
        " \n",
        "    def print_return(self):\n",
        "        print(self.rate_return)"
      ],
      "execution_count": 96,
      "outputs": []
    },
    {
      "cell_type": "markdown",
      "metadata": {
        "id": "rV06INT5dETi"
      },
      "source": [
        "The \"Stock\" class has attributes \"ticker\", \"open\", \"close\", \"volume\" and \"rate_return\". Inside the class body, the first method is called __init__, which is a special method. When we create a new instance of the class, the __init__ method is immediately executed with all the parameters that we pass to the \"Stock\" object. The purpose of this method is to set up a new \"Stock\" object using data we have provided.\n",
        "\n",
        "Here we create two Stock objects named \"apple\" and \"google\"."
      ]
    },
    {
      "cell_type": "code",
      "metadata": {
        "id": "8tIpNk93O2PU"
      },
      "source": [
        "apple = stock('AAPL', 143.69, 144.09, 20109375)\n",
        "google = stock('GOOG', 898.7, 911.7, 1561616)"
      ],
      "execution_count": 103,
      "outputs": []
    },
    {
      "cell_type": "code",
      "metadata": {
        "id": "rmk82KipoxsA"
      },
      "source": [
        "#ejemplo54\n",
        "Nacional = stock('unal', 153.69, 184.09, 20199375)\n",
        "andes = stock('UA', 198.7, 711.7, 1991616)"
      ],
      "execution_count": 100,
      "outputs": []
    },
    {
      "cell_type": "markdown",
      "metadata": {
        "id": "VxmELNiHdPKS"
      },
      "source": [
        "Stock objects also have two other methods: update() and print_return(). We can access the attribues of a Stock object and call its methods:"
      ]
    },
    {
      "cell_type": "code",
      "metadata": {
        "colab": {
          "base_uri": "https://localhost:8080/"
        },
        "id": "SsiIkmekO2PU",
        "outputId": "2d62f937-f256-4efc-d697-760d317e4564"
      },
      "source": [
        "apple.ticker\n",
        "google.print_return()\n",
        "google.update(912.8,913.4)\n",
        "google.print_return()"
      ],
      "execution_count": 247,
      "outputs": [
        {
          "output_type": "stream",
          "name": "stdout",
          "text": [
            "1.0\n",
            "0.0006573181419806673\n"
          ]
        }
      ]
    },
    {
      "cell_type": "code",
      "metadata": {
        "colab": {
          "base_uri": "https://localhost:8080/"
        },
        "id": "8HfDyzZ9pEij",
        "outputId": "ab01da1c-658c-4fed-9332-352710cbb9c9"
      },
      "source": [
        "#ejemplo 55\n",
        "apple.ticker\n",
        "google.print_return()\n",
        "google.update(100,200)\n",
        "google.print_return()"
      ],
      "execution_count": 104,
      "outputs": [
        {
          "output_type": "stream",
          "name": "stdout",
          "text": [
            "0.014465338822744034\n",
            "1.0\n"
          ]
        }
      ]
    },
    {
      "cell_type": "markdown",
      "metadata": {
        "id": "Q8fl7keNdVKF"
      },
      "source": [
        "By calling the update() function, we updated the open and close prices of a stock. Please note that when we use the attributes or call the methods **inside a class**, we need to specify them as self.attribute or self.method(), otherwise Python will deem them as global variables and thus raise an error.\n",
        "\n",
        "We can add an attribute to an object anywhere:"
      ]
    },
    {
      "cell_type": "code",
      "metadata": {
        "colab": {
          "base_uri": "https://localhost:8080/",
          "height": 35
        },
        "id": "rO4OLnqOO2PU",
        "outputId": "529caa6f-9cef-4baa-940a-35aaa31b4970"
      },
      "source": [
        "apple.ceo = 'Tim Cook'\n",
        "apple.ceo"
      ],
      "execution_count": 248,
      "outputs": [
        {
          "output_type": "execute_result",
          "data": {
            "application/vnd.google.colaboratory.intrinsic+json": {
              "type": "string"
            },
            "text/plain": [
              "'Tim Cook'"
            ]
          },
          "metadata": {},
          "execution_count": 248
        }
      ]
    },
    {
      "cell_type": "code",
      "metadata": {
        "colab": {
          "base_uri": "https://localhost:8080/",
          "height": 35
        },
        "id": "UCad4ZSJrP0U",
        "outputId": "e412a338-5794-494a-c89a-2d1848360ba3"
      },
      "source": [
        "#ejemplo 56\n",
        "Nacional.rectora ='Dolly Montoya '\n",
        "Nacional.rectora"
      ],
      "execution_count": 105,
      "outputs": [
        {
          "output_type": "execute_result",
          "data": {
            "application/vnd.google.colaboratory.intrinsic+json": {
              "type": "string"
            },
            "text/plain": [
              "'Dolly Montoya '"
            ]
          },
          "metadata": {},
          "execution_count": 105
        }
      ]
    },
    {
      "cell_type": "markdown",
      "metadata": {
        "id": "WyfnFgVidh4J"
      },
      "source": [
        "We can check what names (i.e. attributes and methods) are defined on an object using the dir() function:"
      ]
    },
    {
      "cell_type": "code",
      "metadata": {
        "colab": {
          "base_uri": "https://localhost:8080/"
        },
        "id": "pPoz0LA8O2PU",
        "outputId": "7946f282-975f-4c88-c1ed-05c147d9f8ec"
      },
      "source": [
        "dir(apple)"
      ],
      "execution_count": 249,
      "outputs": [
        {
          "output_type": "execute_result",
          "data": {
            "text/plain": [
              "['__class__',\n",
              " '__delattr__',\n",
              " '__dict__',\n",
              " '__dir__',\n",
              " '__doc__',\n",
              " '__eq__',\n",
              " '__format__',\n",
              " '__ge__',\n",
              " '__getattribute__',\n",
              " '__gt__',\n",
              " '__hash__',\n",
              " '__init__',\n",
              " '__init_subclass__',\n",
              " '__le__',\n",
              " '__lt__',\n",
              " '__module__',\n",
              " '__ne__',\n",
              " '__new__',\n",
              " '__reduce__',\n",
              " '__reduce_ex__',\n",
              " '__repr__',\n",
              " '__setattr__',\n",
              " '__sizeof__',\n",
              " '__str__',\n",
              " '__subclasshook__',\n",
              " '__weakref__',\n",
              " 'ceo',\n",
              " 'close',\n",
              " 'open',\n",
              " 'print_return',\n",
              " 'rate_return',\n",
              " 'ticker',\n",
              " 'update',\n",
              " 'volume']"
            ]
          },
          "metadata": {},
          "execution_count": 249
        }
      ]
    },
    {
      "cell_type": "code",
      "metadata": {
        "colab": {
          "base_uri": "https://localhost:8080/"
        },
        "id": "XmMLdygWsDK3",
        "outputId": "f49039a8-cb5e-4ded-8cea-663137eed744"
      },
      "source": [
        "#ejemplo 57\n",
        "dir(Nacional)"
      ],
      "execution_count": 106,
      "outputs": [
        {
          "output_type": "execute_result",
          "data": {
            "text/plain": [
              "['__class__',\n",
              " '__delattr__',\n",
              " '__dict__',\n",
              " '__dir__',\n",
              " '__doc__',\n",
              " '__eq__',\n",
              " '__format__',\n",
              " '__ge__',\n",
              " '__getattribute__',\n",
              " '__gt__',\n",
              " '__hash__',\n",
              " '__init__',\n",
              " '__init_subclass__',\n",
              " '__le__',\n",
              " '__lt__',\n",
              " '__module__',\n",
              " '__ne__',\n",
              " '__new__',\n",
              " '__reduce__',\n",
              " '__reduce_ex__',\n",
              " '__repr__',\n",
              " '__setattr__',\n",
              " '__sizeof__',\n",
              " '__str__',\n",
              " '__subclasshook__',\n",
              " '__weakref__',\n",
              " 'close',\n",
              " 'open',\n",
              " 'print_return',\n",
              " 'rate_return',\n",
              " 'rectora',\n",
              " 'ticker',\n",
              " 'update',\n",
              " 'volume']"
            ]
          },
          "metadata": {},
          "execution_count": 106
        }
      ]
    },
    {
      "cell_type": "markdown",
      "metadata": {
        "id": "Qpemj1UZd2aa"
      },
      "source": [
        "## Inheritance\n",
        "Inheritance is a way of arranging classes in a hierarchy from the most general to the most specific. A \"child\" class is a more specific type of a \"parent\" class because a child class will inherit all the attribues and methods of its parent. For example, we define a class named \"Child\" which inherits \"Stock\":"
      ]
    },
    {
      "cell_type": "code",
      "metadata": {
        "id": "UELXnxomO2PV"
      },
      "source": [
        "class child(stock):\n",
        "    def __init__(self,name):\n",
        "        self.name = name"
      ],
      "execution_count": 250,
      "outputs": []
    },
    {
      "cell_type": "code",
      "metadata": {
        "id": "ukOCdcufscMQ"
      },
      "source": [
        "#ejemplo 58\n",
        "class child(stock):\n",
        "    def __init__(self,name):\n",
        "        self.name = name"
      ],
      "execution_count": 107,
      "outputs": []
    },
    {
      "cell_type": "code",
      "metadata": {
        "colab": {
          "base_uri": "https://localhost:8080/"
        },
        "id": "ffS2THZyO2PV",
        "outputId": "21bf119a-1e6e-4cc7-91ec-62944514c481"
      },
      "source": [
        "aa = child('aa')\n",
        "print(aa.name)\n",
        "aa.update(100,102)\n",
        "print(aa.open)\n",
        "print(aa.close)\n",
        "print(aa.print_return())"
      ],
      "execution_count": 251,
      "outputs": [
        {
          "output_type": "stream",
          "name": "stdout",
          "text": [
            "aa\n",
            "100\n",
            "102\n",
            "0.020000000000000018\n",
            "None\n"
          ]
        }
      ]
    },
    {
      "cell_type": "code",
      "metadata": {
        "colab": {
          "base_uri": "https://localhost:8080/"
        },
        "id": "U3BkAq9DtGQD",
        "outputId": "75d6e2b7-948b-4797-d825-87a506c7d96e"
      },
      "source": [
        "#ejemplo 59\n",
        "Julian = child('aa')\n",
        "print(aa.name)\n",
        "aa.update(1,21)\n",
        "print(aa.open)\n",
        "print(aa.close)\n",
        "print(aa.print_return())"
      ],
      "execution_count": 110,
      "outputs": [
        {
          "output_type": "stream",
          "name": "stdout",
          "text": [
            "aa\n",
            "1\n",
            "21\n",
            "20.0\n",
            "None\n"
          ]
        }
      ]
    },
    {
      "cell_type": "markdown",
      "metadata": {
        "id": "pdIEjUv2eJqL"
      },
      "source": [
        "As seen above, the new class Child has inherited the methods from Stock.\n",
        "\n",
        "#Summary\n",
        "\n",
        "In this chapter we have introduced functions and classes. When we write a QuantConnect algorithm, we would define our algorithm as a class (QCAlgorithm). This means our algorithm inherited the QC API methods from QCAlgorithm class.\n",
        "\n",
        "In the next chapter, we will introduce NumPy and Pandas, which enable us to conduct scientific calculations in Python."
      ]
    },
    {
      "cell_type": "markdown",
      "metadata": {
        "id": "dQbENH6mexTd"
      },
      "source": [
        "<div align=\"center\">\n",
        "<img style=\"display: block; margin: auto;\" alt=\"photo\" src=\"https://cdn.quantconnect.com/web/i/icon.png\">\n",
        "\n",
        "Quantconnect\n",
        "\n",
        "Introduction to Financial Python\n",
        "</div>\n",
        "\n",
        "# 04 NumPy and Basic Pandas\n",
        "\n",
        "# Introduction\n",
        "\n",
        "Now that we have introduced the fundamentals of Python, it's time to learn about NumPy and Pandas.\n",
        "\n",
        "# NumPy\n",
        "NumPy is the core library for scientific computing in Python. It provides a high-performance multidimensional array object, and tools for working with these arrays. It also has strong integration with Pandas, which is another powerful tool for manipulating financial data.\n",
        "\n",
        "Python packages like NumPy and Pandas contain classes and methods which we can use by importing the package:"
      ]
    },
    {
      "cell_type": "code",
      "metadata": {
        "id": "aIESp-rdO58h"
      },
      "source": [
        "import numpy as np"
      ],
      "execution_count": 253,
      "outputs": []
    },
    {
      "cell_type": "markdown",
      "metadata": {
        "id": "GScHHJ5ke7ea"
      },
      "source": [
        "## Basic NumPy Arrays\n",
        "A NumPy array is a grid of values, all of the same type, and is indexed by a tuple of nonnegative integers. Here we make an array by passing a list of Apple stock prices:"
      ]
    },
    {
      "cell_type": "code",
      "metadata": {
        "colab": {
          "base_uri": "https://localhost:8080/"
        },
        "id": "lZI1wkwDO58i",
        "outputId": "21a36f47-d00e-4ebf-85bc-87c8803dcfba"
      },
      "source": [
        "price_list = [143.73, 145.83, 143.68, 144.02, 143.5, 142.62]\n",
        "price_array = np.array(price_list)\n",
        "print(price_array, type(price_array))"
      ],
      "execution_count": 254,
      "outputs": [
        {
          "output_type": "stream",
          "name": "stdout",
          "text": [
            "[143.73 145.83 143.68 144.02 143.5  142.62] <class 'numpy.ndarray'>\n"
          ]
        }
      ]
    },
    {
      "cell_type": "code",
      "metadata": {
        "colab": {
          "base_uri": "https://localhost:8080/"
        },
        "id": "FE0cW0srvAyR",
        "outputId": "5734c47d-e21c-4ab4-c7d3-12bcb6042641"
      },
      "source": [
        "#ejemplo 60\n",
        "numeros = [-15.5, 100.5, 16.2, 300.5, 70.9, 89.1]\n",
        "price_array = np.array(numeros)\n",
        "print(price_array, type(price_array))"
      ],
      "execution_count": 112,
      "outputs": [
        {
          "output_type": "stream",
          "name": "stdout",
          "text": [
            "[-15.5 100.5  16.2 300.5  70.9  89.1] <class 'numpy.ndarray'>\n"
          ]
        }
      ]
    },
    {
      "cell_type": "markdown",
      "metadata": {
        "id": "-5Yj6u9ifB-t"
      },
      "source": [
        "Notice that the type of array is \"ndarray\" which is a multi-dimensional array. If we pass np.array() a list of lists, it will create a 2-dimensional array."
      ]
    },
    {
      "cell_type": "code",
      "metadata": {
        "colab": {
          "base_uri": "https://localhost:8080/"
        },
        "id": "obvIZrK-O58j",
        "outputId": "b9e231c9-4f51-4fd2-d434-482a8a459aa7"
      },
      "source": [
        "Ar = np.array([[1,3],[2,4]])\n",
        "print(Ar, type(Ar))"
      ],
      "execution_count": 255,
      "outputs": [
        {
          "output_type": "stream",
          "name": "stdout",
          "text": [
            "[[1 3]\n",
            " [2 4]] <class 'numpy.ndarray'>\n"
          ]
        }
      ]
    },
    {
      "cell_type": "code",
      "metadata": {
        "colab": {
          "base_uri": "https://localhost:8080/"
        },
        "id": "LvAyKVX6BHua",
        "outputId": "7cf90cd4-72c4-4de9-a8da-54d1f8ab0283"
      },
      "source": [
        "#ejemplo 61\n",
        "Ar = np.array([[2,3,7,8],[2,7,4,9],[5,7,8,15]])\n",
        "print(Ar, type(Ar))"
      ],
      "execution_count": 113,
      "outputs": [
        {
          "output_type": "stream",
          "name": "stdout",
          "text": [
            "[[ 2  3  7  8]\n",
            " [ 2  7  4  9]\n",
            " [ 5  7  8 15]] <class 'numpy.ndarray'>\n"
          ]
        }
      ]
    },
    {
      "cell_type": "markdown",
      "metadata": {
        "id": "uDdfLD9HfHkl"
      },
      "source": [
        "We get the dimensions of an ndarray using the .shape attribute:"
      ]
    },
    {
      "cell_type": "code",
      "metadata": {
        "colab": {
          "base_uri": "https://localhost:8080/"
        },
        "id": "G2txdn73O58j",
        "outputId": "ed00f642-30d0-4a50-f557-8a0c8a3dbff3"
      },
      "source": [
        "print(Ar.shape)"
      ],
      "execution_count": 256,
      "outputs": [
        {
          "output_type": "stream",
          "name": "stdout",
          "text": [
            "(2, 2)\n"
          ]
        }
      ]
    },
    {
      "cell_type": "code",
      "metadata": {
        "colab": {
          "base_uri": "https://localhost:8080/"
        },
        "id": "Pw74cR43BytL",
        "outputId": "e1f50016-668a-4a0f-9d20-c552be5b12ce"
      },
      "source": [
        "#ejemplo 62 tamaño de la matriz creada\n",
        "print(Ar.shape)"
      ],
      "execution_count": 114,
      "outputs": [
        {
          "output_type": "stream",
          "name": "stdout",
          "text": [
            "(3, 4)\n"
          ]
        }
      ]
    },
    {
      "cell_type": "markdown",
      "metadata": {
        "id": "87W5ueORfPEy"
      },
      "source": [
        "If we create an 2-dimensional array (i.e. matrix), each row can be accessed by index:"
      ]
    },
    {
      "cell_type": "code",
      "metadata": {
        "colab": {
          "base_uri": "https://localhost:8080/"
        },
        "id": "x_QV9aPbO58j",
        "outputId": "050445ca-adbd-4e70-d522-fb8f52b1257e"
      },
      "source": [
        "print(Ar[0])\n",
        "print(Ar[1])"
      ],
      "execution_count": 257,
      "outputs": [
        {
          "output_type": "stream",
          "name": "stdout",
          "text": [
            "[1 3]\n",
            "[2 4]\n"
          ]
        }
      ]
    },
    {
      "cell_type": "code",
      "metadata": {
        "colab": {
          "base_uri": "https://localhost:8080/"
        },
        "id": "MzEMHxaUB_Ni",
        "outputId": "00faa8e9-b816-4dc0-a141-cf8fca34e2ce"
      },
      "source": [
        "#ejemplo 63\n",
        "print(Ar[0])\n",
        "print(Ar[2])"
      ],
      "execution_count": 115,
      "outputs": [
        {
          "output_type": "stream",
          "name": "stdout",
          "text": [
            "[2 3 7 8]\n",
            "[ 5  7  8 15]\n"
          ]
        }
      ]
    },
    {
      "cell_type": "markdown",
      "metadata": {
        "id": "5Hke7Vt-fSGB"
      },
      "source": [
        "If we want to access the matrix by column instead:"
      ]
    },
    {
      "cell_type": "code",
      "metadata": {
        "colab": {
          "base_uri": "https://localhost:8080/"
        },
        "id": "gHVwbPfOO58j",
        "outputId": "b4e78ba5-dd34-41de-ca79-48f1e6b13c63"
      },
      "source": [
        "print('the first column: ', Ar[:,0])\n",
        "print('the second column: ', Ar[:,1])"
      ],
      "execution_count": 258,
      "outputs": [
        {
          "output_type": "stream",
          "name": "stdout",
          "text": [
            "the first column:  [1 2]\n",
            "the second column:  [3 4]\n"
          ]
        }
      ]
    },
    {
      "cell_type": "code",
      "metadata": {
        "colab": {
          "base_uri": "https://localhost:8080/"
        },
        "id": "JlMyN15rCVG_",
        "outputId": "9ebb4342-9bda-44ee-abf5-779bbc98e21b"
      },
      "source": [
        "#ejemplo 64\n",
        "print('the first column: ', Ar[:,0])\n",
        "print('the four column: ', Ar[:,3])"
      ],
      "execution_count": 116,
      "outputs": [
        {
          "output_type": "stream",
          "name": "stdout",
          "text": [
            "the first column:  [2 2 5]\n",
            "the four column:  [ 8  9 15]\n"
          ]
        }
      ]
    },
    {
      "cell_type": "markdown",
      "metadata": {
        "id": "T61cD0HMfStB"
      },
      "source": [
        "## Array Functions\n",
        "Some functions built in NumPy that allow us to perform calculations on arrays. For example, we can apply the natural logarithm to each element of an array:"
      ]
    },
    {
      "cell_type": "code",
      "metadata": {
        "colab": {
          "base_uri": "https://localhost:8080/"
        },
        "id": "PKhwtJ7XO58k",
        "outputId": "13100dfe-36bd-4183-8606-64ed614a0619"
      },
      "source": [
        "print(np.log(Ar))"
      ],
      "execution_count": 259,
      "outputs": [
        {
          "output_type": "stream",
          "name": "stdout",
          "text": [
            "[[0.         1.09861229]\n",
            " [0.69314718 1.38629436]]\n"
          ]
        }
      ]
    },
    {
      "cell_type": "code",
      "metadata": {
        "colab": {
          "base_uri": "https://localhost:8080/"
        },
        "id": "kAFslYTwEfW6",
        "outputId": "9242c996-e523-4909-959f-2d239e0d131a"
      },
      "source": [
        "#ejemplo 65\n",
        "print(np.log(Ar))"
      ],
      "execution_count": 117,
      "outputs": [
        {
          "output_type": "stream",
          "name": "stdout",
          "text": [
            "[[0.69314718 1.09861229 1.94591015 2.07944154]\n",
            " [0.69314718 1.94591015 1.38629436 2.19722458]\n",
            " [1.60943791 1.94591015 2.07944154 2.7080502 ]]\n"
          ]
        }
      ]
    },
    {
      "cell_type": "markdown",
      "metadata": {
        "id": "uzjBRFBLfZ-D"
      },
      "source": [
        "Other functions return a single value:"
      ]
    },
    {
      "cell_type": "code",
      "metadata": {
        "colab": {
          "base_uri": "https://localhost:8080/"
        },
        "id": "nQuABZqUO58k",
        "outputId": "27698f68-da88-4fe4-ec64-3ecf72c20869"
      },
      "source": [
        "print(np.mean(price_array))\n",
        "print(np.std(price_array))\n",
        "print(np.sum(price_array))\n",
        "print(np.max(price_array))"
      ],
      "execution_count": 260,
      "outputs": [
        {
          "output_type": "stream",
          "name": "stdout",
          "text": [
            "143.89666666666668\n",
            "0.9673790478515796\n",
            "863.38\n",
            "145.83\n"
          ]
        }
      ]
    },
    {
      "cell_type": "code",
      "metadata": {
        "colab": {
          "base_uri": "https://localhost:8080/"
        },
        "id": "eQcCf33gXdcC",
        "outputId": "ded69d36-62c2-47a9-81c5-bd91c3bb0517"
      },
      "source": [
        "#ejemplo 66\n",
        "print(np.mean(Ar))\n",
        "print(np.std(Ar))\n",
        "print(np.sum(Ar))\n",
        "print(np.max(Ar))"
      ],
      "execution_count": 118,
      "outputs": [
        {
          "output_type": "stream",
          "name": "stdout",
          "text": [
            "6.416666666666667\n",
            "3.4751099103321734\n",
            "77\n",
            "15\n"
          ]
        }
      ]
    },
    {
      "cell_type": "markdown",
      "metadata": {
        "id": "IRW95BsifgDB"
      },
      "source": [
        "The functions above return the mean, standard deviation, total and maximum value of an array.\n",
        "\n",
        "# Pandas\n",
        "Pandas is one of the most powerful tools for dealing with financial data. \n",
        "\n",
        "First we need to import Pandas:"
      ]
    },
    {
      "cell_type": "code",
      "metadata": {
        "id": "xIYH4oUfO58k"
      },
      "source": [
        "import pandas as pd"
      ],
      "execution_count": 119,
      "outputs": []
    },
    {
      "cell_type": "markdown",
      "metadata": {
        "id": "zOig5gORfnJU"
      },
      "source": [
        "## Series\n",
        "Series is a one-dimensional labeled array capable of holding any data type (integers, strings, float, Python object, etc.)\n",
        "\n",
        "We create a Series by calling pd.Series(data), where data can be a dictionary, an array or just a scalar value."
      ]
    },
    {
      "cell_type": "code",
      "metadata": {
        "colab": {
          "base_uri": "https://localhost:8080/"
        },
        "id": "JmzoNzrPO58k",
        "outputId": "fe8d6805-1d5c-44ee-ef84-2f1463885892"
      },
      "source": [
        "price = [143.73, 145.83, 143.68, 144.02, 143.5, 142.62]\n",
        "s = pd.Series(price)\n",
        "s"
      ],
      "execution_count": 261,
      "outputs": [
        {
          "output_type": "execute_result",
          "data": {
            "text/plain": [
              "0    143.73\n",
              "1    145.83\n",
              "2    143.68\n",
              "3    144.02\n",
              "4    143.50\n",
              "5    142.62\n",
              "dtype: float64"
            ]
          },
          "metadata": {},
          "execution_count": 261
        }
      ]
    },
    {
      "cell_type": "code",
      "metadata": {
        "colab": {
          "base_uri": "https://localhost:8080/"
        },
        "id": "ogjp7Tp2ZpcA",
        "outputId": "b5f49527-dfa6-462f-e49e-f261f42cd3f3"
      },
      "source": [
        "#ejemplo 67\n",
        "precio = [173.73, 185.83, 343.68, 543.02, 652.5, 25.62]\n",
        "s = pd.Series(precio)\n",
        "s"
      ],
      "execution_count": 120,
      "outputs": [
        {
          "output_type": "execute_result",
          "data": {
            "text/plain": [
              "0    173.73\n",
              "1    185.83\n",
              "2    343.68\n",
              "3    543.02\n",
              "4    652.50\n",
              "5     25.62\n",
              "dtype: float64"
            ]
          },
          "metadata": {},
          "execution_count": 120
        }
      ]
    },
    {
      "cell_type": "markdown",
      "metadata": {
        "id": "tP5iDnunfq46"
      },
      "source": [
        "We can customize the indices of a new Series:"
      ]
    },
    {
      "cell_type": "code",
      "metadata": {
        "colab": {
          "base_uri": "https://localhost:8080/"
        },
        "id": "eswQC3ZPO58l",
        "outputId": "61ce470f-6719-43eb-a22a-eef64c4b8bfd"
      },
      "source": [
        "s = pd.Series(price,index = ['a','b','c','d','e','f'])\n",
        "s"
      ],
      "execution_count": 262,
      "outputs": [
        {
          "output_type": "execute_result",
          "data": {
            "text/plain": [
              "a    143.73\n",
              "b    145.83\n",
              "c    143.68\n",
              "d    144.02\n",
              "e    143.50\n",
              "f    142.62\n",
              "dtype: float64"
            ]
          },
          "metadata": {},
          "execution_count": 262
        }
      ]
    },
    {
      "cell_type": "code",
      "metadata": {
        "colab": {
          "base_uri": "https://localhost:8080/"
        },
        "id": "6yfbyn6BaMjb",
        "outputId": "ef09a6ce-1127-40fa-f4a1-7348dd33c6b1"
      },
      "source": [
        "#ejemplo 68\n",
        "s = pd.Series(precio,index = ['a','b','c','d','e','f'])\n",
        "s"
      ],
      "execution_count": 121,
      "outputs": [
        {
          "output_type": "execute_result",
          "data": {
            "text/plain": [
              "a    173.73\n",
              "b    185.83\n",
              "c    343.68\n",
              "d    543.02\n",
              "e    652.50\n",
              "f     25.62\n",
              "dtype: float64"
            ]
          },
          "metadata": {},
          "execution_count": 121
        }
      ]
    },
    {
      "cell_type": "markdown",
      "metadata": {
        "id": "wdZrb8pEfuua"
      },
      "source": [
        "Or we can change the indices of an existing Series:"
      ]
    },
    {
      "cell_type": "code",
      "metadata": {
        "colab": {
          "base_uri": "https://localhost:8080/"
        },
        "id": "MwlRnPF6O58l",
        "outputId": "8bb5229f-71e8-44a7-f36b-4fe5423f68c3"
      },
      "source": [
        "s.index = [6,5,4,3,2,1]\n",
        "s"
      ],
      "execution_count": 263,
      "outputs": [
        {
          "output_type": "execute_result",
          "data": {
            "text/plain": [
              "6    143.73\n",
              "5    145.83\n",
              "4    143.68\n",
              "3    144.02\n",
              "2    143.50\n",
              "1    142.62\n",
              "dtype: float64"
            ]
          },
          "metadata": {},
          "execution_count": 263
        }
      ]
    },
    {
      "cell_type": "code",
      "metadata": {
        "colab": {
          "base_uri": "https://localhost:8080/"
        },
        "id": "hbQMTd16abAL",
        "outputId": "5ef2f8b5-8529-48f9-f2df-dfd92ac51607"
      },
      "source": [
        "#ejemplo 69\n",
        "s.index = [6,5,4,3,2,1]\n",
        "s"
      ],
      "execution_count": 122,
      "outputs": [
        {
          "output_type": "execute_result",
          "data": {
            "text/plain": [
              "6    173.73\n",
              "5    185.83\n",
              "4    343.68\n",
              "3    543.02\n",
              "2    652.50\n",
              "1     25.62\n",
              "dtype: float64"
            ]
          },
          "metadata": {},
          "execution_count": 122
        }
      ]
    },
    {
      "cell_type": "markdown",
      "metadata": {
        "id": "6cGNQZwLfxIz"
      },
      "source": [
        "Series is like a list since it can be sliced by index:"
      ]
    },
    {
      "cell_type": "code",
      "metadata": {
        "colab": {
          "base_uri": "https://localhost:8080/"
        },
        "id": "N9bBSg6cO58l",
        "outputId": "153691d4-bf0d-48ba-a489-6bca8f0deffd"
      },
      "source": [
        "print(s[1:])\n",
        "print(s[:-2])"
      ],
      "execution_count": 264,
      "outputs": [
        {
          "output_type": "stream",
          "name": "stdout",
          "text": [
            "5    145.83\n",
            "4    143.68\n",
            "3    144.02\n",
            "2    143.50\n",
            "1    142.62\n",
            "dtype: float64\n",
            "6    143.73\n",
            "5    145.83\n",
            "4    143.68\n",
            "3    144.02\n",
            "dtype: float64\n"
          ]
        }
      ]
    },
    {
      "cell_type": "code",
      "metadata": {
        "colab": {
          "base_uri": "https://localhost:8080/"
        },
        "id": "CJdR2FFWavQO",
        "outputId": "8af555a4-0244-4590-92bc-b196c6051714"
      },
      "source": [
        "#ejemplo 70\n",
        "print(s[2:])\n",
        "print(s[:-4])"
      ],
      "execution_count": 123,
      "outputs": [
        {
          "output_type": "stream",
          "name": "stdout",
          "text": [
            "4    343.68\n",
            "3    543.02\n",
            "2    652.50\n",
            "1     25.62\n",
            "dtype: float64\n",
            "6    173.73\n",
            "5    185.83\n",
            "dtype: float64\n"
          ]
        }
      ]
    },
    {
      "cell_type": "markdown",
      "metadata": {
        "id": "5V25nViZfz3Z"
      },
      "source": [
        "Series is also like a dictionary whose values can be set or fetched by index label:"
      ]
    },
    {
      "cell_type": "code",
      "metadata": {
        "colab": {
          "base_uri": "https://localhost:8080/"
        },
        "id": "b3Y0kKGYO58l",
        "outputId": "dbc12d47-8716-4157-fc82-6f1e3b045683"
      },
      "source": [
        "print(s[4])\n",
        "s[4] = 0\n",
        "print(s)"
      ],
      "execution_count": 265,
      "outputs": [
        {
          "output_type": "stream",
          "name": "stdout",
          "text": [
            "143.68\n",
            "6    143.73\n",
            "5    145.83\n",
            "4      0.00\n",
            "3    144.02\n",
            "2    143.50\n",
            "1    142.62\n",
            "dtype: float64\n"
          ]
        }
      ]
    },
    {
      "cell_type": "code",
      "metadata": {
        "colab": {
          "base_uri": "https://localhost:8080/"
        },
        "id": "jxoPhjSrbF0f",
        "outputId": "2a1d3d70-ae56-46b5-f989-e35b62c834b8"
      },
      "source": [
        "#ejemplo 71\n",
        "print(s[1])\n",
        "s[1]=1500.6\n",
        "print(s)"
      ],
      "execution_count": 124,
      "outputs": [
        {
          "output_type": "stream",
          "name": "stdout",
          "text": [
            "25.62\n",
            "6     173.73\n",
            "5     185.83\n",
            "4     343.68\n",
            "3     543.02\n",
            "2     652.50\n",
            "1    1500.60\n",
            "dtype: float64\n"
          ]
        }
      ]
    },
    {
      "cell_type": "markdown",
      "metadata": {
        "id": "RQ1P7Gkyf060"
      },
      "source": [
        "Series can also have a name attribute, which will be used when we make up a Pandas DataFrame using several series."
      ]
    },
    {
      "cell_type": "code",
      "metadata": {
        "colab": {
          "base_uri": "https://localhost:8080/"
        },
        "id": "ZeD4-p7KO58m",
        "outputId": "e9d384b3-fdd0-432c-9f2d-ef99c5d11a62"
      },
      "source": [
        "s = pd.Series(price, name = 'Apple Price List')\n",
        "print(s)\n",
        "print(s.name)"
      ],
      "execution_count": 266,
      "outputs": [
        {
          "output_type": "stream",
          "name": "stdout",
          "text": [
            "0    143.73\n",
            "1    145.83\n",
            "2    143.68\n",
            "3    144.02\n",
            "4    143.50\n",
            "5    142.62\n",
            "Name: Apple Price List, dtype: float64\n",
            "Apple Price List\n"
          ]
        }
      ]
    },
    {
      "cell_type": "code",
      "metadata": {
        "colab": {
          "base_uri": "https://localhost:8080/"
        },
        "id": "GfC9qG2LcAyj",
        "outputId": "31547058-d7d4-407b-c611-5fabc5e4c9be"
      },
      "source": [
        "#ejemplo 72\n",
        "s = pd.Series(precio, name = 'precio de objetos')\n",
        "print(s)\n",
        "print(s.name)"
      ],
      "execution_count": 125,
      "outputs": [
        {
          "output_type": "stream",
          "name": "stdout",
          "text": [
            "0    173.73\n",
            "1    185.83\n",
            "2    343.68\n",
            "3    543.02\n",
            "4    652.50\n",
            "5     25.62\n",
            "Name: precio de objetos, dtype: float64\n",
            "precio de objetos\n"
          ]
        }
      ]
    },
    {
      "cell_type": "markdown",
      "metadata": {
        "id": "geJb1pGHf5Et"
      },
      "source": [
        "We can get the statistical summaries of a Series:"
      ]
    },
    {
      "cell_type": "code",
      "metadata": {
        "colab": {
          "base_uri": "https://localhost:8080/"
        },
        "id": "mGPtFcjegm4i",
        "outputId": "7f17c572-9387-4f75-816b-ba5cf22a6a67"
      },
      "source": [
        "print(s.describe())"
      ],
      "execution_count": 267,
      "outputs": [
        {
          "output_type": "stream",
          "name": "stdout",
          "text": [
            "count      6.000000\n",
            "mean     143.896667\n",
            "std        1.059711\n",
            "min      142.620000\n",
            "25%      143.545000\n",
            "50%      143.705000\n",
            "75%      143.947500\n",
            "max      145.830000\n",
            "Name: Apple Price List, dtype: float64\n"
          ]
        }
      ]
    },
    {
      "cell_type": "code",
      "metadata": {
        "colab": {
          "base_uri": "https://localhost:8080/"
        },
        "id": "6r4YGUY4cXJm",
        "outputId": "625e620f-b8d9-4267-b598-8582a8b1f89f"
      },
      "source": [
        "#ejemplo 73\n",
        "print(s.describe())"
      ],
      "execution_count": 126,
      "outputs": [
        {
          "output_type": "stream",
          "name": "stdout",
          "text": [
            "count      6.000000\n",
            "mean     320.730000\n",
            "std      239.544485\n",
            "min       25.620000\n",
            "25%      176.755000\n",
            "50%      264.755000\n",
            "75%      493.185000\n",
            "max      652.500000\n",
            "Name: precio de objetos, dtype: float64\n"
          ]
        }
      ]
    },
    {
      "cell_type": "markdown",
      "metadata": {
        "id": "LkdZu-CDgvlR"
      },
      "source": [
        "## Time Index\n",
        "Pandas has a built-in function specifically for creating date indices: pd.date_range(). We use it to create a new index for our Series:"
      ]
    },
    {
      "cell_type": "code",
      "metadata": {
        "colab": {
          "base_uri": "https://localhost:8080/"
        },
        "id": "HJe5hU4zO58m",
        "outputId": "0d0f63ba-a76b-452f-ecfc-88a75e5f9c2e"
      },
      "source": [
        "time_index = pd.date_range('2017-01-01',periods = len(s),freq = 'D')\n",
        "print(time_index)\n",
        "s.index = time_index\n",
        "print(s)"
      ],
      "execution_count": 268,
      "outputs": [
        {
          "output_type": "stream",
          "name": "stdout",
          "text": [
            "DatetimeIndex(['2017-01-01', '2017-01-02', '2017-01-03', '2017-01-04',\n",
            "               '2017-01-05', '2017-01-06'],\n",
            "              dtype='datetime64[ns]', freq='D')\n",
            "2017-01-01    143.73\n",
            "2017-01-02    145.83\n",
            "2017-01-03    143.68\n",
            "2017-01-04    144.02\n",
            "2017-01-05    143.50\n",
            "2017-01-06    142.62\n",
            "Freq: D, Name: Apple Price List, dtype: float64\n"
          ]
        }
      ]
    },
    {
      "cell_type": "code",
      "metadata": {
        "colab": {
          "base_uri": "https://localhost:8080/"
        },
        "id": "PpmVh0m_ctP9",
        "outputId": "08f84bcb-7b17-43f8-c540-d7cfdd8a9007"
      },
      "source": [
        "#ejemplo 74\n",
        "time_index = pd.date_range('2021-10-20',periods = len(s),freq = 'M')\n",
        "#\"la M, D ,A me canvia el parametro que va a sumar uno, sea dia, mes o año\"\n",
        "print(time_index)\n",
        "s.index = time_index\n",
        "print(s)"
      ],
      "execution_count": 127,
      "outputs": [
        {
          "output_type": "stream",
          "name": "stdout",
          "text": [
            "DatetimeIndex(['2021-10-31', '2021-11-30', '2021-12-31', '2022-01-31',\n",
            "               '2022-02-28', '2022-03-31'],\n",
            "              dtype='datetime64[ns]', freq='M')\n",
            "2021-10-31    173.73\n",
            "2021-11-30    185.83\n",
            "2021-12-31    343.68\n",
            "2022-01-31    543.02\n",
            "2022-02-28    652.50\n",
            "2022-03-31     25.62\n",
            "Freq: M, Name: precio de objetos, dtype: float64\n"
          ]
        }
      ]
    },
    {
      "cell_type": "markdown",
      "metadata": {
        "id": "7WedejFZg19J"
      },
      "source": [
        "Series are usually accessed using the iloc[] and loc[] methods. iloc[] is used to access elements by integer index, and loc[] is used to access the index of the series.\n",
        "\n",
        "iloc[] is necessary when the index of a series are integers, take our previous defined series as example:"
      ]
    },
    {
      "cell_type": "code",
      "metadata": {
        "colab": {
          "base_uri": "https://localhost:8080/"
        },
        "id": "KrVSOyMvO58m",
        "outputId": "960ca2ca-3bd5-49cd-f703-4bda8729ce66"
      },
      "source": [
        "s.index = [6,5,4,3,2,1]\n",
        "print(s)\n",
        "print(s[1])"
      ],
      "execution_count": 269,
      "outputs": [
        {
          "output_type": "stream",
          "name": "stdout",
          "text": [
            "6    143.73\n",
            "5    145.83\n",
            "4    143.68\n",
            "3    144.02\n",
            "2    143.50\n",
            "1    142.62\n",
            "Name: Apple Price List, dtype: float64\n",
            "142.62\n"
          ]
        }
      ]
    },
    {
      "cell_type": "code",
      "metadata": {
        "colab": {
          "base_uri": "https://localhost:8080/"
        },
        "id": "zJWJCDMidadn",
        "outputId": "21710a61-192b-41b7-d00b-c62edccfea09"
      },
      "source": [
        "#ejemplo 75\n",
        "s.index = [10,7,5,3,20,19]\n",
        "print(s)\n",
        "print(s[10])"
      ],
      "execution_count": 128,
      "outputs": [
        {
          "output_type": "stream",
          "name": "stdout",
          "text": [
            "10    173.73\n",
            "7     185.83\n",
            "5     343.68\n",
            "3     543.02\n",
            "20    652.50\n",
            "19     25.62\n",
            "Name: precio de objetos, dtype: float64\n",
            "173.73\n"
          ]
        }
      ]
    },
    {
      "cell_type": "markdown",
      "metadata": {
        "id": "r30VKPtpg61p"
      },
      "source": [
        "If we intended to take the second element of the series, we would make a mistake here, because the index are integers. In order to access to the element we want, we use iloc[] here:"
      ]
    },
    {
      "cell_type": "code",
      "metadata": {
        "colab": {
          "base_uri": "https://localhost:8080/"
        },
        "id": "bHukfaAmO58m",
        "outputId": "ffeb86d5-758d-4bb8-be3c-de74cbccffaf"
      },
      "source": [
        "print(s.iloc[1])"
      ],
      "execution_count": 270,
      "outputs": [
        {
          "output_type": "stream",
          "name": "stdout",
          "text": [
            "145.83\n"
          ]
        }
      ]
    },
    {
      "cell_type": "code",
      "metadata": {
        "colab": {
          "base_uri": "https://localhost:8080/"
        },
        "id": "_gXMyKRbeCCt",
        "outputId": "3e8d9600-c5a7-4538-bff8-c5568a6a0cd9"
      },
      "source": [
        "#ejemplo 76\n",
        "print(s.iloc[3])"
      ],
      "execution_count": 129,
      "outputs": [
        {
          "output_type": "stream",
          "name": "stdout",
          "text": [
            "543.02\n"
          ]
        }
      ]
    },
    {
      "cell_type": "markdown",
      "metadata": {
        "id": "kHVBRL_Rg84j"
      },
      "source": [
        "While working with time series data, we often use time as the index. Pandas provides us with various methods to access the data by time index"
      ]
    },
    {
      "cell_type": "code",
      "metadata": {
        "colab": {
          "base_uri": "https://localhost:8080/"
        },
        "id": "FCf8Hg7jO58n",
        "outputId": "ca5fcb42-cde4-4405-f591-c1fc123773c1"
      },
      "source": [
        "s.index = time_index\n",
        "print(s['2017-01-03'])"
      ],
      "execution_count": 271,
      "outputs": [
        {
          "output_type": "stream",
          "name": "stdout",
          "text": [
            "143.68\n"
          ]
        }
      ]
    },
    {
      "cell_type": "code",
      "metadata": {
        "colab": {
          "base_uri": "https://localhost:8080/"
        },
        "id": "jiPEVHrvesDn",
        "outputId": "e5c4a2bc-0f0b-4e82-e0f1-6e8abcc58f07"
      },
      "source": [
        "#ejemplo 77\n",
        "s.index = time_index\n",
        "print(s['2021-11-30'])"
      ],
      "execution_count": 130,
      "outputs": [
        {
          "output_type": "stream",
          "name": "stdout",
          "text": [
            "185.83\n"
          ]
        }
      ]
    },
    {
      "cell_type": "markdown",
      "metadata": {
        "id": "XJXcrSFpg-To"
      },
      "source": [
        "We can even access to a range of dates:"
      ]
    },
    {
      "cell_type": "code",
      "metadata": {
        "colab": {
          "base_uri": "https://localhost:8080/"
        },
        "id": "NsE-Lr_9O58n",
        "outputId": "fd3a0045-866f-4b51-f625-2bbc1651afdc"
      },
      "source": [
        "print(s['2017-01-02':'2017-01-05'])"
      ],
      "execution_count": 272,
      "outputs": [
        {
          "output_type": "stream",
          "name": "stdout",
          "text": [
            "2017-01-02    145.83\n",
            "2017-01-03    143.68\n",
            "2017-01-04    144.02\n",
            "2017-01-05    143.50\n",
            "Freq: D, Name: Apple Price List, dtype: float64\n"
          ]
        }
      ]
    },
    {
      "cell_type": "code",
      "metadata": {
        "colab": {
          "base_uri": "https://localhost:8080/"
        },
        "id": "K62-l0BjfXvf",
        "outputId": "1105d4f2-6c92-472d-849d-23be5047b2ac"
      },
      "source": [
        "#ejemplo 78\n",
        "print(s['2021-10-31':'2022-01-31'])"
      ],
      "execution_count": 131,
      "outputs": [
        {
          "output_type": "stream",
          "name": "stdout",
          "text": [
            "2021-10-31    173.73\n",
            "2021-11-30    185.83\n",
            "2021-12-31    343.68\n",
            "2022-01-31    543.02\n",
            "Freq: M, Name: precio de objetos, dtype: float64\n"
          ]
        }
      ]
    },
    {
      "cell_type": "markdown",
      "metadata": {
        "id": "cWA3NCXEhCLB"
      },
      "source": [
        "Series[] provides us a very flexible way to index data. We can add any condition in the square brackets:"
      ]
    },
    {
      "cell_type": "code",
      "metadata": {
        "colab": {
          "base_uri": "https://localhost:8080/"
        },
        "id": "aawbrg2EO58n",
        "outputId": "2e0baec6-313b-4096-df4a-8f1d3681a8ad"
      },
      "source": [
        "print(s[s < np.mean(s)] )\n",
        "print([(s > np.mean(s)) & (s < np.mean(s) + 1.64*np.std(s))])"
      ],
      "execution_count": 273,
      "outputs": [
        {
          "output_type": "stream",
          "name": "stdout",
          "text": [
            "2017-01-01    143.73\n",
            "2017-01-03    143.68\n",
            "2017-01-05    143.50\n",
            "2017-01-06    142.62\n",
            "Name: Apple Price List, dtype: float64\n",
            "[2017-01-01    False\n",
            "2017-01-02    False\n",
            "2017-01-03    False\n",
            "2017-01-04     True\n",
            "2017-01-05    False\n",
            "2017-01-06    False\n",
            "Freq: D, Name: Apple Price List, dtype: bool]\n"
          ]
        }
      ]
    },
    {
      "cell_type": "code",
      "metadata": {
        "colab": {
          "base_uri": "https://localhost:8080/"
        },
        "id": "vDQnq2IDfwWR",
        "outputId": "00541712-d906-40e1-f290-5aa1e4e17d8c"
      },
      "source": [
        "#ejemplo 79\n",
        "print(s[s < np.mean(s)] )\n",
        "print([(s > np.mean(s)) & (s < np.mean(s) + 20*np.std(s))])"
      ],
      "execution_count": 132,
      "outputs": [
        {
          "output_type": "stream",
          "name": "stdout",
          "text": [
            "2021-10-31    173.73\n",
            "2021-11-30    185.83\n",
            "2022-03-31     25.62\n",
            "Name: precio de objetos, dtype: float64\n",
            "[2021-10-31    False\n",
            "2021-11-30    False\n",
            "2021-12-31     True\n",
            "2022-01-31     True\n",
            "2022-02-28     True\n",
            "2022-03-31    False\n",
            "Freq: M, Name: precio de objetos, dtype: bool]\n"
          ]
        }
      ]
    },
    {
      "cell_type": "markdown",
      "metadata": {
        "id": "jAByChIwhEuI"
      },
      "source": [
        "As demonstrated, we can use logical operators like & (and), | (or) and ~ (not) to group multiple conditions.\n",
        "\n",
        "# Summary\n",
        "Here we have introduced NumPy and Pandas for scientific computing in Python. In the next chapter, we will dive into Pandas to learn resampling and manipulating Pandas DataFrame, which are commonly used in financial data analysis."
      ]
    },
    {
      "cell_type": "markdown",
      "metadata": {
        "id": "OtjOpw6oJp6z"
      },
      "source": [
        "<div align=\"center\">\n",
        "<img style=\"display: block; margin: auto;\" alt=\"photo\" src=\"https://cdn.quantconnect.com/web/i/icon.png\"> <img style=\"display: block; margin: auto;\" alt=\"photo\" src=\"https://www.marketing-branding.com/wp-content/uploads/2020/07/google-colaboratory-colab-guia-completa.jpg \" width=\"50\" height=\"50\">\n",
        "<img style=\"display: block; margin: auto;\" alt=\"photo\" src=\"https://upload.wikimedia.org/wikipedia/commons/d/da/Yahoo_Finance_Logo_2019.svg\" width=\"50\" height=\"50\">  \n",
        "\n",
        "Quantconnect -> Google Colab with Yahoo Finance data\n",
        "\n",
        "Introduction to Financial Python\n",
        "</div>\n",
        "\n",
        "# 05 Pandas-Resampling and DataFrame\n",
        "\n",
        "# Introduction\n",
        "In the last chapter we had a glimpse of Pandas. In this chapter we will learn about resampling methods and the DataFrame object, which is a powerful tool for financial data analysis.\n",
        "\n",
        "# Fetching Data\n",
        "Here we use the Yahoo Finance to retrieve data.\n"
      ]
    },
    {
      "cell_type": "code",
      "metadata": {
        "colab": {
          "base_uri": "https://localhost:8080/"
        },
        "id": "luU8mZTsHW9x",
        "outputId": "11e3e29c-0f38-4687-f303-b0d2ca53c968"
      },
      "source": [
        "!pip install yfinance"
      ],
      "execution_count": 133,
      "outputs": [
        {
          "output_type": "stream",
          "name": "stdout",
          "text": [
            "Collecting yfinance\n",
            "  Downloading yfinance-0.1.64.tar.gz (26 kB)\n",
            "Requirement already satisfied: pandas>=0.24 in /usr/local/lib/python3.7/dist-packages (from yfinance) (1.1.5)\n",
            "Requirement already satisfied: numpy>=1.15 in /usr/local/lib/python3.7/dist-packages (from yfinance) (1.19.5)\n",
            "Requirement already satisfied: requests>=2.20 in /usr/local/lib/python3.7/dist-packages (from yfinance) (2.23.0)\n",
            "Requirement already satisfied: multitasking>=0.0.7 in /usr/local/lib/python3.7/dist-packages (from yfinance) (0.0.9)\n",
            "Collecting lxml>=4.5.1\n",
            "  Downloading lxml-4.6.3-cp37-cp37m-manylinux2014_x86_64.whl (6.3 MB)\n",
            "\u001b[K     |████████████████████████████████| 6.3 MB 6.1 MB/s \n",
            "\u001b[?25hRequirement already satisfied: pytz>=2017.2 in /usr/local/lib/python3.7/dist-packages (from pandas>=0.24->yfinance) (2018.9)\n",
            "Requirement already satisfied: python-dateutil>=2.7.3 in /usr/local/lib/python3.7/dist-packages (from pandas>=0.24->yfinance) (2.8.2)\n",
            "Requirement already satisfied: six>=1.5 in /usr/local/lib/python3.7/dist-packages (from python-dateutil>=2.7.3->pandas>=0.24->yfinance) (1.15.0)\n",
            "Requirement already satisfied: chardet<4,>=3.0.2 in /usr/local/lib/python3.7/dist-packages (from requests>=2.20->yfinance) (3.0.4)\n",
            "Requirement already satisfied: idna<3,>=2.5 in /usr/local/lib/python3.7/dist-packages (from requests>=2.20->yfinance) (2.10)\n",
            "Requirement already satisfied: urllib3!=1.25.0,!=1.25.1,<1.26,>=1.21.1 in /usr/local/lib/python3.7/dist-packages (from requests>=2.20->yfinance) (1.24.3)\n",
            "Requirement already satisfied: certifi>=2017.4.17 in /usr/local/lib/python3.7/dist-packages (from requests>=2.20->yfinance) (2021.5.30)\n",
            "Building wheels for collected packages: yfinance\n",
            "  Building wheel for yfinance (setup.py) ... \u001b[?25l\u001b[?25hdone\n",
            "  Created wheel for yfinance: filename=yfinance-0.1.64-py2.py3-none-any.whl size=24109 sha256=52b4c64dfa1de9f526b56775a5ef1f914ff696242fd327cdcacd7aa3946518cd\n",
            "  Stored in directory: /root/.cache/pip/wheels/86/fe/9b/a4d3d78796b699e37065e5b6c27b75cff448ddb8b24943c288\n",
            "Successfully built yfinance\n",
            "Installing collected packages: lxml, yfinance\n",
            "  Attempting uninstall: lxml\n",
            "    Found existing installation: lxml 4.2.6\n",
            "    Uninstalling lxml-4.2.6:\n",
            "      Successfully uninstalled lxml-4.2.6\n",
            "Successfully installed lxml-4.6.3 yfinance-0.1.64\n"
          ]
        }
      ]
    },
    {
      "cell_type": "code",
      "metadata": {
        "colab": {
          "base_uri": "https://localhost:8080/",
          "height": 483
        },
        "id": "mWZ-nirTZHrE",
        "outputId": "ef224450-f855-4a20-a691-469f7466cc2a"
      },
      "source": [
        "import yfinance as yf\n",
        "\n",
        "aapl = yf.Ticker(\"AAPL\")\n",
        "\n",
        "# get stock info\n",
        "print(aapl.info)\n",
        "\n",
        "# get historical market data\n",
        "aapl_table = aapl.history(start=\"2016-01-01\",  end=\"2017-12-31\")\n",
        "aapl_table"
      ],
      "execution_count": 274,
      "outputs": [
        {
          "output_type": "stream",
          "name": "stdout",
          "text": [
            "{'zip': '95014', 'sector': 'Technology', 'fullTimeEmployees': 147000, 'longBusinessSummary': 'Apple Inc. designs, manufactures, and markets smartphones, personal computers, tablets, wearables, and accessories worldwide. It also sells various related services. The company offers iPhone, a line of smartphones; Mac, a line of personal computers; iPad, a line of multi-purpose tablets; and wearables, home, and accessories comprising AirPods, Apple TV, Apple Watch, Beats products, HomePod, iPod touch, and other Apple-branded and third-party accessories. It also provides AppleCare support services; cloud services store services; and operates various platforms, including the App Store, that allow customers to discover and download applications and digital content, such as books, music, video, games, and podcasts. In addition, the company offers various services, such as Apple Arcade, a game subscription service; Apple Music, which offers users a curated listening experience with on-demand radio stations; Apple News+, a subscription news and magazine service; Apple TV+, which offers exclusive original content; Apple Card, a co-branded credit card; and Apple Pay, a cashless payment service, as well as licenses its intellectual property. The company serves consumers, and small and mid-sized businesses; and the education, enterprise, and government markets. It sells and delivers third-party applications for its products through the App Store. The company also sells its products through its retail and online stores, and direct sales force; and third-party cellular network carriers, wholesalers, retailers, and resellers. Apple Inc. was founded in 1977 and is headquartered in Cupertino, California.', 'city': 'Cupertino', 'phone': '408-996-1010', 'state': 'CA', 'country': 'United States', 'companyOfficers': [], 'website': 'http://www.apple.com', 'maxAge': 1, 'address1': 'One Apple Park Way', 'industry': 'Consumer Electronics', 'ebitdaMargins': 0.31955, 'profitMargins': 0.25004, 'grossMargins': 0.41005, 'operatingCashflow': 104414003200, 'revenueGrowth': 0.364, 'operatingMargins': 0.28788, 'ebitda': 110934999040, 'targetLowPrice': 132, 'recommendationKey': 'buy', 'grossProfits': 104956000000, 'freeCashflow': 80625876992, 'targetMedianPrice': 170, 'currentPrice': 148.815, 'earningsGrowth': 1, 'currentRatio': 1.062, 'returnOnAssets': 0.19302, 'numberOfAnalystOpinions': 41, 'targetMeanPrice': 168.35, 'debtToEquity': 210.782, 'returnOnEquity': 1.27125, 'targetHighPrice': 190, 'totalCash': 61696000000, 'totalDebt': 135491002368, 'totalRevenue': 347155005440, 'totalCashPerShare': 3.732, 'financialCurrency': 'USD', 'revenuePerShare': 20.61, 'quickRatio': 0.887, 'recommendationMean': 1.9, 'exchange': 'NMS', 'shortName': 'Apple Inc.', 'longName': 'Apple Inc.', 'exchangeTimezoneName': 'America/New_York', 'exchangeTimezoneShortName': 'EDT', 'isEsgPopulated': False, 'gmtOffSetMilliseconds': '-14400000', 'quoteType': 'EQUITY', 'symbol': 'AAPL', 'messageBoardId': 'finmb_24937', 'market': 'us_market', 'annualHoldingsTurnover': None, 'enterpriseToRevenue': 7.296, 'beta3Year': None, 'enterpriseToEbitda': 22.832, '52WeekChange': 0.27286732, 'morningStarRiskRating': None, 'forwardEps': 5.67, 'revenueQuarterlyGrowth': None, 'sharesOutstanding': 16530199552, 'fundInceptionDate': None, 'annualReportExpenseRatio': None, 'totalAssets': None, 'bookValue': 3.882, 'sharesShort': 101107412, 'sharesPercentSharesOut': 0.0061000003, 'fundFamily': None, 'lastFiscalYearEnd': 1601078400, 'heldPercentInstitutions': 0.58676, 'netIncomeToCommon': 86801997824, 'trailingEps': 5.108, 'lastDividendValue': 0.22, 'SandP52WeekChange': 0.3155439, 'priceToBook': 38.33462, 'heldPercentInsiders': 0.00072999997, 'nextFiscalYearEnd': 1664150400, 'yield': None, 'mostRecentQuarter': 1624665600, 'shortRatio': 1.18, 'sharesShortPreviousMonthDate': 1630368000, 'floatShares': 16512974627, 'beta': 1.222222, 'enterpriseValue': 2532822482944, 'priceHint': 2, 'threeYearAverageReturn': None, 'lastSplitDate': 1598832000, 'lastSplitFactor': '4:1', 'legalType': None, 'lastDividendDate': 1628208000, 'morningStarOverallRating': None, 'earningsQuarterlyGrowth': 0.932, 'priceToSalesTrailing12Months': 7.086004, 'dateShortInterest': 1632960000, 'pegRatio': 1.38, 'ytdReturn': None, 'forwardPE': 26.246033, 'lastCapGain': None, 'shortPercentOfFloat': 0.0061000003, 'sharesShortPriorMonth': 96838699, 'impliedSharesOutstanding': None, 'category': None, 'fiveYearAverageReturn': None, 'previousClose': 148.76, 'regularMarketOpen': 148.7, 'twoHundredDayAverage': 139.00964, 'trailingAnnualDividendYield': 0.005613068, 'payoutRatio': 0.16309999, 'volume24Hr': None, 'regularMarketDayHigh': 149.7522, 'navPrice': None, 'averageDailyVolume10Day': 73697228, 'regularMarketPreviousClose': 148.76, 'fiftyDayAverage': 146.47115, 'trailingAnnualDividendRate': 0.835, 'open': 148.7, 'toCurrency': None, 'averageVolume10days': 73697228, 'expireDate': None, 'algorithm': None, 'dividendRate': 0.88, 'exDividendDate': 1628208000, 'circulatingSupply': None, 'startDate': None, 'regularMarketDayLow': 148.12, 'currency': 'USD', 'trailingPE': 29.133713, 'regularMarketVolume': 43656874, 'lastMarket': None, 'maxSupply': None, 'openInterest': None, 'marketCap': 2459941732352, 'volumeAllCurrencies': None, 'strikePrice': None, 'averageVolume': 76845849, 'dayLow': 148.12, 'ask': 148.55, 'askSize': 1100, 'volume': 43656874, 'fiftyTwoWeekHigh': 157.26, 'fromCurrency': None, 'fiveYearAvgDividendYield': 1.24, 'fiftyTwoWeekLow': 107.32, 'bid': 148.54, 'tradeable': False, 'dividendYield': 0.0058999998, 'bidSize': 1000, 'dayHigh': 149.7522, 'regularMarketPrice': 148.815, 'preMarketPrice': 148.7, 'logo_url': 'https://logo.clearbit.com/apple.com'}\n"
          ]
        },
        {
          "output_type": "execute_result",
          "data": {
            "text/html": [
              "<div>\n",
              "<style scoped>\n",
              "    .dataframe tbody tr th:only-of-type {\n",
              "        vertical-align: middle;\n",
              "    }\n",
              "\n",
              "    .dataframe tbody tr th {\n",
              "        vertical-align: top;\n",
              "    }\n",
              "\n",
              "    .dataframe thead th {\n",
              "        text-align: right;\n",
              "    }\n",
              "</style>\n",
              "<table border=\"1\" class=\"dataframe\">\n",
              "  <thead>\n",
              "    <tr style=\"text-align: right;\">\n",
              "      <th></th>\n",
              "      <th>Open</th>\n",
              "      <th>High</th>\n",
              "      <th>Low</th>\n",
              "      <th>Close</th>\n",
              "      <th>Volume</th>\n",
              "      <th>Dividends</th>\n",
              "      <th>Stock Splits</th>\n",
              "    </tr>\n",
              "    <tr>\n",
              "      <th>Date</th>\n",
              "      <th></th>\n",
              "      <th></th>\n",
              "      <th></th>\n",
              "      <th></th>\n",
              "      <th></th>\n",
              "      <th></th>\n",
              "      <th></th>\n",
              "    </tr>\n",
              "  </thead>\n",
              "  <tbody>\n",
              "    <tr>\n",
              "      <th>2016-01-04</th>\n",
              "      <td>23.655166</td>\n",
              "      <td>24.291443</td>\n",
              "      <td>23.514540</td>\n",
              "      <td>24.286831</td>\n",
              "      <td>270597600</td>\n",
              "      <td>0.0</td>\n",
              "      <td>0</td>\n",
              "    </tr>\n",
              "    <tr>\n",
              "      <th>2016-01-05</th>\n",
              "      <td>24.379041</td>\n",
              "      <td>24.402094</td>\n",
              "      <td>23.609056</td>\n",
              "      <td>23.678215</td>\n",
              "      <td>223164000</td>\n",
              "      <td>0.0</td>\n",
              "      <td>0</td>\n",
              "    </tr>\n",
              "    <tr>\n",
              "      <th>2016-01-06</th>\n",
              "      <td>23.182567</td>\n",
              "      <td>23.599836</td>\n",
              "      <td>23.023499</td>\n",
              "      <td>23.214842</td>\n",
              "      <td>273829600</td>\n",
              "      <td>0.0</td>\n",
              "      <td>0</td>\n",
              "    </tr>\n",
              "    <tr>\n",
              "      <th>2016-01-07</th>\n",
              "      <td>22.749162</td>\n",
              "      <td>23.083437</td>\n",
              "      <td>22.230459</td>\n",
              "      <td>22.235069</td>\n",
              "      <td>324377600</td>\n",
              "      <td>0.0</td>\n",
              "      <td>0</td>\n",
              "    </tr>\n",
              "    <tr>\n",
              "      <th>2016-01-08</th>\n",
              "      <td>22.719191</td>\n",
              "      <td>22.848290</td>\n",
              "      <td>22.306534</td>\n",
              "      <td>22.352640</td>\n",
              "      <td>283192000</td>\n",
              "      <td>0.0</td>\n",
              "      <td>0</td>\n",
              "    </tr>\n",
              "    <tr>\n",
              "      <th>...</th>\n",
              "      <td>...</td>\n",
              "      <td>...</td>\n",
              "      <td>...</td>\n",
              "      <td>...</td>\n",
              "      <td>...</td>\n",
              "      <td>...</td>\n",
              "      <td>...</td>\n",
              "    </tr>\n",
              "    <tr>\n",
              "      <th>2017-12-22</th>\n",
              "      <td>41.827752</td>\n",
              "      <td>42.004949</td>\n",
              "      <td>41.784653</td>\n",
              "      <td>41.906773</td>\n",
              "      <td>65397600</td>\n",
              "      <td>0.0</td>\n",
              "      <td>0</td>\n",
              "    </tr>\n",
              "    <tr>\n",
              "      <th>2017-12-26</th>\n",
              "      <td>40.898675</td>\n",
              "      <td>41.059108</td>\n",
              "      <td>40.630484</td>\n",
              "      <td>40.843601</td>\n",
              "      <td>132742000</td>\n",
              "      <td>0.0</td>\n",
              "      <td>0</td>\n",
              "    </tr>\n",
              "    <tr>\n",
              "      <th>2017-12-27</th>\n",
              "      <td>40.731058</td>\n",
              "      <td>40.893884</td>\n",
              "      <td>40.637671</td>\n",
              "      <td>40.850784</td>\n",
              "      <td>85992800</td>\n",
              "      <td>0.0</td>\n",
              "      <td>0</td>\n",
              "    </tr>\n",
              "    <tr>\n",
              "      <th>2017-12-28</th>\n",
              "      <td>40.946561</td>\n",
              "      <td>41.150098</td>\n",
              "      <td>40.822044</td>\n",
              "      <td>40.965717</td>\n",
              "      <td>65920800</td>\n",
              "      <td>0.0</td>\n",
              "      <td>0</td>\n",
              "    </tr>\n",
              "    <tr>\n",
              "      <th>2017-12-29</th>\n",
              "      <td>40.831629</td>\n",
              "      <td>40.848389</td>\n",
              "      <td>40.520339</td>\n",
              "      <td>40.522732</td>\n",
              "      <td>103999600</td>\n",
              "      <td>0.0</td>\n",
              "      <td>0</td>\n",
              "    </tr>\n",
              "  </tbody>\n",
              "</table>\n",
              "<p>503 rows × 7 columns</p>\n",
              "</div>"
            ],
            "text/plain": [
              "                 Open       High        Low  ...     Volume  Dividends  Stock Splits\n",
              "Date                                         ...                                    \n",
              "2016-01-04  23.655166  24.291443  23.514540  ...  270597600        0.0             0\n",
              "2016-01-05  24.379041  24.402094  23.609056  ...  223164000        0.0             0\n",
              "2016-01-06  23.182567  23.599836  23.023499  ...  273829600        0.0             0\n",
              "2016-01-07  22.749162  23.083437  22.230459  ...  324377600        0.0             0\n",
              "2016-01-08  22.719191  22.848290  22.306534  ...  283192000        0.0             0\n",
              "...               ...        ...        ...  ...        ...        ...           ...\n",
              "2017-12-22  41.827752  42.004949  41.784653  ...   65397600        0.0             0\n",
              "2017-12-26  40.898675  41.059108  40.630484  ...  132742000        0.0             0\n",
              "2017-12-27  40.731058  40.893884  40.637671  ...   85992800        0.0             0\n",
              "2017-12-28  40.946561  41.150098  40.822044  ...   65920800        0.0             0\n",
              "2017-12-29  40.831629  40.848389  40.520339  ...  103999600        0.0             0\n",
              "\n",
              "[503 rows x 7 columns]"
            ]
          },
          "metadata": {},
          "execution_count": 274
        }
      ]
    },
    {
      "cell_type": "code",
      "metadata": {
        "colab": {
          "base_uri": "https://localhost:8080/",
          "height": 483
        },
        "id": "bJEy2l6phrxJ",
        "outputId": "58d28932-198e-4d03-deb3-b6d1a3ebc073"
      },
      "source": [
        "#ejemplo 80\n",
        "import yfinance as yf\n",
        "\n",
        "aapl = yf.Ticker(\"AAPL\")\n",
        "\n",
        "# get stock info\n",
        "print(aapl.info)\n",
        "\n",
        "# get historical market data\n",
        "aapl_table = aapl.history(start=\"2017-01-01\",  end=\"2017-12-31\")\n",
        "aapl_table\n",
        "\n"
      ],
      "execution_count": 135,
      "outputs": [
        {
          "output_type": "stream",
          "name": "stdout",
          "text": [
            "{'zip': '95014', 'sector': 'Technology', 'fullTimeEmployees': 147000, 'longBusinessSummary': 'Apple Inc. designs, manufactures, and markets smartphones, personal computers, tablets, wearables, and accessories worldwide. It also sells various related services. The company offers iPhone, a line of smartphones; Mac, a line of personal computers; iPad, a line of multi-purpose tablets; and wearables, home, and accessories comprising AirPods, Apple TV, Apple Watch, Beats products, HomePod, iPod touch, and other Apple-branded and third-party accessories. It also provides AppleCare support services; cloud services store services; and operates various platforms, including the App Store, that allow customers to discover and download applications and digital content, such as books, music, video, games, and podcasts. In addition, the company offers various services, such as Apple Arcade, a game subscription service; Apple Music, which offers users a curated listening experience with on-demand radio stations; Apple News+, a subscription news and magazine service; Apple TV+, which offers exclusive original content; Apple Card, a co-branded credit card; and Apple Pay, a cashless payment service, as well as licenses its intellectual property. The company serves consumers, and small and mid-sized businesses; and the education, enterprise, and government markets. It sells and delivers third-party applications for its products through the App Store. The company also sells its products through its retail and online stores, and direct sales force; and third-party cellular network carriers, wholesalers, retailers, and resellers. Apple Inc. was founded in 1977 and is headquartered in Cupertino, California.', 'city': 'Cupertino', 'phone': '408-996-1010', 'state': 'CA', 'country': 'United States', 'companyOfficers': [], 'website': 'http://www.apple.com', 'maxAge': 1, 'address1': 'One Apple Park Way', 'industry': 'Consumer Electronics', 'ebitdaMargins': 0.31955, 'profitMargins': 0.25004, 'grossMargins': 0.41005, 'operatingCashflow': 104414003200, 'revenueGrowth': 0.364, 'operatingMargins': 0.28788, 'ebitda': 110934999040, 'targetLowPrice': 132, 'recommendationKey': 'buy', 'grossProfits': 104956000000, 'freeCashflow': 80625876992, 'targetMedianPrice': 170, 'currentPrice': 148.415, 'earningsGrowth': 1, 'currentRatio': 1.062, 'returnOnAssets': 0.19302, 'numberOfAnalystOpinions': 41, 'targetMeanPrice': 168.35, 'debtToEquity': 210.782, 'returnOnEquity': 1.27125, 'targetHighPrice': 190, 'totalCash': 61696000000, 'totalDebt': 135491002368, 'totalRevenue': 347155005440, 'totalCashPerShare': 3.732, 'financialCurrency': 'USD', 'revenuePerShare': 20.61, 'quickRatio': 0.887, 'recommendationMean': 1.9, 'exchange': 'NMS', 'shortName': 'Apple Inc.', 'longName': 'Apple Inc.', 'exchangeTimezoneName': 'America/New_York', 'exchangeTimezoneShortName': 'EDT', 'isEsgPopulated': False, 'gmtOffSetMilliseconds': '-14400000', 'quoteType': 'EQUITY', 'symbol': 'AAPL', 'messageBoardId': 'finmb_24937', 'market': 'us_market', 'annualHoldingsTurnover': None, 'enterpriseToRevenue': 7.296, 'beta3Year': None, 'enterpriseToEbitda': 22.832, '52WeekChange': 0.27286732, 'morningStarRiskRating': None, 'forwardEps': 5.67, 'revenueQuarterlyGrowth': None, 'sharesOutstanding': 16530199552, 'fundInceptionDate': None, 'annualReportExpenseRatio': None, 'totalAssets': None, 'bookValue': 3.882, 'sharesShort': 101107412, 'sharesPercentSharesOut': 0.0061000003, 'fundFamily': None, 'lastFiscalYearEnd': 1601078400, 'heldPercentInstitutions': 0.58676, 'netIncomeToCommon': 86801997824, 'trailingEps': 5.108, 'lastDividendValue': 0.22, 'SandP52WeekChange': 0.3155439, 'priceToBook': 38.23158, 'heldPercentInsiders': 0.00072999997, 'nextFiscalYearEnd': 1664150400, 'yield': None, 'mostRecentQuarter': 1624665600, 'shortRatio': 1.18, 'sharesShortPreviousMonthDate': 1630368000, 'floatShares': 16512974627, 'beta': 1.222222, 'enterpriseValue': 2532822482944, 'priceHint': 2, 'threeYearAverageReturn': None, 'lastSplitDate': 1598832000, 'lastSplitFactor': '4:1', 'legalType': None, 'lastDividendDate': 1628208000, 'morningStarOverallRating': None, 'earningsQuarterlyGrowth': 0.932, 'priceToSalesTrailing12Months': 7.066957, 'dateShortInterest': 1632960000, 'pegRatio': 1.38, 'ytdReturn': None, 'forwardPE': 26.175484, 'lastCapGain': None, 'shortPercentOfFloat': 0.0061000003, 'sharesShortPriorMonth': 96838699, 'impliedSharesOutstanding': None, 'category': None, 'fiveYearAverageReturn': None, 'previousClose': 148.76, 'regularMarketOpen': 148.7, 'twoHundredDayAverage': 139.00964, 'trailingAnnualDividendYield': 0.005613068, 'payoutRatio': 0.16309999, 'volume24Hr': None, 'regularMarketDayHigh': 149.7522, 'navPrice': None, 'averageDailyVolume10Day': 73697228, 'regularMarketPreviousClose': 148.76, 'fiftyDayAverage': 146.47115, 'trailingAnnualDividendRate': 0.835, 'open': 148.7, 'toCurrency': None, 'averageVolume10days': 73697228, 'expireDate': None, 'algorithm': None, 'dividendRate': 0.88, 'exDividendDate': 1628208000, 'circulatingSupply': None, 'startDate': None, 'regularMarketDayLow': 148.12, 'currency': 'USD', 'trailingPE': 29.055403, 'regularMarketVolume': 41013579, 'lastMarket': None, 'maxSupply': None, 'openInterest': None, 'marketCap': 2453329412096, 'volumeAllCurrencies': None, 'strikePrice': None, 'averageVolume': 76845849, 'dayLow': 148.12, 'ask': 148.44, 'askSize': 1400, 'volume': 41013579, 'fiftyTwoWeekHigh': 157.26, 'fromCurrency': None, 'fiveYearAvgDividendYield': 1.24, 'fiftyTwoWeekLow': 107.32, 'bid': 148.43, 'tradeable': False, 'dividendYield': 0.0058999998, 'bidSize': 800, 'dayHigh': 149.7522, 'regularMarketPrice': 148.415, 'preMarketPrice': 148.7, 'logo_url': 'https://logo.clearbit.com/apple.com'}\n"
          ]
        },
        {
          "output_type": "execute_result",
          "data": {
            "text/html": [
              "<div>\n",
              "<style scoped>\n",
              "    .dataframe tbody tr th:only-of-type {\n",
              "        vertical-align: middle;\n",
              "    }\n",
              "\n",
              "    .dataframe tbody tr th {\n",
              "        vertical-align: top;\n",
              "    }\n",
              "\n",
              "    .dataframe thead th {\n",
              "        text-align: right;\n",
              "    }\n",
              "</style>\n",
              "<table border=\"1\" class=\"dataframe\">\n",
              "  <thead>\n",
              "    <tr style=\"text-align: right;\">\n",
              "      <th></th>\n",
              "      <th>Open</th>\n",
              "      <th>High</th>\n",
              "      <th>Low</th>\n",
              "      <th>Close</th>\n",
              "      <th>Volume</th>\n",
              "      <th>Dividends</th>\n",
              "      <th>Stock Splits</th>\n",
              "    </tr>\n",
              "    <tr>\n",
              "      <th>Date</th>\n",
              "      <th></th>\n",
              "      <th></th>\n",
              "      <th></th>\n",
              "      <th></th>\n",
              "      <th></th>\n",
              "      <th></th>\n",
              "      <th></th>\n",
              "    </tr>\n",
              "  </thead>\n",
              "  <tbody>\n",
              "    <tr>\n",
              "      <th>2017-01-03</th>\n",
              "      <td>27.289882</td>\n",
              "      <td>27.414784</td>\n",
              "      <td>27.044791</td>\n",
              "      <td>27.372364</td>\n",
              "      <td>115127600</td>\n",
              "      <td>0.0</td>\n",
              "      <td>0</td>\n",
              "    </tr>\n",
              "    <tr>\n",
              "      <th>2017-01-04</th>\n",
              "      <td>27.301666</td>\n",
              "      <td>27.457205</td>\n",
              "      <td>27.278100</td>\n",
              "      <td>27.341728</td>\n",
              "      <td>84472400</td>\n",
              "      <td>0.0</td>\n",
              "      <td>0</td>\n",
              "    </tr>\n",
              "    <tr>\n",
              "      <th>2017-01-05</th>\n",
              "      <td>27.318154</td>\n",
              "      <td>27.539678</td>\n",
              "      <td>27.292231</td>\n",
              "      <td>27.480762</td>\n",
              "      <td>88774400</td>\n",
              "      <td>0.0</td>\n",
              "      <td>0</td>\n",
              "    </tr>\n",
              "    <tr>\n",
              "      <th>2017-01-06</th>\n",
              "      <td>27.520829</td>\n",
              "      <td>27.846046</td>\n",
              "      <td>27.447774</td>\n",
              "      <td>27.787130</td>\n",
              "      <td>127007600</td>\n",
              "      <td>0.0</td>\n",
              "      <td>0</td>\n",
              "    </tr>\n",
              "    <tr>\n",
              "      <th>2017-01-09</th>\n",
              "      <td>27.796556</td>\n",
              "      <td>28.145340</td>\n",
              "      <td>27.794201</td>\n",
              "      <td>28.041647</td>\n",
              "      <td>134247600</td>\n",
              "      <td>0.0</td>\n",
              "      <td>0</td>\n",
              "    </tr>\n",
              "    <tr>\n",
              "      <th>...</th>\n",
              "      <td>...</td>\n",
              "      <td>...</td>\n",
              "      <td>...</td>\n",
              "      <td>...</td>\n",
              "      <td>...</td>\n",
              "      <td>...</td>\n",
              "      <td>...</td>\n",
              "    </tr>\n",
              "    <tr>\n",
              "      <th>2017-12-22</th>\n",
              "      <td>41.827752</td>\n",
              "      <td>42.004949</td>\n",
              "      <td>41.784653</td>\n",
              "      <td>41.906773</td>\n",
              "      <td>65397600</td>\n",
              "      <td>0.0</td>\n",
              "      <td>0</td>\n",
              "    </tr>\n",
              "    <tr>\n",
              "      <th>2017-12-26</th>\n",
              "      <td>40.898675</td>\n",
              "      <td>41.059108</td>\n",
              "      <td>40.630484</td>\n",
              "      <td>40.843601</td>\n",
              "      <td>132742000</td>\n",
              "      <td>0.0</td>\n",
              "      <td>0</td>\n",
              "    </tr>\n",
              "    <tr>\n",
              "      <th>2017-12-27</th>\n",
              "      <td>40.731061</td>\n",
              "      <td>40.893888</td>\n",
              "      <td>40.637675</td>\n",
              "      <td>40.850788</td>\n",
              "      <td>85992800</td>\n",
              "      <td>0.0</td>\n",
              "      <td>0</td>\n",
              "    </tr>\n",
              "    <tr>\n",
              "      <th>2017-12-28</th>\n",
              "      <td>40.946564</td>\n",
              "      <td>41.150101</td>\n",
              "      <td>40.822048</td>\n",
              "      <td>40.965721</td>\n",
              "      <td>65920800</td>\n",
              "      <td>0.0</td>\n",
              "      <td>0</td>\n",
              "    </tr>\n",
              "    <tr>\n",
              "      <th>2017-12-29</th>\n",
              "      <td>40.831629</td>\n",
              "      <td>40.848389</td>\n",
              "      <td>40.520339</td>\n",
              "      <td>40.522732</td>\n",
              "      <td>103999600</td>\n",
              "      <td>0.0</td>\n",
              "      <td>0</td>\n",
              "    </tr>\n",
              "  </tbody>\n",
              "</table>\n",
              "<p>251 rows × 7 columns</p>\n",
              "</div>"
            ],
            "text/plain": [
              "                 Open       High        Low  ...     Volume  Dividends  Stock Splits\n",
              "Date                                         ...                                    \n",
              "2017-01-03  27.289882  27.414784  27.044791  ...  115127600        0.0             0\n",
              "2017-01-04  27.301666  27.457205  27.278100  ...   84472400        0.0             0\n",
              "2017-01-05  27.318154  27.539678  27.292231  ...   88774400        0.0             0\n",
              "2017-01-06  27.520829  27.846046  27.447774  ...  127007600        0.0             0\n",
              "2017-01-09  27.796556  28.145340  27.794201  ...  134247600        0.0             0\n",
              "...               ...        ...        ...  ...        ...        ...           ...\n",
              "2017-12-22  41.827752  42.004949  41.784653  ...   65397600        0.0             0\n",
              "2017-12-26  40.898675  41.059108  40.630484  ...  132742000        0.0             0\n",
              "2017-12-27  40.731061  40.893888  40.637675  ...   85992800        0.0             0\n",
              "2017-12-28  40.946564  41.150101  40.822048  ...   65920800        0.0             0\n",
              "2017-12-29  40.831629  40.848389  40.520339  ...  103999600        0.0             0\n",
              "\n",
              "[251 rows x 7 columns]"
            ]
          },
          "metadata": {},
          "execution_count": 135
        }
      ]
    },
    {
      "cell_type": "markdown",
      "metadata": {
        "id": "NkFztSYhJyVA"
      },
      "source": [
        "We will create a Series named \"aapl\" whose values are Apple's daily closing prices, which are of course indexed by dates:"
      ]
    },
    {
      "cell_type": "code",
      "metadata": {
        "id": "QDJbOpCeHW91"
      },
      "source": [
        "aapl = aapl_table['Close']['2017']"
      ],
      "execution_count": 275,
      "outputs": []
    },
    {
      "cell_type": "code",
      "metadata": {
        "colab": {
          "base_uri": "https://localhost:8080/"
        },
        "id": "SXfgCQJOHW91",
        "outputId": "963d6a68-082e-4e7a-f22b-71eb5168572c"
      },
      "source": [
        "print(aapl)"
      ],
      "execution_count": 276,
      "outputs": [
        {
          "output_type": "stream",
          "name": "stdout",
          "text": [
            "Date\n",
            "2017-01-03    27.372362\n",
            "2017-01-04    27.341728\n",
            "2017-01-05    27.480772\n",
            "2017-01-06    27.787132\n",
            "2017-01-09    28.041649\n",
            "                ...    \n",
            "2017-12-22    41.906773\n",
            "2017-12-26    40.843601\n",
            "2017-12-27    40.850784\n",
            "2017-12-28    40.965717\n",
            "2017-12-29    40.522732\n",
            "Name: Close, Length: 251, dtype: float64\n"
          ]
        }
      ]
    },
    {
      "cell_type": "code",
      "metadata": {
        "id": "DGqcutgjizge"
      },
      "source": [
        "#ejemplo 81\n",
        "aapl = aapl_table['Close']['2017']"
      ],
      "execution_count": 136,
      "outputs": []
    },
    {
      "cell_type": "code",
      "metadata": {
        "colab": {
          "base_uri": "https://localhost:8080/"
        },
        "id": "z7H14nlKi9AY",
        "outputId": "21c3d287-cea5-409b-aef2-0a852214f83f"
      },
      "source": [
        "#ejemplo 82\n",
        "print(aapl)"
      ],
      "execution_count": 137,
      "outputs": [
        {
          "output_type": "stream",
          "name": "stdout",
          "text": [
            "Date\n",
            "2017-01-03    27.372364\n",
            "2017-01-04    27.341728\n",
            "2017-01-05    27.480762\n",
            "2017-01-06    27.787130\n",
            "2017-01-09    28.041647\n",
            "                ...    \n",
            "2017-12-22    41.906773\n",
            "2017-12-26    40.843601\n",
            "2017-12-27    40.850788\n",
            "2017-12-28    40.965721\n",
            "2017-12-29    40.522732\n",
            "Name: Close, Length: 251, dtype: float64\n"
          ]
        }
      ]
    },
    {
      "cell_type": "markdown",
      "metadata": {
        "id": "waUEgBhzKEcA"
      },
      "source": [
        "Recall that we can fetch a specific data point using series['yyyy-mm-dd']. We can also fetch the data in a specific month using series['yyyy-mm']."
      ]
    },
    {
      "cell_type": "code",
      "metadata": {
        "colab": {
          "base_uri": "https://localhost:8080/"
        },
        "id": "2gS50G0zHW92",
        "outputId": "50764663-a3ee-458c-f8b2-c90fa60e9ec4"
      },
      "source": [
        "print(aapl['2017-3'])"
      ],
      "execution_count": 277,
      "outputs": [
        {
          "output_type": "stream",
          "name": "stdout",
          "text": [
            "Date\n",
            "2017-03-01    33.086285\n",
            "2017-03-02    32.889839\n",
            "2017-03-03    33.083916\n",
            "2017-03-06    32.979774\n",
            "2017-03-07    33.022385\n",
            "2017-03-08    32.899311\n",
            "2017-03-09    32.823563\n",
            "2017-03-10    32.932430\n",
            "2017-03-13    32.946644\n",
            "2017-03-14    32.896938\n",
            "2017-03-15    33.244865\n",
            "2017-03-16    33.299290\n",
            "2017-03-17    33.133617\n",
            "2017-03-20    33.481552\n",
            "2017-03-21    33.098114\n",
            "2017-03-22    33.472076\n",
            "2017-03-23    33.353737\n",
            "2017-03-24    33.287468\n",
            "2017-03-27    33.344273\n",
            "2017-03-28    34.035397\n",
            "2017-03-29    34.111126\n",
            "2017-03-30    34.066162\n",
            "2017-03-31    34.002258\n",
            "Name: Close, dtype: float64\n"
          ]
        }
      ]
    },
    {
      "cell_type": "code",
      "metadata": {
        "colab": {
          "base_uri": "https://localhost:8080/"
        },
        "id": "tk9IZpeXjWkg",
        "outputId": "10755eb1-60f2-45cb-8f73-3acd4f8f7c31"
      },
      "source": [
        "#ejemplo 83\n",
        "print(aapl['2017-9'])"
      ],
      "execution_count": 138,
      "outputs": [
        {
          "output_type": "stream",
          "name": "stdout",
          "text": [
            "Date\n",
            "2017-09-01    39.141655\n",
            "2017-09-05    38.671623\n",
            "2017-09-06    38.631065\n",
            "2017-09-07    38.475975\n",
            "2017-09-08    37.848476\n",
            "2017-09-11    38.533230\n",
            "2017-09-12    38.380531\n",
            "2017-09-13    38.091827\n",
            "2017-09-14    37.764954\n",
            "2017-09-15    38.146713\n",
            "2017-09-18    37.858009\n",
            "2017-09-19    37.872326\n",
            "2017-09-20    37.237656\n",
            "2017-09-21    36.598221\n",
            "2017-09-22    36.240326\n",
            "2017-09-25    35.920605\n",
            "2017-09-26    36.538578\n",
            "2017-09-27    36.798634\n",
            "2017-09-28    36.571980\n",
            "2017-09-29    36.772396\n",
            "Name: Close, dtype: float64\n"
          ]
        }
      ]
    },
    {
      "cell_type": "code",
      "metadata": {
        "colab": {
          "base_uri": "https://localhost:8080/"
        },
        "id": "vpvxGwXtHW92",
        "outputId": "e2d3958c-5fb6-4e68-9216-caefec9c2b09"
      },
      "source": [
        "aapl['2017-2':'2017-4']"
      ],
      "execution_count": 278,
      "outputs": [
        {
          "output_type": "execute_result",
          "data": {
            "text/plain": [
              "Date\n",
              "2017-02-01    30.341728\n",
              "2017-02-02    30.289883\n",
              "2017-02-03    30.419498\n",
              "2017-02-06    30.704651\n",
              "2017-02-07    30.996868\n",
              "                ...    \n",
              "2017-04-24    33.997520\n",
              "2017-04-25    34.208172\n",
              "2017-04-26    34.006989\n",
              "2017-04-27    34.033020\n",
              "2017-04-28    33.999886\n",
              "Name: Close, Length: 61, dtype: float64"
            ]
          },
          "metadata": {},
          "execution_count": 278
        }
      ]
    },
    {
      "cell_type": "code",
      "metadata": {
        "colab": {
          "base_uri": "https://localhost:8080/"
        },
        "id": "ULfO26sJkCYd",
        "outputId": "66088e66-e37e-4f2e-9609-74dad1e6cf8a"
      },
      "source": [
        "#ejemplo 84\n",
        "aapl['2017-9':'2017-12']"
      ],
      "execution_count": 139,
      "outputs": [
        {
          "output_type": "execute_result",
          "data": {
            "text/plain": [
              "Date\n",
              "2017-09-01    39.141655\n",
              "2017-09-05    38.671623\n",
              "2017-09-06    38.631065\n",
              "2017-09-07    38.475975\n",
              "2017-09-08    37.848476\n",
              "                ...    \n",
              "2017-12-22    41.906773\n",
              "2017-12-26    40.843601\n",
              "2017-12-27    40.850788\n",
              "2017-12-28    40.965721\n",
              "2017-12-29    40.522732\n",
              "Name: Close, Length: 83, dtype: float64"
            ]
          },
          "metadata": {},
          "execution_count": 139
        }
      ]
    },
    {
      "cell_type": "markdown",
      "metadata": {
        "id": "lWwoD39pKNKb"
      },
      "source": [
        ".head(N) and .tail(N) are methods for quickly accessing the first or last N elements."
      ]
    },
    {
      "cell_type": "code",
      "metadata": {
        "colab": {
          "base_uri": "https://localhost:8080/"
        },
        "id": "1eU218ALHW93",
        "outputId": "578943ab-21a7-4ac8-f582-c5818dbbe186"
      },
      "source": [
        "print(aapl.head(5))\n",
        "print(aapl.tail(10))"
      ],
      "execution_count": 279,
      "outputs": [
        {
          "output_type": "stream",
          "name": "stdout",
          "text": [
            "Date\n",
            "2017-01-03    27.372362\n",
            "2017-01-04    27.341728\n",
            "2017-01-05    27.480772\n",
            "2017-01-06    27.787132\n",
            "2017-01-09    28.041649\n",
            "Name: Close, dtype: float64\n",
            "Date\n",
            "2017-12-15    41.657745\n",
            "2017-12-18    42.244404\n",
            "2017-12-19    41.794231\n",
            "2017-12-20    41.748734\n",
            "2017-12-21    41.906773\n",
            "2017-12-22    41.906773\n",
            "2017-12-26    40.843601\n",
            "2017-12-27    40.850784\n",
            "2017-12-28    40.965717\n",
            "2017-12-29    40.522732\n",
            "Name: Close, dtype: float64\n"
          ]
        }
      ]
    },
    {
      "cell_type": "code",
      "metadata": {
        "colab": {
          "base_uri": "https://localhost:8080/"
        },
        "id": "OoAkfbgrk4MR",
        "outputId": "0149e577-0e89-4a91-cf28-de0afd89d36d"
      },
      "source": [
        "#ejemplo 85\n",
        "print(aapl.head(2))\n",
        "print(aapl.tail(3))"
      ],
      "execution_count": 140,
      "outputs": [
        {
          "output_type": "stream",
          "name": "stdout",
          "text": [
            "Date\n",
            "2017-01-03    27.372364\n",
            "2017-01-04    27.341728\n",
            "Name: Close, dtype: float64\n",
            "Date\n",
            "2017-12-27    40.850788\n",
            "2017-12-28    40.965721\n",
            "2017-12-29    40.522732\n",
            "Name: Close, dtype: float64\n"
          ]
        }
      ]
    },
    {
      "cell_type": "markdown",
      "metadata": {
        "id": "IxhKxtj-KQ66"
      },
      "source": [
        "# Resampling\n",
        "**_series.resample(freq)_** is a class called \"DatetimeIndexResampler\" which groups data in a Series object into regular time intervals. The argument \"freq\" determines the length of each interval.\n",
        "\n",
        "**_series.resample.mean()_** is a complete statement that groups data into intervals, and then compute the mean of each interval. For example, if we want to aggregate the daily data into monthly data by mean:"
      ]
    },
    {
      "cell_type": "code",
      "metadata": {
        "colab": {
          "base_uri": "https://localhost:8080/"
        },
        "id": "rAV8NkHkHW93",
        "outputId": "6484bbc9-934e-4496-cf78-c7aff35a6908"
      },
      "source": [
        "by_month = aapl.resample('M').mean()\n",
        "print(by_month)"
      ],
      "execution_count": 282,
      "outputs": [
        {
          "output_type": "stream",
          "name": "stdout",
          "text": [
            "Date\n",
            "2017-01-31    28.178333\n",
            "2017-02-28    31.606276\n",
            "2017-03-31    33.282218\n",
            "2017-04-30    33.819263\n",
            "2017-05-31    36.125682\n",
            "2017-06-30    35.133984\n",
            "2017-07-31    35.245242\n",
            "2017-08-31    37.897228\n",
            "2017-09-30    37.604740\n",
            "2017-10-31    37.654552\n",
            "2017-11-30    41.233915\n",
            "2017-12-31    41.160038\n",
            "Freq: M, Name: Close, dtype: float64\n"
          ]
        }
      ]
    },
    {
      "cell_type": "code",
      "metadata": {
        "colab": {
          "base_uri": "https://localhost:8080/"
        },
        "id": "VJO3Y7KOlKF7",
        "outputId": "6dfb6de0-1da4-40fc-d0ca-7e413b1cc0f3"
      },
      "source": [
        "#ejemplo 86\n",
        "by_month = aapl.resample('9W').mean()\n",
        "print(by_month)"
      ],
      "execution_count": 281,
      "outputs": [
        {
          "output_type": "stream",
          "name": "stdout",
          "text": [
            "Date\n",
            "2017-01-08    27.495499\n",
            "2017-03-12    30.647009\n",
            "2017-05-14    34.120814\n",
            "2017-07-16    35.384033\n",
            "2017-09-17    37.487501\n",
            "2017-11-19    38.486809\n",
            "2018-01-21    41.214838\n",
            "Freq: 9W-SUN, Name: Close, dtype: float64\n"
          ]
        }
      ]
    },
    {
      "cell_type": "markdown",
      "metadata": {
        "id": "QDPfVzBEKV6Q"
      },
      "source": [
        "We can also aggregate the data by week:"
      ]
    },
    {
      "cell_type": "code",
      "metadata": {
        "colab": {
          "base_uri": "https://localhost:8080/"
        },
        "id": "aAP3tKkBHW94",
        "outputId": "ea50476f-800a-48c5-9008-e3a2cd273bf3"
      },
      "source": [
        "by_week = aapl.resample('W').mean()\n",
        "print(by_week.head())"
      ],
      "execution_count": 285,
      "outputs": [
        {
          "output_type": "stream",
          "name": "stdout",
          "text": [
            "Date\n",
            "2017-01-08    27.495499\n",
            "2017-01-15    28.097735\n",
            "2017-01-22    28.266116\n",
            "2017-01-29    28.553981\n",
            "2017-02-05    29.662544\n",
            "Freq: W-SUN, Name: Close, dtype: float64\n"
          ]
        }
      ]
    },
    {
      "cell_type": "code",
      "metadata": {
        "colab": {
          "base_uri": "https://localhost:8080/"
        },
        "id": "tXHAEfUzls_K",
        "outputId": "b46a0032-6440-4a9b-c0c8-2f9af85b2c11"
      },
      "source": [
        "#ejemplo 87\n",
        "by_week = aapl.resample('8W').mean()\n",
        "print(by_week.head(3))\n",
        "print(by_week.tail(3))"
      ],
      "execution_count": 284,
      "outputs": [
        {
          "output_type": "stream",
          "name": "stdout",
          "text": [
            "Date\n",
            "2017-01-08    27.495499\n",
            "2017-03-05    30.346420\n",
            "2017-04-30    33.564025\n",
            "Freq: 8W-SUN, Name: Close, dtype: float64\n",
            "Date\n",
            "2017-10-15    37.647616\n",
            "2017-12-10    40.189889\n",
            "2018-02-04    41.385107\n",
            "Freq: 8W-SUN, Name: Close, dtype: float64\n"
          ]
        }
      ]
    },
    {
      "cell_type": "markdown",
      "metadata": {
        "id": "o_MXSVsILoBS"
      },
      "source": [
        "We can also aggregate the data by month with max:"
      ]
    },
    {
      "cell_type": "code",
      "metadata": {
        "colab": {
          "base_uri": "https://localhost:8080/"
        },
        "id": "gn0wqXBTHW95",
        "outputId": "11aa98dd-889b-48fc-aa4a-b3d5ad64ae12"
      },
      "source": [
        "aapl.resample('M').max()"
      ],
      "execution_count": 286,
      "outputs": [
        {
          "output_type": "execute_result",
          "data": {
            "text/plain": [
              "Date\n",
              "2017-01-31    28.739214\n",
              "2017-02-28    32.451969\n",
              "2017-03-31    34.111126\n",
              "2017-04-30    34.264969\n",
              "2017-05-31    37.099129\n",
              "2017-06-30    36.944649\n",
              "2017-07-31    36.471706\n",
              "2017-08-31    39.129730\n",
              "2017-09-30    39.141659\n",
              "2017-10-31    40.332253\n",
              "2017-11-30    42.050140\n",
              "2017-12-31    42.244404\n",
              "Freq: M, Name: Close, dtype: float64"
            ]
          },
          "metadata": {},
          "execution_count": 286
        }
      ]
    },
    {
      "cell_type": "code",
      "metadata": {
        "colab": {
          "base_uri": "https://localhost:8080/"
        },
        "id": "Bc9EuE-2mUkD",
        "outputId": "f550009d-bf1a-474d-e744-1c6f35a8f6e0"
      },
      "source": [
        "#ejemplo 88\n",
        "aapl.resample('W').max()"
      ],
      "execution_count": 143,
      "outputs": [
        {
          "output_type": "execute_result",
          "data": {
            "text/plain": [
              "Date\n",
              "2017-01-08    27.787130\n",
              "2017-01-15    28.220753\n",
              "2017-01-22    28.279671\n",
              "2017-01-29    28.739210\n",
              "2017-02-05    30.419502\n",
              "2017-02-12    31.341908\n",
              "2017-02-19    32.122978\n",
              "2017-02-26    32.451965\n",
              "2017-03-05    33.086281\n",
              "2017-03-12    33.022381\n",
              "2017-03-19    33.299309\n",
              "2017-03-26    33.481552\n",
              "2017-04-02    34.111130\n",
              "2017-04-09    34.264973\n",
              "2017-04-16    33.886276\n",
              "2017-04-23    33.713505\n",
              "2017-04-30    34.208179\n",
              "2017-05-07    35.256702\n",
              "2017-05-14    37.099129\n",
              "2017-05-21    37.004059\n",
              "2017-05-28    36.597656\n",
              "2017-06-04    36.944641\n",
              "2017-06-11    36.925632\n",
              "2017-06-18    34.838959\n",
              "2017-06-25    34.779541\n",
              "2017-07-02    34.658333\n",
              "2017-07-09    34.266190\n",
              "2017-07-16    35.421230\n",
              "2017-07-23    35.891808\n",
              "2017-07-30    36.471699\n",
              "2017-08-06    37.346294\n",
              "2017-08-13    38.277935\n",
              "2017-08-20    38.557098\n",
              "2017-08-27    38.170563\n",
              "2017-09-03    39.141655\n",
              "2017-09-10    38.671623\n",
              "2017-09-17    38.533230\n",
              "2017-09-24    37.872326\n",
              "2017-10-01    36.798634\n",
              "2017-10-08    37.075405\n",
              "2017-10-15    37.457165\n",
              "2017-10-22    38.287479\n",
              "2017-10-29    38.903065\n",
              "2017-11-05    41.157784\n",
              "2017-11-12    42.050137\n",
              "2017-11-19    41.657742\n",
              "2017-11-26    41.897198\n",
              "2017-12-03    41.686474\n",
              "2017-12-10    40.659222\n",
              "2017-12-17    41.657742\n",
              "2017-12-24    42.244400\n",
              "2017-12-31    40.965721\n",
              "Freq: W-SUN, Name: Close, dtype: float64"
            ]
          },
          "metadata": {},
          "execution_count": 143
        }
      ]
    },
    {
      "cell_type": "markdown",
      "metadata": {
        "id": "Z8r46UFlLdAh"
      },
      "source": [
        "We can choose almost any frequency by using the format 'nf', where 'n' is an integer and 'f' is M for month, W for week and D for day."
      ]
    },
    {
      "cell_type": "code",
      "metadata": {
        "colab": {
          "base_uri": "https://localhost:8080/"
        },
        "id": "kdVB_-JFHW96",
        "outputId": "955e6e59-ddfb-45e9-9165-6bf102364e34"
      },
      "source": [
        "three_day = aapl.resample('3D').mean()\n",
        "two_week = aapl.resample('2W').mean()\n",
        "two_month = aapl.resample('2M').mean()\n",
        "\n",
        "\n",
        "print(three_day)\n",
        "print(two_week)\n",
        "print(two_month )"
      ],
      "execution_count": 287,
      "outputs": [
        {
          "output_type": "stream",
          "name": "stdout",
          "text": [
            "Date\n",
            "2017-01-03    27.398287\n",
            "2017-01-06    27.787132\n",
            "2017-01-09    28.110776\n",
            "2017-01-12    28.078175\n",
            "2017-01-15    28.279669\n",
            "                ...    \n",
            "2017-12-17    42.019318\n",
            "2017-12-20    41.854093\n",
            "2017-12-23          NaN\n",
            "2017-12-26    40.886701\n",
            "2017-12-29    40.522732\n",
            "Freq: 3D, Name: Close, Length: 121, dtype: float64\n",
            "Date\n",
            "2017-01-08    27.495499\n",
            "2017-01-22    28.172571\n",
            "2017-02-05    29.108263\n",
            "2017-02-19    31.516816\n",
            "2017-03-05    32.595558\n",
            "2017-03-19    33.017882\n",
            "2017-04-02    33.625216\n",
            "2017-04-16    33.849730\n",
            "2017-04-30    33.791843\n",
            "2017-05-14    35.697630\n",
            "2017-05-28    36.496176\n",
            "2017-06-11    36.515007\n",
            "2017-06-25    34.529045\n",
            "2017-07-09    34.265134\n",
            "2017-07-23    35.278872\n",
            "2017-08-06    36.272776\n",
            "2017-08-20    37.904118\n",
            "2017-09-03    38.458794\n",
            "2017-09-17    38.282710\n",
            "2017-10-01    36.840875\n",
            "2017-10-15    37.071595\n",
            "2017-10-29    37.757323\n",
            "2017-11-12    41.032238\n",
            "2017-11-26    41.204378\n",
            "2017-12-10    40.867065\n",
            "2017-12-24    41.620866\n",
            "2018-01-07    40.795709\n",
            "Freq: 2W-SUN, Name: Close, dtype: float64\n",
            "Date\n",
            "2017-01-31    28.178333\n",
            "2017-03-31    32.524054\n",
            "2017-05-31    35.056854\n",
            "2017-07-31    35.186964\n",
            "2017-09-30    37.761187\n",
            "2017-11-30    39.402613\n",
            "2018-01-31    41.160038\n",
            "Freq: 2M, Name: Close, dtype: float64\n"
          ]
        }
      ]
    },
    {
      "cell_type": "code",
      "metadata": {
        "colab": {
          "base_uri": "https://localhost:8080/"
        },
        "id": "vaTU_7xGmvP1",
        "outputId": "75be7858-4248-451e-b30e-7bed55d9b379"
      },
      "source": [
        "#ejemplo 89\n",
        "three_day = aapl.resample('28D').mean()\n",
        "two_week = aapl.resample('4W').mean()\n",
        "two_month = aapl.resample('3M').mean()\n",
        "\n",
        "\n",
        "print(three_day)\n",
        "print(two_week)\n",
        "print(two_month )"
      ],
      "execution_count": 144,
      "outputs": [
        {
          "output_type": "stream",
          "name": "stdout",
          "text": [
            "Date\n",
            "2017-01-03    28.156254\n",
            "2017-01-31    31.404920\n",
            "2017-02-28    33.084983\n",
            "2017-03-28    33.817518\n",
            "2017-04-25    35.605699\n",
            "2017-05-23    35.867912\n",
            "2017-06-20    34.562018\n",
            "2017-07-18    36.628511\n",
            "2017-08-15    38.365842\n",
            "2017-09-12    37.114065\n",
            "2017-10-10    38.478715\n",
            "2017-11-07    41.308802\n",
            "2017-12-05    41.199056\n",
            "Freq: 28D, Name: Close, dtype: float64\n",
            "Date\n",
            "2017-01-08    27.495496\n",
            "2017-02-05    28.665041\n",
            "2017-03-05    32.027797\n",
            "2017-04-02    33.321550\n",
            "2017-04-30    33.819262\n",
            "2017-05-28    36.096903\n",
            "2017-06-25    35.469765\n",
            "2017-07-23    34.798680\n",
            "2017-08-20    37.088447\n",
            "2017-09-17    38.375386\n",
            "2017-10-15    36.956235\n",
            "2017-11-12    39.394778\n",
            "2017-12-10    41.026846\n",
            "2018-01-07    41.385108\n",
            "Freq: 4W-SUN, Name: Close, dtype: float64\n",
            "Date\n",
            "2017-01-31    28.178333\n",
            "2017-04-30    32.927479\n",
            "2017-07-31    35.509648\n",
            "2017-10-31    37.725095\n",
            "2018-01-31    41.197878\n",
            "Freq: 3M, Name: Close, dtype: float64\n"
          ]
        }
      ]
    },
    {
      "cell_type": "markdown",
      "metadata": {
        "id": "iy4RqsnwL-Bw"
      },
      "source": [
        "Besides the mean() method, other methods can also be used with the resampler:\n",
        "\n"
      ]
    },
    {
      "cell_type": "code",
      "metadata": {
        "colab": {
          "base_uri": "https://localhost:8080/"
        },
        "id": "DNT8Fx9dHW96",
        "outputId": "0b3f5b69-4657-408e-a5a6-0447ba431e42"
      },
      "source": [
        "std = aapl.resample('W').std()\n",
        "max = aapl.resample('W').max()\n",
        "min = aapl.resample('W').min()\n",
        "\n",
        "\n",
        "print(std)\n",
        "print(max)\n",
        "print(min)"
      ],
      "execution_count": 288,
      "outputs": [
        {
          "output_type": "stream",
          "name": "stdout",
          "text": [
            "Date\n",
            "2017-01-08    0.203367\n",
            "2017-01-15    0.072529\n",
            "2017-01-22    0.025555\n",
            "2017-01-29    0.245289\n",
            "2017-02-05    0.943261\n",
            "2017-02-12    0.251999\n",
            "2017-02-19    0.231391\n",
            "2017-02-26    0.059344\n",
            "2017-03-05    0.340088\n",
            "2017-03-12    0.076286\n",
            "2017-03-19    0.177830\n",
            "2017-03-26    0.157264\n",
            "2017-04-02    0.319806\n",
            "2017-04-09    0.128685\n",
            "2017-04-16    0.212479\n",
            "2017-04-23    0.174670\n",
            "2017-04-30    0.090025\n",
            "2017-05-07    0.235638\n",
            "2017-05-14    0.352980\n",
            "2017-05-21    0.536091\n",
            "2017-05-28    0.060393\n",
            "2017-06-04    0.281223\n",
            "2017-06-11    0.620034\n",
            "2017-06-18    0.382564\n",
            "2017-06-25    0.128896\n",
            "2017-07-02    0.264109\n",
            "2017-07-09    0.158889\n",
            "2017-07-16    0.404280\n",
            "2017-07-23    0.124990\n",
            "2017-07-30    0.384440\n",
            "2017-08-06    0.924391\n",
            "2017-08-13    0.467468\n",
            "2017-08-20    0.435252\n",
            "2017-08-27    0.275766\n",
            "2017-09-03    0.251723\n",
            "2017-09-10    0.381637\n",
            "2017-09-17    0.294140\n",
            "2017-09-24    0.735194\n",
            "2017-10-01    0.354840\n",
            "2017-10-08    0.204858\n",
            "2017-10-15    0.118731\n",
            "2017-10-22    0.516999\n",
            "2017-10-29    0.680455\n",
            "2017-11-05    0.560684\n",
            "2017-11-12    0.190971\n",
            "2017-11-19    0.436198\n",
            "2017-11-26    0.563044\n",
            "2017-12-03    0.427445\n",
            "2017-12-10    0.073131\n",
            "2017-12-17    0.205265\n",
            "2017-12-24    0.194125\n",
            "2017-12-31    0.190391\n",
            "Freq: W-SUN, Name: Close, dtype: float64\n",
            "Date\n",
            "2017-01-08    27.787132\n",
            "2017-01-15    28.220751\n",
            "2017-01-22    28.279669\n",
            "2017-01-29    28.739214\n",
            "2017-02-05    30.419498\n",
            "2017-02-12    31.341906\n",
            "2017-02-19    32.122974\n",
            "2017-02-26    32.451969\n",
            "2017-03-05    33.086285\n",
            "2017-03-12    33.022385\n",
            "2017-03-19    33.299290\n",
            "2017-03-26    33.481552\n",
            "2017-04-02    34.111126\n",
            "2017-04-09    34.264969\n",
            "2017-04-16    33.886292\n",
            "2017-04-23    33.713501\n",
            "2017-04-30    34.208172\n",
            "2017-05-07    35.256691\n",
            "2017-05-14    37.099129\n",
            "2017-05-21    37.004055\n",
            "2017-05-28    36.597660\n",
            "2017-06-04    36.944649\n",
            "2017-06-11    36.925632\n",
            "2017-06-18    34.838955\n",
            "2017-06-25    34.779537\n",
            "2017-07-02    34.658337\n",
            "2017-07-09    34.266186\n",
            "2017-07-16    35.421223\n",
            "2017-07-23    35.891804\n",
            "2017-07-30    36.471706\n",
            "2017-08-06    37.346298\n",
            "2017-08-13    38.277931\n",
            "2017-08-20    38.557102\n",
            "2017-08-27    38.170570\n",
            "2017-09-03    39.141659\n",
            "2017-09-10    38.671619\n",
            "2017-09-17    38.533237\n",
            "2017-09-24    37.872322\n",
            "2017-10-01    36.798630\n",
            "2017-10-08    37.075413\n",
            "2017-10-15    37.457165\n",
            "2017-10-22    38.287487\n",
            "2017-10-29    38.903061\n",
            "2017-11-05    41.157787\n",
            "2017-11-12    42.050140\n",
            "2017-11-19    41.657745\n",
            "2017-11-26    41.897194\n",
            "2017-12-03    41.686478\n",
            "2017-12-10    40.659222\n",
            "2017-12-17    41.657745\n",
            "2017-12-24    42.244404\n",
            "2017-12-31    40.965717\n",
            "Freq: W-SUN, Name: Close, dtype: float64\n",
            "Date\n",
            "2017-01-08    27.341728\n",
            "2017-01-15    28.041649\n",
            "2017-01-22    28.227819\n",
            "2017-01-29    28.272598\n",
            "2017-02-05    28.597815\n",
            "2017-02-12    30.704651\n",
            "2017-02-19    31.547829\n",
            "2017-02-26    32.314697\n",
            "2017-03-05    32.409374\n",
            "2017-03-12    32.823563\n",
            "2017-03-19    32.896938\n",
            "2017-03-26    33.098114\n",
            "2017-04-02    33.344273\n",
            "2017-04-09    33.926514\n",
            "2017-04-16    33.384510\n",
            "2017-04-23    33.296936\n",
            "2017-04-30    33.997520\n",
            "2017-05-07    34.681538\n",
            "2017-05-14    36.215263\n",
            "2017-05-21    35.708801\n",
            "2017-05-28    36.443176\n",
            "2017-06-04    36.305336\n",
            "2017-06-11    35.406971\n",
            "2017-06-18    33.812256\n",
            "2017-06-25    34.463444\n",
            "2017-07-02    34.147362\n",
            "2017-07-09    33.921577\n",
            "2017-07-16    34.475338\n",
            "2017-07-23    35.544811\n",
            "2017-07-30    35.530560\n",
            "2017-08-06    35.347553\n",
            "2017-08-13    37.058708\n",
            "2017-08-20    37.578854\n",
            "2017-08-27    37.509659\n",
            "2017-09-03    38.526085\n",
            "2017-09-10    37.848465\n",
            "2017-09-17    37.764957\n",
            "2017-09-24    36.240330\n",
            "2017-10-01    35.920612\n",
            "2017-10-08    36.619694\n",
            "2017-10-15    37.182777\n",
            "2017-10-22    37.216187\n",
            "2017-10-29    37.261517\n",
            "2017-11-05    39.778706\n",
            "2017-11-12    41.575333\n",
            "2017-11-19    40.486816\n",
            "2017-11-26    40.702324\n",
            "2017-12-03    40.582592\n",
            "2017-12-10    40.470047\n",
            "2017-12-17    41.114189\n",
            "2017-12-24    41.748734\n",
            "2017-12-31    40.522732\n",
            "Freq: W-SUN, Name: Close, dtype: float64\n"
          ]
        }
      ]
    },
    {
      "cell_type": "code",
      "metadata": {
        "colab": {
          "base_uri": "https://localhost:8080/"
        },
        "id": "5vJ1QyqhnU2d",
        "outputId": "8ea53da4-8741-4890-bfd9-6dd78b3528e9"
      },
      "source": [
        "#ejemplo 90\n",
        "std = aapl.resample('M').std()\n",
        "max = aapl.resample('8W').max()\n",
        "min = aapl.resample('8W').min()\n",
        "\n",
        "\n",
        "print(std)\n",
        "print(max)\n",
        "print(min)"
      ],
      "execution_count": 145,
      "outputs": [
        {
          "output_type": "stream",
          "name": "stdout",
          "text": [
            "Date\n",
            "2017-01-31    0.425089\n",
            "2017-02-28    0.773845\n",
            "2017-03-31    0.407926\n",
            "2017-04-30    0.291041\n",
            "2017-05-31    0.760190\n",
            "2017-06-30    1.053870\n",
            "2017-07-31    0.774827\n",
            "2017-08-31    0.767477\n",
            "2017-09-30    0.943682\n",
            "2017-10-31    0.946220\n",
            "2017-11-30    0.638006\n",
            "2017-12-31    0.551569\n",
            "Freq: M, Name: Close, dtype: float64\n",
            "Date\n",
            "2017-01-08    27.787130\n",
            "2017-03-05    33.086281\n",
            "2017-04-30    34.264973\n",
            "2017-06-25    37.099129\n",
            "2017-08-20    38.557098\n",
            "2017-10-15    39.141655\n",
            "2017-12-10    42.050137\n",
            "2018-02-04    42.244400\n",
            "Freq: 8W-SUN, Name: Close, dtype: float64\n",
            "Date\n",
            "2017-01-08    27.341728\n",
            "2017-03-05    28.041647\n",
            "2017-04-30    32.823563\n",
            "2017-06-25    33.812263\n",
            "2017-08-20    33.921589\n",
            "2017-10-15    35.920605\n",
            "2017-12-10    37.216179\n",
            "2018-02-04    40.522732\n",
            "Freq: 8W-SUN, Name: Close, dtype: float64\n"
          ]
        }
      ]
    },
    {
      "cell_type": "markdown",
      "metadata": {
        "id": "uqln0s5DMI3I"
      },
      "source": [
        "Often we want to calculate monthly returns of a stock, based on prices on the last day of each month. To fetch those prices, we use the series.resample.agg() method:"
      ]
    },
    {
      "cell_type": "code",
      "metadata": {
        "colab": {
          "base_uri": "https://localhost:8080/"
        },
        "id": "A6FSYvqbHW97",
        "outputId": "f0575ffe-c4d4-40c9-9463-e836823278d6"
      },
      "source": [
        "last_day = aapl.resample('M').agg(lambda x: x[-1])\n",
        "print(last_day)"
      ],
      "execution_count": 289,
      "outputs": [
        {
          "output_type": "stream",
          "name": "stdout",
          "text": [
            "Date\n",
            "2017-01-31    28.597815\n",
            "2017-02-28    32.423565\n",
            "2017-03-31    34.002258\n",
            "2017-04-30    33.999886\n",
            "2017-05-31    36.305336\n",
            "2017-06-30    34.228168\n",
            "2017-07-31    35.347553\n",
            "2017-08-31    39.129730\n",
            "2017-09-30    36.772388\n",
            "2017-10-31    40.332253\n",
            "2017-11-30    41.150093\n",
            "2017-12-31    40.522732\n",
            "Freq: M, Name: Close, dtype: float64\n"
          ]
        }
      ]
    },
    {
      "cell_type": "code",
      "metadata": {
        "colab": {
          "base_uri": "https://localhost:8080/"
        },
        "id": "qPjGT1iooL1j",
        "outputId": "db9d93d7-419d-4ba6-dca9-9a588d746ebf"
      },
      "source": [
        "#ejemlo 91\n",
        "last_day = aapl.resample('8W').agg(lambda x: x[-1])\n",
        "print(last_day)"
      ],
      "execution_count": 146,
      "outputs": [
        {
          "output_type": "stream",
          "name": "stdout",
          "text": [
            "Date\n",
            "2017-01-08    27.787130\n",
            "2017-03-05    33.083916\n",
            "2017-04-30    33.999889\n",
            "2017-06-25    34.765285\n",
            "2017-08-20    37.578850\n",
            "2017-10-15    37.457165\n",
            "2017-12-10    40.556259\n",
            "2018-02-04    40.522732\n",
            "Freq: 8W-SUN, Name: Close, dtype: float64\n"
          ]
        }
      ]
    },
    {
      "cell_type": "markdown",
      "metadata": {
        "id": "uwomY3aXMR46"
      },
      "source": [
        "Or directly calculate the monthly rates of return using the data for the first day and the last day:"
      ]
    },
    {
      "cell_type": "code",
      "metadata": {
        "colab": {
          "base_uri": "https://localhost:8080/"
        },
        "id": "qK2NMJrNHW96",
        "outputId": "61515af7-e2a1-4260-df45-6473f24f3fe3"
      },
      "source": [
        "monthly_return = aapl.resample('M').agg(lambda x: x[-1]/x[0] - 1)\n",
        "print(monthly_return)"
      ],
      "execution_count": 290,
      "outputs": [
        {
          "output_type": "stream",
          "name": "stdout",
          "text": [
            "Date\n",
            "2017-01-31    0.044770\n",
            "2017-02-28    0.068613\n",
            "2017-03-31    0.027684\n",
            "2017-04-30   -0.000348\n",
            "2017-05-31    0.046463\n",
            "2017-06-30   -0.059799\n",
            "2017-07-31    0.036446\n",
            "2017-08-31    0.097261\n",
            "2017-09-30   -0.060531\n",
            "2017-10-31    0.099018\n",
            "2017-11-30    0.033422\n",
            "2017-12-31   -0.010640\n",
            "Freq: M, Name: Close, dtype: float64\n"
          ]
        }
      ]
    },
    {
      "cell_type": "code",
      "metadata": {
        "colab": {
          "base_uri": "https://localhost:8080/"
        },
        "id": "bB7T1wyoo8Y7",
        "outputId": "f604f385-3167-4700-ce93-adf443e05ee9"
      },
      "source": [
        "#ejemplo 92\n",
        "monthly_return = aapl.resample('8W').agg(lambda x: x[-1]*x[0]-8 )\n",
        "print(monthly_return)"
      ],
      "execution_count": 147,
      "outputs": [
        {
          "output_type": "stream",
          "name": "stdout",
          "text": [
            "Date\n",
            "2017-01-08     752.599448\n",
            "2017-03-05     919.727484\n",
            "2017-04-30    1113.308684\n",
            "2017-06-25    1198.125206\n",
            "2017-08-20    1294.330688\n",
            "2017-10-15    1397.005470\n",
            "2017-12-10    1539.087989\n",
            "2018-02-04    1667.471445\n",
            "Freq: 8W-SUN, Name: Close, dtype: float64\n"
          ]
        }
      ]
    },
    {
      "cell_type": "markdown",
      "metadata": {
        "id": "_DYbMTFWMj8J"
      },
      "source": [
        "Series object also provides us some convenient methods to do some quick calculation."
      ]
    },
    {
      "cell_type": "code",
      "metadata": {
        "colab": {
          "base_uri": "https://localhost:8080/"
        },
        "id": "1Mxc0HwvHW98",
        "outputId": "9620f12e-8467-4f2d-821f-8c8bb467fa24"
      },
      "source": [
        "print(monthly_return.mean())\n",
        "print(monthly_return.std())\n",
        "print(monthly_return.max())"
      ],
      "execution_count": 291,
      "outputs": [
        {
          "output_type": "stream",
          "name": "stdout",
          "text": [
            "0.026863268386694034\n",
            "0.05225863632361363\n",
            "0.0990184997868564\n"
          ]
        }
      ]
    },
    {
      "cell_type": "code",
      "metadata": {
        "colab": {
          "base_uri": "https://localhost:8080/"
        },
        "id": "I4Bcl2IopLJw",
        "outputId": "520983d2-75ad-48d5-94d3-c3143922a1de"
      },
      "source": [
        "#ejemplo 93\n",
        "print(monthly_return.mean())\n",
        "print(monthly_return.std())\n",
        "print(monthly_return.max())"
      ],
      "execution_count": 148,
      "outputs": [
        {
          "output_type": "stream",
          "name": "stdout",
          "text": [
            "1235.2070518883002\n",
            "306.487518892641\n",
            "1667.4714452583867\n"
          ]
        }
      ]
    },
    {
      "cell_type": "markdown",
      "metadata": {
        "id": "mn59J5dqMpqX"
      },
      "source": [
        "Another two methods frequently used on Series are .diff() and .pct_change(). The former calculates the difference between consecutive elements, and the latter calculates the percentage change."
      ]
    },
    {
      "cell_type": "code",
      "metadata": {
        "colab": {
          "base_uri": "https://localhost:8080/"
        },
        "id": "DupZTSqqHW99",
        "outputId": "1295cf55-00d5-4cb9-9634-07a220a96a12"
      },
      "source": [
        "print(last_day.diff())\n",
        "print(last_day.pct_change())"
      ],
      "execution_count": 292,
      "outputs": [
        {
          "output_type": "stream",
          "name": "stdout",
          "text": [
            "Date\n",
            "2017-01-31         NaN\n",
            "2017-02-28    3.825750\n",
            "2017-03-31    1.578693\n",
            "2017-04-30   -0.002373\n",
            "2017-05-31    2.305450\n",
            "2017-06-30   -2.077168\n",
            "2017-07-31    1.119385\n",
            "2017-08-31    3.782177\n",
            "2017-09-30   -2.357342\n",
            "2017-10-31    3.559864\n",
            "2017-11-30    0.817841\n",
            "2017-12-31   -0.627361\n",
            "Freq: M, Name: Close, dtype: float64\n",
            "Date\n",
            "2017-01-31         NaN\n",
            "2017-02-28    0.133778\n",
            "2017-03-31    0.048690\n",
            "2017-04-30   -0.000070\n",
            "2017-05-31    0.067808\n",
            "2017-06-30   -0.057214\n",
            "2017-07-31    0.032704\n",
            "2017-08-31    0.107000\n",
            "2017-09-30   -0.060244\n",
            "2017-10-31    0.096808\n",
            "2017-11-30    0.020278\n",
            "2017-12-31   -0.015246\n",
            "Freq: M, Name: Close, dtype: float64\n"
          ]
        }
      ]
    },
    {
      "cell_type": "code",
      "metadata": {
        "colab": {
          "base_uri": "https://localhost:8080/"
        },
        "id": "GQHvwcY7pjxB",
        "outputId": "5e68c178-e66a-4d9b-b816-83db6f2716ec"
      },
      "source": [
        "#ejemplo 94\n",
        "print(last_day.diff())\n",
        "print(last_day.pct_change())"
      ],
      "execution_count": 149,
      "outputs": [
        {
          "output_type": "stream",
          "name": "stdout",
          "text": [
            "Date\n",
            "2017-01-08         NaN\n",
            "2017-03-05    5.296785\n",
            "2017-04-30    0.915974\n",
            "2017-06-25    0.765396\n",
            "2017-08-20    2.813564\n",
            "2017-10-15   -0.121685\n",
            "2017-12-10    3.099094\n",
            "2018-02-04   -0.033527\n",
            "Freq: 8W-SUN, Name: Close, dtype: float64\n",
            "Date\n",
            "2017-01-08         NaN\n",
            "2017-03-05    0.190620\n",
            "2017-04-30    0.027686\n",
            "2017-06-25    0.022512\n",
            "2017-08-20    0.080930\n",
            "2017-10-15   -0.003238\n",
            "2017-12-10    0.082737\n",
            "2018-02-04   -0.000827\n",
            "Freq: 8W-SUN, Name: Close, dtype: float64\n"
          ]
        }
      ]
    },
    {
      "cell_type": "markdown",
      "metadata": {
        "id": "RaMAOFepM6Io"
      },
      "source": [
        "Notice that we induced a NaN value while calculating percentage changes i.e. returns.\n",
        "\n",
        "When dealing with NaN values, we usually either removing the data point or fill it with a specific value. Here we fill it with 0:"
      ]
    },
    {
      "cell_type": "code",
      "metadata": {
        "colab": {
          "base_uri": "https://localhost:8080/"
        },
        "id": "-xyLb3A3HW99",
        "outputId": "f46d2246-37ce-466b-93c8-3c9405be554c"
      },
      "source": [
        "daily_return = last_day.pct_change()\n",
        "print(daily_return.fillna(0))"
      ],
      "execution_count": 293,
      "outputs": [
        {
          "output_type": "stream",
          "name": "stdout",
          "text": [
            "Date\n",
            "2017-01-31    0.000000\n",
            "2017-02-28    0.133778\n",
            "2017-03-31    0.048690\n",
            "2017-04-30   -0.000070\n",
            "2017-05-31    0.067808\n",
            "2017-06-30   -0.057214\n",
            "2017-07-31    0.032704\n",
            "2017-08-31    0.107000\n",
            "2017-09-30   -0.060244\n",
            "2017-10-31    0.096808\n",
            "2017-11-30    0.020278\n",
            "2017-12-31   -0.015246\n",
            "Freq: M, Name: Close, dtype: float64\n"
          ]
        }
      ]
    },
    {
      "cell_type": "code",
      "metadata": {
        "colab": {
          "base_uri": "https://localhost:8080/"
        },
        "id": "qCyreT-Kq6xN",
        "outputId": "de7dff46-fc4f-484e-a340-4edbc4a76c55"
      },
      "source": [
        "#ejemplo 95\n",
        "daily_return = last_day.pct_change()\n",
        "print(daily_return.fillna(0))"
      ],
      "execution_count": 150,
      "outputs": [
        {
          "output_type": "stream",
          "name": "stdout",
          "text": [
            "Date\n",
            "2017-01-08    0.000000\n",
            "2017-03-05    0.190620\n",
            "2017-04-30    0.027686\n",
            "2017-06-25    0.022512\n",
            "2017-08-20    0.080930\n",
            "2017-10-15   -0.003238\n",
            "2017-12-10    0.082737\n",
            "2018-02-04   -0.000827\n",
            "Freq: 8W-SUN, Name: Close, dtype: float64\n"
          ]
        }
      ]
    },
    {
      "cell_type": "markdown",
      "metadata": {
        "id": "BYS10Om1NQVC"
      },
      "source": [
        "Alternatively, we can fill a NaN with the next fitted value. This is called 'backward fill', or 'bfill' in short:"
      ]
    },
    {
      "cell_type": "code",
      "metadata": {
        "colab": {
          "base_uri": "https://localhost:8080/"
        },
        "id": "J513kHeKHW9-",
        "outputId": "5f2471da-466b-4c27-9167-cfe50d12e7f0"
      },
      "source": [
        "daily_return = last_day.pct_change()\n",
        "print(daily_return.fillna(method = 'bfill'))"
      ],
      "execution_count": 294,
      "outputs": [
        {
          "output_type": "stream",
          "name": "stdout",
          "text": [
            "Date\n",
            "2017-01-31    0.133778\n",
            "2017-02-28    0.133778\n",
            "2017-03-31    0.048690\n",
            "2017-04-30   -0.000070\n",
            "2017-05-31    0.067808\n",
            "2017-06-30   -0.057214\n",
            "2017-07-31    0.032704\n",
            "2017-08-31    0.107000\n",
            "2017-09-30   -0.060244\n",
            "2017-10-31    0.096808\n",
            "2017-11-30    0.020278\n",
            "2017-12-31   -0.015246\n",
            "Freq: M, Name: Close, dtype: float64\n"
          ]
        }
      ]
    },
    {
      "cell_type": "code",
      "metadata": {
        "colab": {
          "base_uri": "https://localhost:8080/"
        },
        "id": "T5Fsey8_3BUw",
        "outputId": "2e50b5a6-d043-4872-fe67-88c3cb68ceb5"
      },
      "source": [
        "#ejemplo 96\n",
        "daily_return = last_day.pct_change()\n",
        "print(daily_return.fillna(method = 'bfill'))"
      ],
      "execution_count": 152,
      "outputs": [
        {
          "output_type": "stream",
          "name": "stdout",
          "text": [
            "Date\n",
            "2017-01-08    0.190620\n",
            "2017-03-05    0.190620\n",
            "2017-04-30    0.027686\n",
            "2017-06-25    0.022512\n",
            "2017-08-20    0.080930\n",
            "2017-10-15   -0.003238\n",
            "2017-12-10    0.082737\n",
            "2018-02-04   -0.000827\n",
            "Freq: 8W-SUN, Name: Close, dtype: float64\n"
          ]
        }
      ]
    },
    {
      "cell_type": "markdown",
      "metadata": {
        "id": "bj8QUSgdNepf"
      },
      "source": [
        "As expected, since there is a 'backward fill' method, there must be a 'forward fill' method, or 'ffill' in short. However we can't use it here because the NaN is the first value.\n",
        "\n",
        "We can also simply remove NaN values by **_.dropna()_**"
      ]
    },
    {
      "cell_type": "code",
      "metadata": {
        "colab": {
          "base_uri": "https://localhost:8080/"
        },
        "id": "WG5ux1lqHW9-",
        "outputId": "3d25db18-6ab1-4083-8837-54aea36e8ede"
      },
      "source": [
        "daily_return = last_day.pct_change()\n",
        "daily_return.dropna()"
      ],
      "execution_count": 295,
      "outputs": [
        {
          "output_type": "execute_result",
          "data": {
            "text/plain": [
              "Date\n",
              "2017-02-28    0.133778\n",
              "2017-03-31    0.048690\n",
              "2017-04-30   -0.000070\n",
              "2017-05-31    0.067808\n",
              "2017-06-30   -0.057214\n",
              "2017-07-31    0.032704\n",
              "2017-08-31    0.107000\n",
              "2017-09-30   -0.060244\n",
              "2017-10-31    0.096808\n",
              "2017-11-30    0.020278\n",
              "2017-12-31   -0.015246\n",
              "Freq: M, Name: Close, dtype: float64"
            ]
          },
          "metadata": {},
          "execution_count": 295
        }
      ]
    },
    {
      "cell_type": "code",
      "metadata": {
        "colab": {
          "base_uri": "https://localhost:8080/"
        },
        "id": "PHc5JBuN3Sij",
        "outputId": "8b2a1250-4c63-4c22-81b3-eb427b883902"
      },
      "source": [
        "#ejemplo 97\n",
        "daily_return = last_day.pct_change()\n",
        "daily_return.dropna()"
      ],
      "execution_count": 153,
      "outputs": [
        {
          "output_type": "execute_result",
          "data": {
            "text/plain": [
              "Date\n",
              "2017-03-05    0.190620\n",
              "2017-04-30    0.027686\n",
              "2017-06-25    0.022512\n",
              "2017-08-20    0.080930\n",
              "2017-10-15   -0.003238\n",
              "2017-12-10    0.082737\n",
              "2018-02-04   -0.000827\n",
              "Freq: 8W-SUN, Name: Close, dtype: float64"
            ]
          },
          "metadata": {},
          "execution_count": 153
        }
      ]
    },
    {
      "cell_type": "markdown",
      "metadata": {
        "id": "nQH2eBWkNjdC"
      },
      "source": [
        "# DataFrame\n",
        "The **DataFrame** is the most commonly used data structure in Pandas. It is essentially a table, just like an Excel spreadsheet.\n",
        "\n",
        "More precisely, a DataFrame is a collection of Series objects, each of which may contain different data types. A DataFrame can be created from various data types: dictionary, 2-D numpy.ndarray, a Series or another DataFrame.\n",
        "\n",
        "## Create DataFrames\n",
        "The most common method of creating a DataFrame is passing a dictionary:"
      ]
    },
    {
      "cell_type": "code",
      "metadata": {
        "colab": {
          "base_uri": "https://localhost:8080/"
        },
        "id": "vd5Wf1ohHW9-",
        "outputId": "5700b50d-ea8b-4996-9ed6-dec6f31e9c85"
      },
      "source": [
        "import pandas as pd\n",
        "\n",
        "dict = {'AAPL': [143.5, 144.09, 142.73, 144.18, 143.77],'GOOG':[898.7, 911.71, 906.69, 918.59, 926.99],\n",
        "        'IBM':[155.58, 153.67, 152.36, 152.94, 153.49]}\n",
        "data_index = pd.date_range('2017-07-03',periods = 5, freq = 'D')\n",
        "df = pd.DataFrame(dict, index = data_index)\n",
        "print(df)"
      ],
      "execution_count": 296,
      "outputs": [
        {
          "output_type": "stream",
          "name": "stdout",
          "text": [
            "              AAPL    GOOG     IBM\n",
            "2017-07-03  143.50  898.70  155.58\n",
            "2017-07-04  144.09  911.71  153.67\n",
            "2017-07-05  142.73  906.69  152.36\n",
            "2017-07-06  144.18  918.59  152.94\n",
            "2017-07-07  143.77  926.99  153.49\n"
          ]
        }
      ]
    },
    {
      "cell_type": "code",
      "metadata": {
        "colab": {
          "base_uri": "https://localhost:8080/"
        },
        "id": "hnDu_NbF3enK",
        "outputId": "1d5d9032-c9ad-4ad6-9f3b-a853a1510dd1"
      },
      "source": [
        "#ejemplo 98\n",
        "import pandas as pd\n",
        "\n",
        "dict = {'AAPL': [153.5, 188.09, 112.73, 194.18, 93.77],'GOOG':[89.7, 91.71, 96.69, 98.59, 76.99],\n",
        "        'IBM':[15.58, 353.67, 352.36, 552.94, 653.49]}\n",
        "data_index = pd.date_range('2017-06-03',periods = 5, freq = 'M')\n",
        "df = pd.DataFrame(dict, index = data_index)\n",
        "print(df)"
      ],
      "execution_count": 156,
      "outputs": [
        {
          "output_type": "stream",
          "name": "stdout",
          "text": [
            "              AAPL   GOOG     IBM\n",
            "2017-06-30  153.50  89.70   15.58\n",
            "2017-07-31  188.09  91.71  353.67\n",
            "2017-08-31  112.73  96.69  352.36\n",
            "2017-09-30  194.18  98.59  552.94\n",
            "2017-10-31   93.77  76.99  653.49\n"
          ]
        }
      ]
    },
    {
      "cell_type": "markdown",
      "metadata": {
        "id": "0uYmLQTgOPnX"
      },
      "source": [
        "## Manipulating DataFrames\n",
        "We can fetch values in a DataFrame by columns and index. Each column in a DataFrame is essentially a Pandas Series. We can fetch a column by square brackets: **df['column_name']**\n",
        "\n",
        "If a column name contains no spaces, then we can also use df.column_name to fetch a column:"
      ]
    },
    {
      "cell_type": "code",
      "metadata": {
        "colab": {
          "base_uri": "https://localhost:8080/"
        },
        "id": "2pB2f7lBHW9_",
        "outputId": "0f91ea5c-65ec-4670-9bff-53b59717200e"
      },
      "source": [
        "df = aapl_table\n",
        "print(df.Close.tail(5))\n",
        "print(df['Volume'].tail(5))"
      ],
      "execution_count": 297,
      "outputs": [
        {
          "output_type": "stream",
          "name": "stdout",
          "text": [
            "Date\n",
            "2017-12-22    41.906773\n",
            "2017-12-26    40.843601\n",
            "2017-12-27    40.850784\n",
            "2017-12-28    40.965717\n",
            "2017-12-29    40.522732\n",
            "Name: Close, dtype: float64\n",
            "Date\n",
            "2017-12-22     65397600\n",
            "2017-12-26    132742000\n",
            "2017-12-27     85992800\n",
            "2017-12-28     65920800\n",
            "2017-12-29    103999600\n",
            "Name: Volume, dtype: int64\n"
          ]
        }
      ]
    },
    {
      "cell_type": "code",
      "metadata": {
        "colab": {
          "base_uri": "https://localhost:8080/"
        },
        "id": "CmHZA2kB32_O",
        "outputId": "b7c84e14-3be7-4a66-e2d0-8497be612e09"
      },
      "source": [
        "#ejemplo 99\n",
        "df = aapl_table\n",
        "print(df.Close.tail(6))\n",
        "print(df['Volume'].tail(6))"
      ],
      "execution_count": 158,
      "outputs": [
        {
          "output_type": "stream",
          "name": "stdout",
          "text": [
            "Date\n",
            "2017-12-21    41.906773\n",
            "2017-12-22    41.906773\n",
            "2017-12-26    40.843601\n",
            "2017-12-27    40.850788\n",
            "2017-12-28    40.965721\n",
            "2017-12-29    40.522732\n",
            "Name: Close, dtype: float64\n",
            "Date\n",
            "2017-12-21     83799600\n",
            "2017-12-22     65397600\n",
            "2017-12-26    132742000\n",
            "2017-12-27     85992800\n",
            "2017-12-28     65920800\n",
            "2017-12-29    103999600\n",
            "Name: Volume, dtype: int64\n"
          ]
        }
      ]
    },
    {
      "cell_type": "markdown",
      "metadata": {
        "id": "z0ugOel9O4-P"
      },
      "source": [
        "All the methods we applied to a Series index such as iloc[], loc[] and resampling methods, can also be applied to a DataFrame:"
      ]
    },
    {
      "cell_type": "code",
      "metadata": {
        "colab": {
          "base_uri": "https://localhost:8080/"
        },
        "id": "_8dfjkedHW9_",
        "outputId": "216a7394-e079-464d-e276-0c3d0308653d"
      },
      "source": [
        "aapl_2016 = df['2016']\n",
        "aapl_month = aapl_2016.resample('2M').agg(lambda x: x[-1])\n",
        "print(aapl_month)"
      ],
      "execution_count": 299,
      "outputs": [
        {
          "output_type": "stream",
          "name": "stdout",
          "text": [
            "                 Open       High        Low  ...     Volume  Dividends  Stock Splits\n",
            "Date                                         ...                                    \n",
            "2016-01-31  21.852386  22.440248  21.750950  ...  257666000        0.0             0\n",
            "2016-03-31  25.431518  25.473240  25.236817  ...  103553600        0.0             0\n",
            "2016-05-31  23.226407  23.412965  23.044514  ...  169228800        0.0             0\n",
            "2016-07-31  24.296780  24.380731  24.177849  ...  110934800        0.0             0\n",
            "2016-09-30  26.367382  26.580742  26.212639  ...  145516400        0.0             0\n",
            "2016-11-30  26.300090  26.441488  25.986656  ...  144649200        0.0             0\n",
            "2017-01-31  27.490193  27.619807  27.202683  ...  122345200        0.0             0\n",
            "\n",
            "[7 rows x 7 columns]\n"
          ]
        }
      ]
    },
    {
      "cell_type": "code",
      "metadata": {
        "colab": {
          "base_uri": "https://localhost:8080/"
        },
        "id": "NiMJD45U4OyA",
        "outputId": "fd7a7d82-89a7-44b3-c7ba-ff03c64808ac"
      },
      "source": [
        "#ejemplo 100\n",
        "aapl_2017 = df['2017']\n",
        "aapl_month = aapl_2017.resample('M').agg(lambda x: x[-1])\n",
        "print(aapl_month)"
      ],
      "execution_count": 164,
      "outputs": [
        {
          "output_type": "stream",
          "name": "stdout",
          "text": [
            "                 Open       High        Low  ...     Volume  Dividends  Stock Splits\n",
            "Date                                         ...                                    \n",
            "2017-01-31  28.550684  28.607243  28.425783  ...  196804000        0.0             0\n",
            "2017-02-28  32.444862  32.530069  32.354920  ...   93931600        0.0             0\n",
            "2017-03-31  34.016451  34.146629  33.848403  ...   78646800        0.0             0\n",
            "2017-04-30  34.104032  34.153737  33.909951  ...   83441600        0.0             0\n",
            "2017-05-31  36.592909  36.640441  36.215027  ...   97804800        0.0             0\n",
            "2017-06-30  34.330362  34.451572  34.171128  ...   92096400        0.0             0\n",
            "2017-07-31  35.625622  35.727819  35.204962  ...   79383600        0.0             0\n",
            "2017-08-31  39.043832  39.253797  39.005656  ...  107140400        0.0             0\n",
            "2017-09-30  36.555277  36.774784  36.266574  ...  105199200        0.0             0\n",
            "2017-10-31  40.060250  40.477792  39.831199  ...  144187200        0.0             0\n",
            "2017-11-30  40.810073  41.219541  40.333563  ...  166108800        0.0             0\n",
            "2017-12-31  40.831629  40.848389  40.520339  ...  103999600        0.0             0\n",
            "\n",
            "[12 rows x 7 columns]\n"
          ]
        }
      ]
    },
    {
      "cell_type": "markdown",
      "metadata": {
        "id": "CqrbrbFZPTJe"
      },
      "source": [
        "We may select certain columns of a DataFrame using their names:"
      ]
    },
    {
      "cell_type": "code",
      "metadata": {
        "colab": {
          "base_uri": "https://localhost:8080/"
        },
        "id": "7bQGeyCAHW9_",
        "outputId": "ad79ee26-bd95-4a73-bf8c-72a1266e356e"
      },
      "source": [
        "aapl_bar = aapl_month[['Open', 'High', 'Low', 'Close']]\n",
        "print(aapl_bar)"
      ],
      "execution_count": 300,
      "outputs": [
        {
          "output_type": "stream",
          "name": "stdout",
          "text": [
            "                 Open       High        Low      Close\n",
            "Date                                                  \n",
            "2016-01-31  21.852386  22.440248  21.750950  22.440248\n",
            "2016-03-31  25.431518  25.473240  25.236817  25.262314\n",
            "2016-05-31  23.226407  23.412965  23.044514  23.287039\n",
            "2016-07-31  24.296780  24.380731  24.177849  24.301443\n",
            "2016-09-30  26.367382  26.580742  26.212639  26.505714\n",
            "2016-11-30  26.300090  26.441488  25.986656  26.045572\n",
            "2017-01-31  27.490193  27.619807  27.202683  27.294592\n"
          ]
        }
      ]
    },
    {
      "cell_type": "code",
      "metadata": {
        "colab": {
          "base_uri": "https://localhost:8080/"
        },
        "id": "VALiqHz048QH",
        "outputId": "817f153c-5f3e-4fcb-80d9-b63766368234"
      },
      "source": [
        "#ejemplo 101\n",
        "aapl_bar = aapl_month[['Open', 'High', 'Low', 'Close']]\n",
        "print(aapl_bar)"
      ],
      "execution_count": 165,
      "outputs": [
        {
          "output_type": "stream",
          "name": "stdout",
          "text": [
            "                 Open       High        Low      Close\n",
            "Date                                                  \n",
            "2017-01-31  28.550684  28.607243  28.425783  28.597816\n",
            "2017-02-28  32.444862  32.530069  32.354920  32.423561\n",
            "2017-03-31  34.016451  34.146629  33.848403  34.002251\n",
            "2017-04-30  34.104032  34.153737  33.909951  33.999889\n",
            "2017-05-31  36.592909  36.640441  36.215027  36.305336\n",
            "2017-06-30  34.330362  34.451572  34.171128  34.228168\n",
            "2017-07-31  35.625622  35.727819  35.204962  35.347557\n",
            "2017-08-31  39.043832  39.253797  39.005656  39.129726\n",
            "2017-09-30  36.555277  36.774784  36.266574  36.772396\n",
            "2017-10-31  40.060250  40.477792  39.831199  40.332249\n",
            "2017-11-30  40.810073  41.219541  40.333563  41.150101\n",
            "2017-12-31  40.831629  40.848389  40.520339  40.522732\n"
          ]
        }
      ]
    },
    {
      "cell_type": "markdown",
      "metadata": {
        "id": "8CQaZCAQP68O"
      },
      "source": [
        "We can even specify both rows and columns using loc[]. The row indices and column names are separated by a comma:"
      ]
    },
    {
      "cell_type": "code",
      "metadata": {
        "colab": {
          "base_uri": "https://localhost:8080/"
        },
        "id": "YjWWiHVpHW-A",
        "outputId": "7dc0617e-1f19-405a-f412-464f757d8390"
      },
      "source": [
        "print(aapl_month.loc['2016-03':'2016-06',['Open', 'High', 'Low', 'Close']])"
      ],
      "execution_count": 301,
      "outputs": [
        {
          "output_type": "stream",
          "name": "stdout",
          "text": [
            "                 Open       High        Low      Close\n",
            "Date                                                  \n",
            "2016-03-31  25.431518  25.473240  25.236817  25.262314\n",
            "2016-05-31  23.226407  23.412965  23.044514  23.287039\n"
          ]
        }
      ]
    },
    {
      "cell_type": "code",
      "metadata": {
        "id": "jquncWxQ5lTH"
      },
      "source": [
        "#ejemplo 102\n",
        "print(aapl_month.loc['2016-03':'2016-06',['Open', 'High', 'Low', 'Close']])"
      ],
      "execution_count": null,
      "outputs": []
    },
    {
      "cell_type": "markdown",
      "metadata": {
        "id": "Xcn_pHNLQBEH"
      },
      "source": [
        "The subset methods in DataFrame is quite useful. By writing logical statements in square brackets, we can make customized subsets:"
      ]
    },
    {
      "cell_type": "code",
      "metadata": {
        "colab": {
          "base_uri": "https://localhost:8080/"
        },
        "id": "RxKg4dObHW-A",
        "outputId": "bd60b2fc-d5e6-480c-d97e-bc7467b178cf"
      },
      "source": [
        "import numpy as np\n",
        "\n",
        "above = aapl_bar[aapl_bar.Close > np.mean(aapl_bar.Close)]\n",
        "print(above)"
      ],
      "execution_count": 302,
      "outputs": [
        {
          "output_type": "stream",
          "name": "stdout",
          "text": [
            "                 Open       High        Low      Close\n",
            "Date                                                  \n",
            "2016-03-31  25.431518  25.473240  25.236817  25.262314\n",
            "2016-09-30  26.367382  26.580742  26.212639  26.505714\n",
            "2016-11-30  26.300090  26.441488  25.986656  26.045572\n",
            "2017-01-31  27.490193  27.619807  27.202683  27.294592\n"
          ]
        }
      ]
    },
    {
      "cell_type": "code",
      "metadata": {
        "colab": {
          "base_uri": "https://localhost:8080/"
        },
        "id": "cP5Ap_jA5xw9",
        "outputId": "08119458-c0e3-4437-ef0f-8014964ea806"
      },
      "source": [
        "#ejemplo 103\n",
        "import numpy as np\n",
        "\n",
        "above = aapl_bar[aapl_bar.Close > np.mean(aapl_bar.Close)]\n",
        "print(above)"
      ],
      "execution_count": 167,
      "outputs": [
        {
          "output_type": "stream",
          "name": "stdout",
          "text": [
            "                 Open       High        Low      Close\n",
            "Date                                                  \n",
            "2017-05-31  36.592909  36.640441  36.215027  36.305336\n",
            "2017-08-31  39.043832  39.253797  39.005656  39.129726\n",
            "2017-09-30  36.555277  36.774784  36.266574  36.772396\n",
            "2017-10-31  40.060250  40.477792  39.831199  40.332249\n",
            "2017-11-30  40.810073  41.219541  40.333563  41.150101\n",
            "2017-12-31  40.831629  40.848389  40.520339  40.522732\n"
          ]
        }
      ]
    },
    {
      "cell_type": "markdown",
      "metadata": {
        "id": "wcm_UadkQLL5"
      },
      "source": [
        "## Data Validation\n",
        "As mentioned, all methods that apply to a Series can also be applied to a DataFrame. Here we add a new column to an existing DataFrame:"
      ]
    },
    {
      "cell_type": "code",
      "metadata": {
        "colab": {
          "base_uri": "https://localhost:8080/"
        },
        "id": "jZXFdOVFHW-A",
        "outputId": "b7aeb395-4713-4f5a-f88f-e101a5d869af"
      },
      "source": [
        "aapl_bar['rate_return'] = aapl_bar.Close.pct_change()\n",
        "print(aapl_bar)"
      ],
      "execution_count": 303,
      "outputs": [
        {
          "output_type": "stream",
          "name": "stdout",
          "text": [
            "                 Open       High        Low      Close  rate_return\n",
            "Date                                                               \n",
            "2016-01-31  21.852386  22.440248  21.750950  22.440248          NaN\n",
            "2016-03-31  25.431518  25.473240  25.236817  25.262314     0.125759\n",
            "2016-05-31  23.226407  23.412965  23.044514  23.287039    -0.078191\n",
            "2016-07-31  24.296780  24.380731  24.177849  24.301443     0.043561\n",
            "2016-09-30  26.367382  26.580742  26.212639  26.505714     0.090705\n",
            "2016-11-30  26.300090  26.441488  25.986656  26.045572    -0.017360\n",
            "2017-01-31  27.490193  27.619807  27.202683  27.294592     0.047955\n"
          ]
        },
        {
          "output_type": "stream",
          "name": "stderr",
          "text": [
            "/usr/local/lib/python3.7/dist-packages/ipykernel_launcher.py:1: SettingWithCopyWarning: \n",
            "A value is trying to be set on a copy of a slice from a DataFrame.\n",
            "Try using .loc[row_indexer,col_indexer] = value instead\n",
            "\n",
            "See the caveats in the documentation: https://pandas.pydata.org/pandas-docs/stable/user_guide/indexing.html#returning-a-view-versus-a-copy\n",
            "  \"\"\"Entry point for launching an IPython kernel.\n"
          ]
        }
      ]
    },
    {
      "cell_type": "code",
      "metadata": {
        "colab": {
          "base_uri": "https://localhost:8080/"
        },
        "id": "zwXrqjN854js",
        "outputId": "b40f86f3-b0bb-4785-8efc-baca260a54c1"
      },
      "source": [
        "#ejemplo 104\n",
        "aapl_bar['rate_return'] = aapl_bar.Close.pct_change()\n",
        "print(aapl_bar)"
      ],
      "execution_count": 168,
      "outputs": [
        {
          "output_type": "stream",
          "name": "stdout",
          "text": [
            "                 Open       High        Low      Close  rate_return\n",
            "Date                                                               \n",
            "2017-01-31  28.550684  28.607243  28.425783  28.597816          NaN\n",
            "2017-02-28  32.444862  32.530069  32.354920  32.423561     0.133778\n",
            "2017-03-31  34.016451  34.146629  33.848403  34.002251     0.048690\n",
            "2017-04-30  34.104032  34.153737  33.909951  33.999889    -0.000069\n",
            "2017-05-31  36.592909  36.640441  36.215027  36.305336     0.067807\n",
            "2017-06-30  34.330362  34.451572  34.171128  34.228168    -0.057214\n",
            "2017-07-31  35.625622  35.727819  35.204962  35.347557     0.032704\n",
            "2017-08-31  39.043832  39.253797  39.005656  39.129726     0.106999\n",
            "2017-09-30  36.555277  36.774784  36.266574  36.772396    -0.060244\n",
            "2017-10-31  40.060250  40.477792  39.831199  40.332249     0.096808\n",
            "2017-11-30  40.810073  41.219541  40.333563  41.150101     0.020278\n",
            "2017-12-31  40.831629  40.848389  40.520339  40.522732    -0.015246\n"
          ]
        },
        {
          "output_type": "stream",
          "name": "stderr",
          "text": [
            "/usr/local/lib/python3.7/dist-packages/ipykernel_launcher.py:1: SettingWithCopyWarning: \n",
            "A value is trying to be set on a copy of a slice from a DataFrame.\n",
            "Try using .loc[row_indexer,col_indexer] = value instead\n",
            "\n",
            "See the caveats in the documentation: https://pandas.pydata.org/pandas-docs/stable/user_guide/indexing.html#returning-a-view-versus-a-copy\n",
            "  \"\"\"Entry point for launching an IPython kernel.\n"
          ]
        }
      ]
    },
    {
      "cell_type": "markdown",
      "metadata": {
        "id": "_or6n5-LQUa-"
      },
      "source": [
        "Here the calculation introduced a NaN value. If the DataFrame is large, we would not be able to observe it. **isnull()** provides a convenient way to check abnormal values."
      ]
    },
    {
      "cell_type": "code",
      "metadata": {
        "colab": {
          "base_uri": "https://localhost:8080/"
        },
        "id": "V5wgmhIPHW-B",
        "outputId": "01b76e30-4ec5-44b3-f441-7122e6d18df5"
      },
      "source": [
        "missing = aapl_bar.isnull()\n",
        "print(missing)\n",
        "print('---------------------------------------------')\n",
        "print(missing.describe())"
      ],
      "execution_count": 304,
      "outputs": [
        {
          "output_type": "stream",
          "name": "stdout",
          "text": [
            "             Open   High    Low  Close  rate_return\n",
            "Date                                               \n",
            "2016-01-31  False  False  False  False         True\n",
            "2016-03-31  False  False  False  False        False\n",
            "2016-05-31  False  False  False  False        False\n",
            "2016-07-31  False  False  False  False        False\n",
            "2016-09-30  False  False  False  False        False\n",
            "2016-11-30  False  False  False  False        False\n",
            "2017-01-31  False  False  False  False        False\n",
            "---------------------------------------------\n",
            "         Open   High    Low  Close rate_return\n",
            "count       7      7      7      7           7\n",
            "unique      1      1      1      1           2\n",
            "top     False  False  False  False       False\n",
            "freq        7      7      7      7           6\n"
          ]
        }
      ]
    },
    {
      "cell_type": "code",
      "metadata": {
        "colab": {
          "base_uri": "https://localhost:8080/"
        },
        "id": "Fwrj9HW16mF1",
        "outputId": "59bd6157-eb62-4213-a680-a8c65e9ee303"
      },
      "source": [
        "#ejemplo 105\n",
        "missing = aapl_bar.isnull()\n",
        "print(missing)\n",
        "print('---------------------------------------------')\n",
        "print(missing.describe())"
      ],
      "execution_count": 169,
      "outputs": [
        {
          "output_type": "stream",
          "name": "stdout",
          "text": [
            "             Open   High    Low  Close  rate_return\n",
            "Date                                               \n",
            "2017-01-31  False  False  False  False         True\n",
            "2017-02-28  False  False  False  False        False\n",
            "2017-03-31  False  False  False  False        False\n",
            "2017-04-30  False  False  False  False        False\n",
            "2017-05-31  False  False  False  False        False\n",
            "2017-06-30  False  False  False  False        False\n",
            "2017-07-31  False  False  False  False        False\n",
            "2017-08-31  False  False  False  False        False\n",
            "2017-09-30  False  False  False  False        False\n",
            "2017-10-31  False  False  False  False        False\n",
            "2017-11-30  False  False  False  False        False\n",
            "2017-12-31  False  False  False  False        False\n",
            "---------------------------------------------\n",
            "         Open   High    Low  Close rate_return\n",
            "count      12     12     12     12          12\n",
            "unique      1      1      1      1           2\n",
            "top     False  False  False  False       False\n",
            "freq       12     12     12     12          11\n"
          ]
        }
      ]
    },
    {
      "cell_type": "markdown",
      "metadata": {
        "id": "d6KFV4i0QfLW"
      },
      "source": [
        "The row labelled \"unique\" indicates the number of unique values in each column. Since the \"rate_return\" column has 2 unique values, it has at least one missing value.\n",
        "\n",
        "We can deduce the number of missing values by comparing \"count\" with \"freq\". There are 12 counts and 11 False values, so there is one True value which corresponds to the missing value.\n",
        "\n",
        "We can also find the rows with missing values easily:"
      ]
    },
    {
      "cell_type": "code",
      "metadata": {
        "colab": {
          "base_uri": "https://localhost:8080/"
        },
        "id": "Eo0ZAhCsHW-B",
        "outputId": "b3c2d490-bf33-462f-acad-4a504b97cc56"
      },
      "source": [
        "print(missing[missing.rate_return == True])"
      ],
      "execution_count": 305,
      "outputs": [
        {
          "output_type": "stream",
          "name": "stdout",
          "text": [
            "             Open   High    Low  Close  rate_return\n",
            "Date                                               \n",
            "2016-01-31  False  False  False  False         True\n"
          ]
        }
      ]
    },
    {
      "cell_type": "code",
      "metadata": {
        "colab": {
          "base_uri": "https://localhost:8080/"
        },
        "id": "8tsTZs307X0d",
        "outputId": "139f8dec-991e-4840-e21f-5ddca3a62870"
      },
      "source": [
        "#ejemplo 106\n",
        "print(missing[missing.rate_return == True])"
      ],
      "execution_count": 170,
      "outputs": [
        {
          "output_type": "stream",
          "name": "stdout",
          "text": [
            "             Open   High    Low  Close  rate_return\n",
            "Date                                               \n",
            "2017-01-31  False  False  False  False         True\n"
          ]
        }
      ]
    },
    {
      "cell_type": "markdown",
      "metadata": {
        "id": "qgggpD8OQkZX"
      },
      "source": [
        "Usually when dealing with missing data, we either delete the whole row or fill it with some value. As we introduced in the Series chapter, the same method **dropna()** and **fillna()** can be applied to a DataFrame."
      ]
    },
    {
      "cell_type": "code",
      "metadata": {
        "colab": {
          "base_uri": "https://localhost:8080/"
        },
        "id": "j8PaIokjHW-B",
        "outputId": "6ba22ac3-e5da-4517-f0fb-e16a78e94eec"
      },
      "source": [
        "drop = aapl_bar.dropna()\n",
        "print(drop)\n",
        "print('\\n--------------------------------------------------\\n')\n",
        "fill = aapl_bar.fillna(0)\n",
        "print(fill)"
      ],
      "execution_count": 306,
      "outputs": [
        {
          "output_type": "stream",
          "name": "stdout",
          "text": [
            "                 Open       High        Low      Close  rate_return\n",
            "Date                                                               \n",
            "2016-03-31  25.431518  25.473240  25.236817  25.262314     0.125759\n",
            "2016-05-31  23.226407  23.412965  23.044514  23.287039    -0.078191\n",
            "2016-07-31  24.296780  24.380731  24.177849  24.301443     0.043561\n",
            "2016-09-30  26.367382  26.580742  26.212639  26.505714     0.090705\n",
            "2016-11-30  26.300090  26.441488  25.986656  26.045572    -0.017360\n",
            "2017-01-31  27.490193  27.619807  27.202683  27.294592     0.047955\n",
            "\n",
            "--------------------------------------------------\n",
            "\n",
            "                 Open       High        Low      Close  rate_return\n",
            "Date                                                               \n",
            "2016-01-31  21.852386  22.440248  21.750950  22.440248     0.000000\n",
            "2016-03-31  25.431518  25.473240  25.236817  25.262314     0.125759\n",
            "2016-05-31  23.226407  23.412965  23.044514  23.287039    -0.078191\n",
            "2016-07-31  24.296780  24.380731  24.177849  24.301443     0.043561\n",
            "2016-09-30  26.367382  26.580742  26.212639  26.505714     0.090705\n",
            "2016-11-30  26.300090  26.441488  25.986656  26.045572    -0.017360\n",
            "2017-01-31  27.490193  27.619807  27.202683  27.294592     0.047955\n"
          ]
        }
      ]
    },
    {
      "cell_type": "code",
      "metadata": {
        "colab": {
          "base_uri": "https://localhost:8080/"
        },
        "id": "YG0XcClK7wx1",
        "outputId": "9ad3b7a4-5817-4926-8de2-74e67730398b"
      },
      "source": [
        "#ejemplo 107\n",
        "drop = aapl_bar.dropna()\n",
        "print(drop)\n",
        "print('\\n--------------------------------------------------\\n')\n",
        "fill = aapl_bar.fillna(0 )\n",
        "print(fill)"
      ],
      "execution_count": 173,
      "outputs": [
        {
          "output_type": "stream",
          "name": "stdout",
          "text": [
            "                 Open       High        Low      Close  rate_return\n",
            "Date                                                               \n",
            "2017-02-28  32.444862  32.530069  32.354920  32.423561     0.133778\n",
            "2017-03-31  34.016451  34.146629  33.848403  34.002251     0.048690\n",
            "2017-04-30  34.104032  34.153737  33.909951  33.999889    -0.000069\n",
            "2017-05-31  36.592909  36.640441  36.215027  36.305336     0.067807\n",
            "2017-06-30  34.330362  34.451572  34.171128  34.228168    -0.057214\n",
            "2017-07-31  35.625622  35.727819  35.204962  35.347557     0.032704\n",
            "2017-08-31  39.043832  39.253797  39.005656  39.129726     0.106999\n",
            "2017-09-30  36.555277  36.774784  36.266574  36.772396    -0.060244\n",
            "2017-10-31  40.060250  40.477792  39.831199  40.332249     0.096808\n",
            "2017-11-30  40.810073  41.219541  40.333563  41.150101     0.020278\n",
            "2017-12-31  40.831629  40.848389  40.520339  40.522732    -0.015246\n",
            "\n",
            "--------------------------------------------------\n",
            "\n",
            "                 Open       High        Low      Close  rate_return\n",
            "Date                                                               \n",
            "2017-01-31  28.550684  28.607243  28.425783  28.597816     0.000000\n",
            "2017-02-28  32.444862  32.530069  32.354920  32.423561     0.133778\n",
            "2017-03-31  34.016451  34.146629  33.848403  34.002251     0.048690\n",
            "2017-04-30  34.104032  34.153737  33.909951  33.999889    -0.000069\n",
            "2017-05-31  36.592909  36.640441  36.215027  36.305336     0.067807\n",
            "2017-06-30  34.330362  34.451572  34.171128  34.228168    -0.057214\n",
            "2017-07-31  35.625622  35.727819  35.204962  35.347557     0.032704\n",
            "2017-08-31  39.043832  39.253797  39.005656  39.129726     0.106999\n",
            "2017-09-30  36.555277  36.774784  36.266574  36.772396    -0.060244\n",
            "2017-10-31  40.060250  40.477792  39.831199  40.332249     0.096808\n",
            "2017-11-30  40.810073  41.219541  40.333563  41.150101     0.020278\n",
            "2017-12-31  40.831629  40.848389  40.520339  40.522732    -0.015246\n"
          ]
        }
      ]
    },
    {
      "cell_type": "markdown",
      "metadata": {
        "id": "0tvoFlKWQxYG"
      },
      "source": [
        "## DataFrame Concat\n",
        "We have seen how to extract a Series from a dataFrame. Now we need to consider how to merge a Series or a DataFrame into another one.\n",
        "\n",
        "In Pandas, the function **concat()** allows us to merge multiple Series into a DataFrame:"
      ]
    },
    {
      "cell_type": "code",
      "metadata": {
        "colab": {
          "base_uri": "https://localhost:8080/"
        },
        "id": "uQrmLIWKHW-C",
        "outputId": "ecd30020-1422-4ad4-9364-7c92d43c1cb2"
      },
      "source": [
        "s1 = pd.Series([143.5, 144.09, 142.73, 144.18, 143.77], name = 'AAPL')\n",
        "s2 = pd.Series([898.7, 911.71, 906.69, 918.59, 926.99], name = 'GOOG')\n",
        "data_frame = pd.concat([s1,s2], axis = 1)\n",
        "print(data_frame)"
      ],
      "execution_count": 307,
      "outputs": [
        {
          "output_type": "stream",
          "name": "stdout",
          "text": [
            "     AAPL    GOOG\n",
            "0  143.50  898.70\n",
            "1  144.09  911.71\n",
            "2  142.73  906.69\n",
            "3  144.18  918.59\n",
            "4  143.77  926.99\n"
          ]
        }
      ]
    },
    {
      "cell_type": "code",
      "metadata": {
        "colab": {
          "base_uri": "https://localhost:8080/"
        },
        "id": "d-Z10b5z8LIF",
        "outputId": "0fddc8b5-5ae1-4a92-84ee-c99d4c68bb12"
      },
      "source": [
        "#ejemplo 108\n",
        "s1 = pd.Series([163.5, 152.09, 842.73, 264.18, 173.77], name = 'Unal')\n",
        "s2 = pd.Series([152.7, 321.71, 166.69, 678.59, 366.99], name = 'Andes')\n",
        "data_frame = pd.concat([s1,s2], axis = 1)\n",
        "print(data_frame)"
      ],
      "execution_count": 176,
      "outputs": [
        {
          "output_type": "stream",
          "name": "stdout",
          "text": [
            "     Unal   Andes\n",
            "0  163.50  152.70\n",
            "1  152.09  321.71\n",
            "2  842.73  166.69\n",
            "3  264.18  678.59\n",
            "4  173.77  366.99\n"
          ]
        }
      ]
    },
    {
      "cell_type": "markdown",
      "metadata": {
        "id": "3ojbNYJLR2vv"
      },
      "source": [
        "The \"axis = 1\" parameter will join two DataFrames by columns:"
      ]
    },
    {
      "cell_type": "code",
      "metadata": {
        "colab": {
          "base_uri": "https://localhost:8080/"
        },
        "id": "DJsaLd-cRoIm",
        "outputId": "67a06f6e-f92a-49c7-dd3f-35dea7f7a524"
      },
      "source": [
        "log_price = np.log(aapl_bar.Close)\n",
        "log_price.name = 'log_price'\n",
        "print(log_price)\n",
        "print('\\n---------------------- separate line--------------------\\n')\n",
        "concat = pd.concat([aapl_bar, log_price], axis = 1)\n",
        "print(concat)"
      ],
      "execution_count": 308,
      "outputs": [
        {
          "output_type": "stream",
          "name": "stdout",
          "text": [
            "Date\n",
            "2016-01-31    3.110856\n",
            "2016-03-31    3.229314\n",
            "2016-05-31    3.147897\n",
            "2016-07-31    3.190536\n",
            "2016-09-30    3.277360\n",
            "2016-11-30    3.259848\n",
            "2017-01-31    3.306689\n",
            "Freq: 2M, Name: log_price, dtype: float64\n",
            "\n",
            "---------------------- separate line--------------------\n",
            "\n",
            "                 Open       High        Low      Close  rate_return  log_price\n",
            "Date                                                                          \n",
            "2016-01-31  21.852386  22.440248  21.750950  22.440248          NaN   3.110856\n",
            "2016-03-31  25.431518  25.473240  25.236817  25.262314     0.125759   3.229314\n",
            "2016-05-31  23.226407  23.412965  23.044514  23.287039    -0.078191   3.147897\n",
            "2016-07-31  24.296780  24.380731  24.177849  24.301443     0.043561   3.190536\n",
            "2016-09-30  26.367382  26.580742  26.212639  26.505714     0.090705   3.277360\n",
            "2016-11-30  26.300090  26.441488  25.986656  26.045572    -0.017360   3.259848\n",
            "2017-01-31  27.490193  27.619807  27.202683  27.294592     0.047955   3.306689\n"
          ]
        }
      ]
    },
    {
      "cell_type": "code",
      "metadata": {
        "colab": {
          "base_uri": "https://localhost:8080/"
        },
        "id": "s7MeHrrj8j6h",
        "outputId": "5679ae3c-0eb5-4641-eff3-f0d2832b0057"
      },
      "source": [
        "#ejemplo 109\n",
        "log_price = np.log(aapl_bar.Close)\n",
        "log_price.name = 'log_price'\n",
        "print(log_price)\n",
        "print('\\n---------------------- separate line--------------------\\n')\n",
        "concat = pd.concat([aapl_bar, log_price], axis = 1)\n",
        "print(concat)"
      ],
      "execution_count": 178,
      "outputs": [
        {
          "output_type": "stream",
          "name": "stdout",
          "text": [
            "Date\n",
            "2017-01-31    3.353330\n",
            "2017-02-28    3.478885\n",
            "2017-03-31    3.526427\n",
            "2017-04-30    3.526357\n",
            "2017-05-31    3.591965\n",
            "2017-06-30    3.533049\n",
            "2017-07-31    3.565229\n",
            "2017-08-31    3.666882\n",
            "2017-09-30    3.604747\n",
            "2017-10-31    3.697151\n",
            "2017-11-30    3.717226\n",
            "2017-12-31    3.701863\n",
            "Freq: M, Name: log_price, dtype: float64\n",
            "\n",
            "---------------------- separate line--------------------\n",
            "\n",
            "                 Open       High        Low      Close  rate_return  log_price\n",
            "Date                                                                          \n",
            "2017-01-31  28.550684  28.607243  28.425783  28.597816          NaN   3.353330\n",
            "2017-02-28  32.444862  32.530069  32.354920  32.423561     0.133778   3.478885\n",
            "2017-03-31  34.016451  34.146629  33.848403  34.002251     0.048690   3.526427\n",
            "2017-04-30  34.104032  34.153737  33.909951  33.999889    -0.000069   3.526357\n",
            "2017-05-31  36.592909  36.640441  36.215027  36.305336     0.067807   3.591965\n",
            "2017-06-30  34.330362  34.451572  34.171128  34.228168    -0.057214   3.533049\n",
            "2017-07-31  35.625622  35.727819  35.204962  35.347557     0.032704   3.565229\n",
            "2017-08-31  39.043832  39.253797  39.005656  39.129726     0.106999   3.666882\n",
            "2017-09-30  36.555277  36.774784  36.266574  36.772396    -0.060244   3.604747\n",
            "2017-10-31  40.060250  40.477792  39.831199  40.332249     0.096808   3.697151\n",
            "2017-11-30  40.810073  41.219541  40.333563  41.150101     0.020278   3.717226\n",
            "2017-12-31  40.831629  40.848389  40.520339  40.522732    -0.015246   3.701863\n"
          ]
        }
      ]
    },
    {
      "cell_type": "markdown",
      "metadata": {
        "id": "mIZz-FUyR_62"
      },
      "source": [
        "We can also join two DataFrames by rows. Consider these two DataFrames:"
      ]
    },
    {
      "cell_type": "code",
      "metadata": {
        "colab": {
          "base_uri": "https://localhost:8080/"
        },
        "id": "W7uXZptLHW-C",
        "outputId": "8e878612-37e0-4fc4-ce4a-4d08699d82ce"
      },
      "source": [
        "df_volume = aapl_table.loc['2016-10':'2017-04',['Volume', 'Stock Splits']].resample('M').agg(lambda x: x[-1])\n",
        "print(df_volume)\n",
        "print('\\n---------------------- separate line--------------------\\n')\n",
        "df_2017 = aapl_table.loc['2016-10':'2017-04',['Open', 'High', 'Low', 'Close']].resample('M').agg(lambda x: x[-1])\n",
        "print(df_2017)"
      ],
      "execution_count": 309,
      "outputs": [
        {
          "output_type": "stream",
          "name": "stdout",
          "text": [
            "               Volume  Stock Splits\n",
            "Date                               \n",
            "2016-10-31  105677600             0\n",
            "2016-11-30  144649200             0\n",
            "2016-12-31  122345200             0\n",
            "2017-01-31  196804000             0\n",
            "2017-02-28   93931600             0\n",
            "2017-03-31   78646800             0\n",
            "2017-04-30   83441600             0\n",
            "\n",
            "---------------------- separate line--------------------\n",
            "\n",
            "                 Open       High        Low      Close\n",
            "Date                                                  \n",
            "2016-10-31  26.646394  26.782382  26.540886  26.620604\n",
            "2016-11-30  26.300090  26.441488  25.986656  26.045572\n",
            "2016-12-31  27.490193  27.619807  27.202683  27.294592\n",
            "2017-01-31  28.550682  28.607241  28.425781  28.597815\n",
            "2017-02-28  32.444866  32.530073  32.354924  32.423565\n",
            "2017-03-31  34.016459  34.146637  33.848410  34.002258\n",
            "2017-04-30  34.104028  34.153733  33.909947  33.999886\n"
          ]
        }
      ]
    },
    {
      "cell_type": "code",
      "metadata": {
        "colab": {
          "base_uri": "https://localhost:8080/"
        },
        "id": "I3IfyUnb87TB",
        "outputId": "12ac910c-0db4-4b69-dde1-19e3ff181b63"
      },
      "source": [
        "#ejemplo 110 \n",
        "df_volume = aapl_table.loc['2017-09':'2017-12',['Volume', 'Stock Splits']].resample('M').agg(lambda x: x[-1])\n",
        "print(df_volume)\n",
        "print('\\n---------------------- separate line--------------------\\n')\n",
        "df_2017 = aapl_table.loc['2017-2':'2017-04',['Open', 'High', 'Low', 'Close']].resample('M').agg(lambda x: x[-1])\n",
        "print(df_2017)"
      ],
      "execution_count": 183,
      "outputs": [
        {
          "output_type": "stream",
          "name": "stdout",
          "text": [
            "               Volume  Stock Splits\n",
            "Date                               \n",
            "2017-09-30  105199200             0\n",
            "2017-10-31  144187200             0\n",
            "2017-11-30  166108800             0\n",
            "2017-12-31  103999600             0\n",
            "\n",
            "---------------------- separate line--------------------\n",
            "\n",
            "                 Open       High        Low      Close\n",
            "Date                                                  \n",
            "2017-02-28  32.444862  32.530069  32.354920  32.423561\n",
            "2017-03-31  34.016451  34.146629  33.848403  34.002251\n",
            "2017-04-30  34.104032  34.153737  33.909951  33.999889\n"
          ]
        }
      ]
    },
    {
      "cell_type": "markdown",
      "metadata": {
        "id": "iZk_C9aSSLeP"
      },
      "source": [
        "Now we merge the DataFrames with our DataFrame 'aapl_bar'"
      ]
    },
    {
      "cell_type": "code",
      "metadata": {
        "colab": {
          "base_uri": "https://localhost:8080/"
        },
        "id": "aFqmjokOHW-C",
        "outputId": "0d22c1af-9226-459b-b03b-c9088dc32740"
      },
      "source": [
        "concat = pd.concat([aapl_bar, df_volume], axis = 1)\n",
        "print(concat)"
      ],
      "execution_count": 310,
      "outputs": [
        {
          "output_type": "stream",
          "name": "stdout",
          "text": [
            "                 Open       High  ...       Volume  Stock Splits\n",
            "Date                              ...                           \n",
            "2016-01-31  21.852386  22.440248  ...          NaN           NaN\n",
            "2016-03-31  25.431518  25.473240  ...          NaN           NaN\n",
            "2016-05-31  23.226407  23.412965  ...          NaN           NaN\n",
            "2016-07-31  24.296780  24.380731  ...          NaN           NaN\n",
            "2016-09-30  26.367382  26.580742  ...          NaN           NaN\n",
            "2016-10-31        NaN        NaN  ...  105677600.0           0.0\n",
            "2016-11-30  26.300090  26.441488  ...  144649200.0           0.0\n",
            "2016-12-31        NaN        NaN  ...  122345200.0           0.0\n",
            "2017-01-31  27.490193  27.619807  ...  196804000.0           0.0\n",
            "2017-02-28        NaN        NaN  ...   93931600.0           0.0\n",
            "2017-03-31        NaN        NaN  ...   78646800.0           0.0\n",
            "2017-04-30        NaN        NaN  ...   83441600.0           0.0\n",
            "\n",
            "[12 rows x 7 columns]\n"
          ]
        }
      ]
    },
    {
      "cell_type": "code",
      "metadata": {
        "colab": {
          "base_uri": "https://localhost:8080/"
        },
        "id": "AuurxLwQ9hzZ",
        "outputId": "9a3adc33-d883-4c38-a111-67ca193fbd5c"
      },
      "source": [
        "#ejemplo 111\n",
        "concat = pd.concat([aapl_bar, df_volume], axis = 1)\n",
        "print(concat)"
      ],
      "execution_count": 187,
      "outputs": [
        {
          "output_type": "stream",
          "name": "stdout",
          "text": [
            "                 Open       High  ...       Volume  Stock Splits\n",
            "Date                              ...                           \n",
            "2017-01-31  28.550684  28.607243  ...          NaN           NaN\n",
            "2017-02-28  32.444862  32.530069  ...          NaN           NaN\n",
            "2017-03-31  34.016451  34.146629  ...          NaN           NaN\n",
            "2017-04-30  34.104032  34.153737  ...          NaN           NaN\n",
            "2017-05-31  36.592909  36.640441  ...          NaN           NaN\n",
            "2017-06-30  34.330362  34.451572  ...          NaN           NaN\n",
            "2017-07-31  35.625622  35.727819  ...          NaN           NaN\n",
            "2017-08-31  39.043832  39.253797  ...          NaN           NaN\n",
            "2017-09-30  36.555277  36.774784  ...  105199200.0           0.0\n",
            "2017-10-31  40.060250  40.477792  ...  144187200.0           0.0\n",
            "2017-11-30  40.810073  41.219541  ...  166108800.0           0.0\n",
            "2017-12-31  40.831629  40.848389  ...  103999600.0           0.0\n",
            "\n",
            "[12 rows x 7 columns]\n"
          ]
        }
      ]
    },
    {
      "cell_type": "markdown",
      "metadata": {
        "id": "7yI3tgB4SR4O"
      },
      "source": [
        "By default the DataFrame are joined with all of the data. This default options results in zero information loss. We can also merge them by intersection, this is called 'inner join"
      ]
    },
    {
      "cell_type": "code",
      "metadata": {
        "colab": {
          "base_uri": "https://localhost:8080/"
        },
        "id": "31QGLyijHW-C",
        "outputId": "d363744c-09a0-4ecf-ecd4-f64a002df5bb"
      },
      "source": [
        "concat = pd.concat([aapl_bar,df_volume],axis = 1, join = 'inner')\n",
        "print(concat)"
      ],
      "execution_count": 311,
      "outputs": [
        {
          "output_type": "stream",
          "name": "stdout",
          "text": [
            "                 Open       High  ...     Volume  Stock Splits\n",
            "Date                              ...                         \n",
            "2016-11-30  26.300090  26.441488  ...  144649200             0\n",
            "2017-01-31  27.490193  27.619807  ...  196804000             0\n",
            "\n",
            "[2 rows x 7 columns]\n"
          ]
        }
      ]
    },
    {
      "cell_type": "code",
      "metadata": {
        "colab": {
          "base_uri": "https://localhost:8080/"
        },
        "id": "t1Z4mOJx91Fy",
        "outputId": "ec396fbd-10b0-4c57-e793-b6a1f2d96e27"
      },
      "source": [
        "#ejemplo 112\n",
        "concat = pd.concat([aapl_bar,df_volume],axis = 1, join = 'inner')\n",
        "print(concat)"
      ],
      "execution_count": 188,
      "outputs": [
        {
          "output_type": "stream",
          "name": "stdout",
          "text": [
            "                 Open       High  ...     Volume  Stock Splits\n",
            "Date                              ...                         \n",
            "2017-09-30  36.555277  36.774784  ...  105199200             0\n",
            "2017-10-31  40.060250  40.477792  ...  144187200             0\n",
            "2017-11-30  40.810073  41.219541  ...  166108800             0\n",
            "2017-12-31  40.831629  40.848389  ...  103999600             0\n",
            "\n",
            "[4 rows x 7 columns]\n"
          ]
        }
      ]
    },
    {
      "cell_type": "markdown",
      "metadata": {
        "id": "oudcWMm5Sd0u"
      },
      "source": [
        "Only the intersection part was left if use 'inner join' method. Now let's try to append a DataFrame to another one:"
      ]
    },
    {
      "cell_type": "code",
      "metadata": {
        "colab": {
          "base_uri": "https://localhost:8080/"
        },
        "id": "lgw0qaOsHW-D",
        "outputId": "94f40717-6582-4f53-d884-7215ba4f4376"
      },
      "source": [
        "append = aapl_bar.append(df_2017)\n",
        "print(append)"
      ],
      "execution_count": 312,
      "outputs": [
        {
          "output_type": "stream",
          "name": "stdout",
          "text": [
            "                 Open       High        Low      Close  rate_return\n",
            "Date                                                               \n",
            "2016-01-31  21.852386  22.440248  21.750950  22.440248          NaN\n",
            "2016-03-31  25.431518  25.473240  25.236817  25.262314     0.125759\n",
            "2016-05-31  23.226407  23.412965  23.044514  23.287039    -0.078191\n",
            "2016-07-31  24.296780  24.380731  24.177849  24.301443     0.043561\n",
            "2016-09-30  26.367382  26.580742  26.212639  26.505714     0.090705\n",
            "2016-11-30  26.300090  26.441488  25.986656  26.045572    -0.017360\n",
            "2017-01-31  27.490193  27.619807  27.202683  27.294592     0.047955\n",
            "2016-10-31  26.646394  26.782382  26.540886  26.620604          NaN\n",
            "2016-11-30  26.300090  26.441488  25.986656  26.045572          NaN\n",
            "2016-12-31  27.490193  27.619807  27.202683  27.294592          NaN\n",
            "2017-01-31  28.550682  28.607241  28.425781  28.597815          NaN\n",
            "2017-02-28  32.444866  32.530073  32.354924  32.423565          NaN\n",
            "2017-03-31  34.016459  34.146637  33.848410  34.002258          NaN\n",
            "2017-04-30  34.104028  34.153733  33.909947  33.999886          NaN\n"
          ]
        }
      ]
    },
    {
      "cell_type": "code",
      "metadata": {
        "colab": {
          "base_uri": "https://localhost:8080/"
        },
        "id": "-ct8qBrr97qv",
        "outputId": "5ccca27a-a764-4704-8c8a-d884020075f8"
      },
      "source": [
        "#ejemplo 113\n",
        "append = aapl_bar.append(df_2017)\n",
        "print(append)"
      ],
      "execution_count": 189,
      "outputs": [
        {
          "output_type": "stream",
          "name": "stdout",
          "text": [
            "                 Open       High        Low      Close  rate_return\n",
            "Date                                                               \n",
            "2017-01-31  28.550684  28.607243  28.425783  28.597816          NaN\n",
            "2017-02-28  32.444862  32.530069  32.354920  32.423561     0.133778\n",
            "2017-03-31  34.016451  34.146629  33.848403  34.002251     0.048690\n",
            "2017-04-30  34.104032  34.153737  33.909951  33.999889    -0.000069\n",
            "2017-05-31  36.592909  36.640441  36.215027  36.305336     0.067807\n",
            "2017-06-30  34.330362  34.451572  34.171128  34.228168    -0.057214\n",
            "2017-07-31  35.625622  35.727819  35.204962  35.347557     0.032704\n",
            "2017-08-31  39.043832  39.253797  39.005656  39.129726     0.106999\n",
            "2017-09-30  36.555277  36.774784  36.266574  36.772396    -0.060244\n",
            "2017-10-31  40.060250  40.477792  39.831199  40.332249     0.096808\n",
            "2017-11-30  40.810073  41.219541  40.333563  41.150101     0.020278\n",
            "2017-12-31  40.831629  40.848389  40.520339  40.522732    -0.015246\n",
            "2017-02-28  32.444862  32.530069  32.354920  32.423561          NaN\n",
            "2017-03-31  34.016451  34.146629  33.848403  34.002251          NaN\n",
            "2017-04-30  34.104032  34.153737  33.909951  33.999889          NaN\n"
          ]
        }
      ]
    },
    {
      "cell_type": "markdown",
      "metadata": {
        "id": "zXT6cMquSq_P"
      },
      "source": [
        "'Append' is essentially to concat two DataFrames by axis = 0, thus here is an alternative way to append:"
      ]
    },
    {
      "cell_type": "code",
      "metadata": {
        "colab": {
          "base_uri": "https://localhost:8080/"
        },
        "id": "2EuSaFO9HW-D",
        "outputId": "433ddf23-3dad-4d18-f0a1-fcd541861ba9"
      },
      "source": [
        "concat = pd.concat([aapl_bar, df_2017], axis = 0)\n",
        "print(concat)"
      ],
      "execution_count": 313,
      "outputs": [
        {
          "output_type": "stream",
          "name": "stdout",
          "text": [
            "                 Open       High        Low      Close  rate_return\n",
            "Date                                                               \n",
            "2016-01-31  21.852386  22.440248  21.750950  22.440248          NaN\n",
            "2016-03-31  25.431518  25.473240  25.236817  25.262314     0.125759\n",
            "2016-05-31  23.226407  23.412965  23.044514  23.287039    -0.078191\n",
            "2016-07-31  24.296780  24.380731  24.177849  24.301443     0.043561\n",
            "2016-09-30  26.367382  26.580742  26.212639  26.505714     0.090705\n",
            "2016-11-30  26.300090  26.441488  25.986656  26.045572    -0.017360\n",
            "2017-01-31  27.490193  27.619807  27.202683  27.294592     0.047955\n",
            "2016-10-31  26.646394  26.782382  26.540886  26.620604          NaN\n",
            "2016-11-30  26.300090  26.441488  25.986656  26.045572          NaN\n",
            "2016-12-31  27.490193  27.619807  27.202683  27.294592          NaN\n",
            "2017-01-31  28.550682  28.607241  28.425781  28.597815          NaN\n",
            "2017-02-28  32.444866  32.530073  32.354924  32.423565          NaN\n",
            "2017-03-31  34.016459  34.146637  33.848410  34.002258          NaN\n",
            "2017-04-30  34.104028  34.153733  33.909947  33.999886          NaN\n"
          ]
        }
      ]
    },
    {
      "cell_type": "code",
      "metadata": {
        "colab": {
          "base_uri": "https://localhost:8080/"
        },
        "id": "6eNv2XCC99wd",
        "outputId": "fe5d115a-d6e0-4a3d-f657-d79633c970b1"
      },
      "source": [
        "#ejemplo 114\n",
        "concat = pd.concat([aapl_bar, df_2017], axis = 0)\n",
        "print(concat)"
      ],
      "execution_count": 190,
      "outputs": [
        {
          "output_type": "stream",
          "name": "stdout",
          "text": [
            "                 Open       High        Low      Close  rate_return\n",
            "Date                                                               \n",
            "2017-01-31  28.550684  28.607243  28.425783  28.597816          NaN\n",
            "2017-02-28  32.444862  32.530069  32.354920  32.423561     0.133778\n",
            "2017-03-31  34.016451  34.146629  33.848403  34.002251     0.048690\n",
            "2017-04-30  34.104032  34.153737  33.909951  33.999889    -0.000069\n",
            "2017-05-31  36.592909  36.640441  36.215027  36.305336     0.067807\n",
            "2017-06-30  34.330362  34.451572  34.171128  34.228168    -0.057214\n",
            "2017-07-31  35.625622  35.727819  35.204962  35.347557     0.032704\n",
            "2017-08-31  39.043832  39.253797  39.005656  39.129726     0.106999\n",
            "2017-09-30  36.555277  36.774784  36.266574  36.772396    -0.060244\n",
            "2017-10-31  40.060250  40.477792  39.831199  40.332249     0.096808\n",
            "2017-11-30  40.810073  41.219541  40.333563  41.150101     0.020278\n",
            "2017-12-31  40.831629  40.848389  40.520339  40.522732    -0.015246\n",
            "2017-02-28  32.444862  32.530069  32.354920  32.423561          NaN\n",
            "2017-03-31  34.016451  34.146629  33.848403  34.002251          NaN\n",
            "2017-04-30  34.104032  34.153737  33.909951  33.999889          NaN\n"
          ]
        }
      ]
    },
    {
      "cell_type": "markdown",
      "metadata": {
        "id": "-YXL7V9ASst9"
      },
      "source": [
        "Please note that if the two DataFrame have some columns with the same column names, these columns are considered to be the same and will be merged. It's very important to have the right column names. If we change a column names here:"
      ]
    },
    {
      "cell_type": "code",
      "metadata": {
        "colab": {
          "base_uri": "https://localhost:8080/"
        },
        "id": "aT1eoa8mHW-D",
        "outputId": "d62e44b7-3f8b-4e86-9f28-5a49d0775533"
      },
      "source": [
        "df_2017.columns = ['Change', 'High','Low','Close']\n",
        "concat = pd.concat([aapl_bar, df_2017], axis = 0)\n",
        "print(concat)"
      ],
      "execution_count": 314,
      "outputs": [
        {
          "output_type": "stream",
          "name": "stdout",
          "text": [
            "                 Open       High        Low      Close  rate_return     Change\n",
            "Date                                                                          \n",
            "2016-01-31  21.852386  22.440248  21.750950  22.440248          NaN        NaN\n",
            "2016-03-31  25.431518  25.473240  25.236817  25.262314     0.125759        NaN\n",
            "2016-05-31  23.226407  23.412965  23.044514  23.287039    -0.078191        NaN\n",
            "2016-07-31  24.296780  24.380731  24.177849  24.301443     0.043561        NaN\n",
            "2016-09-30  26.367382  26.580742  26.212639  26.505714     0.090705        NaN\n",
            "2016-11-30  26.300090  26.441488  25.986656  26.045572    -0.017360        NaN\n",
            "2017-01-31  27.490193  27.619807  27.202683  27.294592     0.047955        NaN\n",
            "2016-10-31        NaN  26.782382  26.540886  26.620604          NaN  26.646394\n",
            "2016-11-30        NaN  26.441488  25.986656  26.045572          NaN  26.300090\n",
            "2016-12-31        NaN  27.619807  27.202683  27.294592          NaN  27.490193\n",
            "2017-01-31        NaN  28.607241  28.425781  28.597815          NaN  28.550682\n",
            "2017-02-28        NaN  32.530073  32.354924  32.423565          NaN  32.444866\n",
            "2017-03-31        NaN  34.146637  33.848410  34.002258          NaN  34.016459\n",
            "2017-04-30        NaN  34.153733  33.909947  33.999886          NaN  34.104028\n"
          ]
        }
      ]
    },
    {
      "cell_type": "code",
      "metadata": {
        "colab": {
          "base_uri": "https://localhost:8080/"
        },
        "id": "l7M2lIAd-FmQ",
        "outputId": "83fca305-fdfb-4a22-8369-5c34a03f8f1e"
      },
      "source": [
        "#ejemplo 115\n",
        "df_2017.columns = ['Change', 'High','Low','Close']\n",
        "concat = pd.concat([aapl_bar, df_2017], axis = 0)\n",
        "print(concat)"
      ],
      "execution_count": 191,
      "outputs": [
        {
          "output_type": "stream",
          "name": "stdout",
          "text": [
            "                 Open       High        Low      Close  rate_return     Change\n",
            "Date                                                                          \n",
            "2017-01-31  28.550684  28.607243  28.425783  28.597816          NaN        NaN\n",
            "2017-02-28  32.444862  32.530069  32.354920  32.423561     0.133778        NaN\n",
            "2017-03-31  34.016451  34.146629  33.848403  34.002251     0.048690        NaN\n",
            "2017-04-30  34.104032  34.153737  33.909951  33.999889    -0.000069        NaN\n",
            "2017-05-31  36.592909  36.640441  36.215027  36.305336     0.067807        NaN\n",
            "2017-06-30  34.330362  34.451572  34.171128  34.228168    -0.057214        NaN\n",
            "2017-07-31  35.625622  35.727819  35.204962  35.347557     0.032704        NaN\n",
            "2017-08-31  39.043832  39.253797  39.005656  39.129726     0.106999        NaN\n",
            "2017-09-30  36.555277  36.774784  36.266574  36.772396    -0.060244        NaN\n",
            "2017-10-31  40.060250  40.477792  39.831199  40.332249     0.096808        NaN\n",
            "2017-11-30  40.810073  41.219541  40.333563  41.150101     0.020278        NaN\n",
            "2017-12-31  40.831629  40.848389  40.520339  40.522732    -0.015246        NaN\n",
            "2017-02-28        NaN  32.530069  32.354920  32.423561          NaN  32.444862\n",
            "2017-03-31        NaN  34.146629  33.848403  34.002251          NaN  34.016451\n",
            "2017-04-30        NaN  34.153737  33.909951  33.999889          NaN  34.104032\n"
          ]
        }
      ]
    },
    {
      "cell_type": "markdown",
      "metadata": {
        "id": "shbpOFyyS6uV"
      },
      "source": [
        "Since the column name of 'Open' has been changed, the new DataFrame has an new column named 'Change'.\n",
        "\n",
        "# Summary\n",
        "\n",
        "Hereby we introduced the most import part of python: resampling and DataFrame manipulation. We only introduced the most commonly used method in Financial data analysis. There are also many methods used in data mining, which are also beneficial. You can always check the [Pandas](https://pandas.pydata.org/pandas-docs/stable/index.html) official documentations for help."
      ]
    }
  ]
}